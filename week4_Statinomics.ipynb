{
  "nbformat": 4,
  "nbformat_minor": 0,
  "metadata": {
    "colab": {
      "name": "week4_Statinomics.ipynb",
      "provenance": [],
      "collapsed_sections": []
    },
    "kernelspec": {
      "display_name": "Python 3",
      "name": "python3"
    }
  },
  "cells": [
    {
      "cell_type": "code",
      "metadata": {
        "id": "JR2Q0zTIBBn_"
      },
      "source": [
        "def ecdf(data):\n",
        "    \"\"\"Compute ECDF for a one-dimensional array of measurements.\"\"\"\n",
        "    # Number of data points: n\n",
        "    n = len(data)\n",
        "\n",
        "    # x-data for the ECDF: x\n",
        "    x = np.sort(data)\n",
        "\n",
        "    # y-data for the ECDF: y\n",
        "    y = np.arange(1, n+1) / n\n",
        "\n",
        "    return x, y"
      ],
      "execution_count": 1,
      "outputs": []
    },
    {
      "cell_type": "code",
      "metadata": {
        "id": "JBiHo5DpBLvq"
      },
      "source": [
        "import pandas as pd\n",
        "import numpy as np\n",
        "import matplotlib.pyplot as plt"
      ],
      "execution_count": 2,
      "outputs": []
    },
    {
      "cell_type": "code",
      "metadata": {
        "colab": {
          "base_uri": "https://localhost:8080/",
          "height": 204
        },
        "id": "aEGQCgXgBUz8",
        "outputId": "3707eec9-28ff-4468-f04d-fb9bb9143f6b"
      },
      "source": [
        "df=pd.read_excel('Week4_Hack.xlsx')\n",
        "df.head()"
      ],
      "execution_count": 3,
      "outputs": [
        {
          "output_type": "execute_result",
          "data": {
            "text/html": [
              "<div>\n",
              "<style scoped>\n",
              "    .dataframe tbody tr th:only-of-type {\n",
              "        vertical-align: middle;\n",
              "    }\n",
              "\n",
              "    .dataframe tbody tr th {\n",
              "        vertical-align: top;\n",
              "    }\n",
              "\n",
              "    .dataframe thead th {\n",
              "        text-align: right;\n",
              "    }\n",
              "</style>\n",
              "<table border=\"1\" class=\"dataframe\">\n",
              "  <thead>\n",
              "    <tr style=\"text-align: right;\">\n",
              "      <th></th>\n",
              "      <th>Days</th>\n",
              "      <th>M1</th>\n",
              "      <th>T1</th>\n",
              "      <th>W1</th>\n",
              "      <th>TH1</th>\n",
              "      <th>F1</th>\n",
              "      <th>M2</th>\n",
              "      <th>T2</th>\n",
              "      <th>W2</th>\n",
              "      <th>TH2</th>\n",
              "      <th>F2</th>\n",
              "      <th>M3</th>\n",
              "      <th>T3</th>\n",
              "      <th>W3</th>\n",
              "      <th>TH3</th>\n",
              "      <th>F3</th>\n",
              "      <th>M4</th>\n",
              "      <th>T4</th>\n",
              "      <th>W4</th>\n",
              "      <th>TH4</th>\n",
              "      <th>F4</th>\n",
              "    </tr>\n",
              "  </thead>\n",
              "  <tbody>\n",
              "    <tr>\n",
              "      <th>0</th>\n",
              "      <td>1</td>\n",
              "      <td>4</td>\n",
              "      <td>5</td>\n",
              "      <td>5</td>\n",
              "      <td>6</td>\n",
              "      <td>7</td>\n",
              "      <td>1</td>\n",
              "      <td>2</td>\n",
              "      <td>3</td>\n",
              "      <td>4</td>\n",
              "      <td>5</td>\n",
              "      <td>3</td>\n",
              "      <td>4</td>\n",
              "      <td>5</td>\n",
              "      <td>6</td>\n",
              "      <td>7</td>\n",
              "      <td>4.0</td>\n",
              "      <td>5.0</td>\n",
              "      <td>6.0</td>\n",
              "      <td>7.0</td>\n",
              "      <td>7.0</td>\n",
              "    </tr>\n",
              "    <tr>\n",
              "      <th>1</th>\n",
              "      <td>2</td>\n",
              "      <td>1</td>\n",
              "      <td>2</td>\n",
              "      <td>3</td>\n",
              "      <td>4</td>\n",
              "      <td>5</td>\n",
              "      <td>5</td>\n",
              "      <td>5</td>\n",
              "      <td>6</td>\n",
              "      <td>6</td>\n",
              "      <td>7</td>\n",
              "      <td>3</td>\n",
              "      <td>4</td>\n",
              "      <td>5</td>\n",
              "      <td>6</td>\n",
              "      <td>7</td>\n",
              "      <td>6.0</td>\n",
              "      <td>6.0</td>\n",
              "      <td>7.0</td>\n",
              "      <td>7.0</td>\n",
              "      <td>7.0</td>\n",
              "    </tr>\n",
              "    <tr>\n",
              "      <th>2</th>\n",
              "      <td>3</td>\n",
              "      <td>3</td>\n",
              "      <td>4</td>\n",
              "      <td>5</td>\n",
              "      <td>6</td>\n",
              "      <td>7</td>\n",
              "      <td>2</td>\n",
              "      <td>3</td>\n",
              "      <td>4</td>\n",
              "      <td>5</td>\n",
              "      <td>6</td>\n",
              "      <td>5</td>\n",
              "      <td>6</td>\n",
              "      <td>6</td>\n",
              "      <td>7</td>\n",
              "      <td>7</td>\n",
              "      <td>2.0</td>\n",
              "      <td>3.0</td>\n",
              "      <td>NaN</td>\n",
              "      <td>5.0</td>\n",
              "      <td>6.0</td>\n",
              "    </tr>\n",
              "    <tr>\n",
              "      <th>3</th>\n",
              "      <td>4</td>\n",
              "      <td>1</td>\n",
              "      <td>2</td>\n",
              "      <td>3</td>\n",
              "      <td>4</td>\n",
              "      <td>5</td>\n",
              "      <td>1</td>\n",
              "      <td>2</td>\n",
              "      <td>3</td>\n",
              "      <td>4</td>\n",
              "      <td>5</td>\n",
              "      <td>1</td>\n",
              "      <td>2</td>\n",
              "      <td>3</td>\n",
              "      <td>4</td>\n",
              "      <td>5</td>\n",
              "      <td>4.0</td>\n",
              "      <td>5.0</td>\n",
              "      <td>6.0</td>\n",
              "      <td>7.0</td>\n",
              "      <td>7.0</td>\n",
              "    </tr>\n",
              "    <tr>\n",
              "      <th>4</th>\n",
              "      <td>5</td>\n",
              "      <td>2</td>\n",
              "      <td>3</td>\n",
              "      <td>4</td>\n",
              "      <td>5</td>\n",
              "      <td>6</td>\n",
              "      <td>5</td>\n",
              "      <td>5</td>\n",
              "      <td>6</td>\n",
              "      <td>6</td>\n",
              "      <td>7</td>\n",
              "      <td>5</td>\n",
              "      <td>6</td>\n",
              "      <td>6</td>\n",
              "      <td>7</td>\n",
              "      <td>7</td>\n",
              "      <td>NaN</td>\n",
              "      <td>5.0</td>\n",
              "      <td>6.0</td>\n",
              "      <td>7.0</td>\n",
              "      <td>NaN</td>\n",
              "    </tr>\n",
              "  </tbody>\n",
              "</table>\n",
              "</div>"
            ],
            "text/plain": [
              "   Days  M1  T1  W1  TH1  F1  M2  T2  ...  W3  TH3  F3   M4   T4   W4  TH4   F4\n",
              "0     1   4   5   5    6   7   1   2  ...   5    6   7  4.0  5.0  6.0  7.0  7.0\n",
              "1     2   1   2   3    4   5   5   5  ...   5    6   7  6.0  6.0  7.0  7.0  7.0\n",
              "2     3   3   4   5    6   7   2   3  ...   6    7   7  2.0  3.0  NaN  5.0  6.0\n",
              "3     4   1   2   3    4   5   1   2  ...   3    4   5  4.0  5.0  6.0  7.0  7.0\n",
              "4     5   2   3   4    5   6   5   5  ...   6    7   7  NaN  5.0  6.0  7.0  NaN\n",
              "\n",
              "[5 rows x 21 columns]"
            ]
          },
          "metadata": {
            "tags": []
          },
          "execution_count": 3
        }
      ]
    },
    {
      "cell_type": "code",
      "metadata": {
        "id": "FXUoCmuqBZjZ"
      },
      "source": [
        "df1=df[['M4','T4','W4','TH4','F4']]"
      ],
      "execution_count": 4,
      "outputs": []
    },
    {
      "cell_type": "code",
      "metadata": {
        "colab": {
          "base_uri": "https://localhost:8080/",
          "height": 454
        },
        "id": "rHFQmeunBe2F",
        "outputId": "743aaabb-526b-4df6-f412-83e8e86770c0"
      },
      "source": [
        "import missingno as msno \n",
        "  \n",
        "\n",
        "  \n",
        "# Visualize missing values as a matrix \n",
        "msno.matrix(df1)"
      ],
      "execution_count": 5,
      "outputs": [
        {
          "output_type": "execute_result",
          "data": {
            "text/plain": [
              "<matplotlib.axes._subplots.AxesSubplot at 0x7f157fa86d30>"
            ]
          },
          "metadata": {
            "tags": []
          },
          "execution_count": 5
        },
        {
          "output_type": "display_data",
          "data": {
            "image/png": "[encoded data removed]",
            "text/plain": [
              "<Figure size 1800x720 with 2 Axes>"
            ]
          },
          "metadata": {
            "tags": [],
            "needs_background": "light"
          }
        }
      ]
    },
    {
      "cell_type": "code",
      "metadata": {
        "colab": {
          "base_uri": "https://localhost:8080/",
          "height": 486
        },
        "id": "Ku5ZdESFBiEw",
        "outputId": "25aa4bb7-d6e9-4684-966c-3d6b043e994d"
      },
      "source": [
        "msno.bar(df1)"
      ],
      "execution_count": 6,
      "outputs": [
        {
          "output_type": "execute_result",
          "data": {
            "text/plain": [
              "<matplotlib.axes._subplots.AxesSubplot at 0x7f1576b32da0>"
            ]
          },
          "metadata": {
            "tags": []
          },
          "execution_count": 6
        },
        {
          "output_type": "display_data",
          "data": {
            "image/png": "[encoded data removed]",
            "text/plain": [
              "<Figure size 1728x720 with 3 Axes>"
            ]
          },
          "metadata": {
            "tags": [],
            "needs_background": "light"
          }
        }
      ]
    },
    {
      "cell_type": "code",
      "metadata": {
        "colab": {
          "base_uri": "https://localhost:8080/",
          "height": 282
        },
        "id": "vuENmKhtBmPY",
        "outputId": "06b4d3e0-ade8-40cf-9d86-4d49b5306a56"
      },
      "source": [
        "fig = plt.figure()\n",
        "ax = fig.add_subplot(111)\n",
        "df['M4'].plot(kind='kde', ax=ax, color='blue')\n",
        "df['T4'].plot(kind='kde', ax=ax, color='green')\n",
        "df['W4'].plot(kind='kde', ax=ax, color='cyan')\n",
        "df['TH4'].plot(kind='kde', ax=ax, color='red')\n",
        "df['F4'].plot(kind='kde', ax=ax, color='pink')"
      ],
      "execution_count": 7,
      "outputs": [
        {
          "output_type": "execute_result",
          "data": {
            "text/plain": [
              "<matplotlib.axes._subplots.AxesSubplot at 0x7f1576a13cc0>"
            ]
          },
          "metadata": {
            "tags": []
          },
          "execution_count": 7
        },
        {
          "output_type": "display_data",
          "data": {
            "image/png": "[encoded data removed]",
            "text/plain": [
              "<Figure size 432x288 with 1 Axes>"
            ]
          },
          "metadata": {
            "tags": [],
            "needs_background": "light"
          }
        }
      ]
    },
    {
      "cell_type": "code",
      "metadata": {
        "colab": {
          "base_uri": "https://localhost:8080/"
        },
        "id": "Xl1GxY5MGLQy",
        "outputId": "8acbd7da-a770-44bd-a366-9703fe4831b2"
      },
      "source": [
        "from sklearn.experimental import enable_iterative_imputer\n",
        "from sklearn.impute import IterativeImputer\n",
        "imp_mice = IterativeImputer(n_nearest_features=5)\n",
        "df_mice=imp_mice.fit_transform(df1)\n",
        "df_mice=pd.DataFrame(df_mice,columns=df1.columns)"
      ],
      "execution_count": 8,
      "outputs": [
        {
          "output_type": "stream",
          "text": [
            "/usr/local/lib/python3.6/dist-packages/sklearn/impute/_iterative.py:638: ConvergenceWarning: [IterativeImputer] Early stopping criterion not reached.\n",
            "  \" reached.\", ConvergenceWarning)\n"
          ],
          "name": "stderr"
        }
      ]
    },
    {
      "cell_type": "code",
      "metadata": {
        "colab": {
          "base_uri": "https://localhost:8080/",
          "height": 298
        },
        "id": "Fopd-OiTFXkn",
        "outputId": "a675df0d-b76b-4632-af9f-9e84f3102a4b"
      },
      "source": [
        "fig = plt.figure()\n",
        "ax = fig.add_subplot(111)\n",
        "df['M4'].plot(kind='kde', ax=ax, color='blue')\n",
        "df_mice['M4'].plot(kind='kde', ax=ax, color='pink',title='MICE')"
      ],
      "execution_count": 9,
      "outputs": [
        {
          "output_type": "execute_result",
          "data": {
            "text/plain": [
              "<matplotlib.axes._subplots.AxesSubplot at 0x7f1571f46908>"
            ]
          },
          "metadata": {
            "tags": []
          },
          "execution_count": 9
        },
        {
          "output_type": "display_data",
          "data": {
            "image/png": "[encoded data removed]",
            "text/plain": [
              "<Figure size 432x288 with 1 Axes>"
            ]
          },
          "metadata": {
            "tags": [],
            "needs_background": "light"
          }
        }
      ]
    },
    {
      "cell_type": "code",
      "metadata": {
        "id": "dLwrV1WtGw7x"
      },
      "source": [
        "from sklearn.impute import KNNImputer\n",
        "imp_KNN = KNNImputer(n_neighbors=5,weights='uniform')\n",
        "df_KNN=imp_KNN.fit_transform(df1)\n",
        "df_KNN=pd.DataFrame(df_KNN,columns=df1.columns)"
      ],
      "execution_count": 10,
      "outputs": []
    },
    {
      "cell_type": "code",
      "metadata": {
        "colab": {
          "base_uri": "https://localhost:8080/",
          "height": 298
        },
        "id": "Pwk_nVEUG_o8",
        "outputId": "9ccebe73-8421-4674-cd8b-7cb9a961ef3b"
      },
      "source": [
        "fig = plt.figure()\n",
        "ax = fig.add_subplot(111)\n",
        "df['M4'].plot(kind='kde', ax=ax, color='blue')\n",
        "df_KNN['M4'].plot(kind='kde', ax=ax, color='green',title='KNN')"
      ],
      "execution_count": 11,
      "outputs": [
        {
          "output_type": "execute_result",
          "data": {
            "text/plain": [
              "<matplotlib.axes._subplots.AxesSubplot at 0x7f1571f25278>"
            ]
          },
          "metadata": {
            "tags": []
          },
          "execution_count": 11
        },
        {
          "output_type": "display_data",
          "data": {
            "image/png": "[encoded data removed]",
            "text/plain": [
              "<Figure size 432x288 with 1 Axes>"
            ]
          },
          "metadata": {
            "tags": [],
            "needs_background": "light"
          }
        }
      ]
    },
    {
      "cell_type": "code",
      "metadata": {
        "colab": {
          "base_uri": "https://localhost:8080/",
          "height": 279
        },
        "id": "x05ummfFK-qZ",
        "outputId": "48503028-3188-421a-9766-67831ceab5b9"
      },
      "source": [
        "mu = np.mean(df_mice['M4'])\n",
        "sigma = np.std(df_mice['M4'])\n",
        "\n",
        "# Sample out of a normal distribution with this mu and sigma: samples\n",
        "samples_normal = np.random.normal(mu, sigma, size=1000)\n",
        "\n",
        "# Get the CDF of the samples and of the data\n",
        "x_normal, y_normal = ecdf(samples_normal)\n",
        "x, y = ecdf(df_mice['M4'])\n",
        "\n",
        "# Plot the CDFs and show the plot\n",
        "_ = plt.plot(x_normal, y_normal)\n",
        "_ = plt.plot(x, y, marker='.', linestyle='none')\n",
        "_ = plt.xlabel('Mice Monday')\n",
        "_ = plt.ylabel('CDF')\n",
        "plt.show()"
      ],
      "execution_count": 12,
      "outputs": [
        {
          "output_type": "display_data",
          "data": {
            "image/png": "[encoded data removed]",
            "text/plain": [
              "<Figure size 432x288 with 1 Axes>"
            ]
          },
          "metadata": {
            "tags": [],
            "needs_background": "light"
          }
        }
      ]
    },
    {
      "cell_type": "code",
      "metadata": {
        "colab": {
          "base_uri": "https://localhost:8080/"
        },
        "id": "taB6YAK1TZek",
        "outputId": "92e841d3-93ad-4ea3-9f56-98241a9c5f90"
      },
      "source": [
        "from sklearn.metrics import r2_score\n",
        "r2_score(df_mice[['M4']],samples_normal)"
      ],
      "execution_count": 13,
      "outputs": [
        {
          "output_type": "execute_result",
          "data": {
            "text/plain": [
              "-1.0907896889232522"
            ]
          },
          "metadata": {
            "tags": []
          },
          "execution_count": 13
        }
      ]
    },
    {
      "cell_type": "code",
      "metadata": {
        "colab": {
          "base_uri": "https://localhost:8080/"
        },
        "id": "MUAuw8Pz0T3V",
        "outputId": "4ce56640-8df0-4d6a-abe7-0eed38f8c503"
      },
      "source": [
        "from numpy import hstack\n",
        "from statsmodels.distributions.empirical_distribution import ECDF\n",
        "sample1 = samples_normal\n",
        "sample2 = df_mice['M4']\n",
        "sample = hstack((sample1, sample2))\n",
        "# fit a cdf\n",
        "Ecdf = ECDF(sample)\n",
        "print('P(x<0): %.3f' % Ecdf(0))\n",
        "print('P(x<1): %.3f' % Ecdf(1))\n",
        "print('P(x<2): %.3f' % Ecdf(2))\n",
        "print('P(x<3): %.3f' % Ecdf(3))\n",
        "print('P(x<4): %.3f' % Ecdf(4))\n",
        "print('P(x<5): %.3f' % Ecdf(5))\n",
        "print('P(x<6): %.3f' % Ecdf(6))\n",
        "print('P(x<7): %.3f' % Ecdf(7))\n",
        "print('P(x<8): %.3f' % Ecdf(8))"
      ],
      "execution_count": 14,
      "outputs": [
        {
          "output_type": "stream",
          "text": [
            "P(x<0): 0.013\n",
            "P(x<1): 0.106\n",
            "P(x<2): 0.249\n",
            "P(x<3): 0.434\n",
            "P(x<4): 0.632\n",
            "P(x<5): 0.801\n",
            "P(x<6): 0.960\n",
            "P(x<7): 0.986\n",
            "P(x<8): 0.996\n"
          ],
          "name": "stdout"
        },
        {
          "output_type": "stream",
          "text": [
            "/usr/local/lib/python3.6/dist-packages/statsmodels/tools/_testing.py:19: FutureWarning: pandas.util.testing is deprecated. Use the functions in the public API at pandas.testing instead.\n",
            "  import pandas.util.testing as tm\n"
          ],
          "name": "stderr"
        }
      ]
    },
    {
      "cell_type": "code",
      "metadata": {
        "colab": {
          "base_uri": "https://localhost:8080/",
          "height": 279
        },
        "id": "ISUXUyvEUn9g",
        "outputId": "c1f3e2be-79d7-4f2b-e7f1-0551208c77f7"
      },
      "source": [
        "mu = np.mean(df_mice['T4'])\n",
        "sigma = np.std(df_mice['T4'])\n",
        "\n",
        "# Sample out of a normal distribution with this mu and sigma: samples\n",
        "samples_normal_Tuesday = np.random.normal(mu, sigma, size=1000)\n",
        "\n",
        "# Get the CDF of the samples and of the data\n",
        "x_normal, y_normal = ecdf(samples_normal_Tuesday)\n",
        "x, y = ecdf(df_mice['T4'])\n",
        "\n",
        "# Plot the CDFs and show the plot\n",
        "_ = plt.plot(x_normal, y_normal)\n",
        "_ = plt.plot(x, y, marker='.', linestyle='none')\n",
        "_ = plt.xlabel('Mice Tuesday')\n",
        "_ = plt.ylabel('CDF')\n",
        "plt.show()"
      ],
      "execution_count": 15,
      "outputs": [
        {
          "output_type": "display_data",
          "data": {
            "image/png": "[encoded data removed]",
            "text/plain": [
              "<Figure size 432x288 with 1 Axes>"
            ]
          },
          "metadata": {
            "tags": [],
            "needs_background": "light"
          }
        }
      ]
    },
    {
      "cell_type": "code",
      "metadata": {
        "colab": {
          "base_uri": "https://localhost:8080/"
        },
        "id": "MP4MU5DrTucy",
        "outputId": "0fe55bbc-5b31-47a9-aa98-9eee5814b783"
      },
      "source": [
        "from sklearn.metrics import r2_score\n",
        "r2_score(df_mice[['T4']],samples_normal_Tuesday)"
      ],
      "execution_count": 16,
      "outputs": [
        {
          "output_type": "execute_result",
          "data": {
            "text/plain": [
              "-0.9020895875740356"
            ]
          },
          "metadata": {
            "tags": []
          },
          "execution_count": 16
        }
      ]
    },
    {
      "cell_type": "code",
      "metadata": {
        "colab": {
          "base_uri": "https://localhost:8080/"
        },
        "id": "yNH3oWlM2Eof",
        "outputId": "35977c53-2012-42c4-da7c-936fc6c1557c"
      },
      "source": [
        "from numpy import hstack\n",
        "from statsmodels.distributions.empirical_distribution import ECDF\n",
        "sample1 = samples_normal_Tuesday\n",
        "sample2 = df_mice['T4']\n",
        "sample = hstack((sample1, sample2))\n",
        "# fit a cdf\n",
        "Ecdf = ECDF(sample)\n",
        "print('P(x<0): %.3f' % Ecdf(0))\n",
        "print('P(x<1): %.3f' % Ecdf(1))\n",
        "print('P(x<2): %.3f' % Ecdf(2))\n",
        "print('P(x<3): %.3f' % Ecdf(3))\n",
        "print('P(x<4): %.3f' % Ecdf(4))\n",
        "print('P(x<5): %.3f' % Ecdf(5))\n",
        "print('P(x<6): %.3f' % Ecdf(6))\n",
        "print('P(x<7): %.3f' % Ecdf(7))\n",
        "print('P(x<8): %.3f' % Ecdf(8))"
      ],
      "execution_count": 17,
      "outputs": [
        {
          "output_type": "stream",
          "text": [
            "P(x<0): 0.001\n",
            "P(x<1): 0.018\n",
            "P(x<2): 0.126\n",
            "P(x<3): 0.283\n",
            "P(x<4): 0.472\n",
            "P(x<5): 0.677\n",
            "P(x<6): 0.919\n",
            "P(x<7): 0.982\n",
            "P(x<8): 0.999\n"
          ],
          "name": "stdout"
        }
      ]
    },
    {
      "cell_type": "code",
      "metadata": {
        "colab": {
          "base_uri": "https://localhost:8080/",
          "height": 279
        },
        "id": "FNW2Zit6WNY3",
        "outputId": "382fd6e3-4229-41ab-f579-ef6eaf9293b6"
      },
      "source": [
        "mu = np.mean(df_mice['W4'])\n",
        "sigma = np.std(df_mice['W4'])\n",
        "\n",
        "# Sample out of a normal distribution with this mu and sigma: samples\n",
        "samples_normal_Wednesday = np.random.normal(mu, sigma, size=1000)\n",
        "\n",
        "# Get the CDF of the samples and of the data\n",
        "x_normal, y_normal = ecdf(samples_normal_Wednesday)\n",
        "x, y = ecdf(df_mice['W4'])\n",
        "\n",
        "# Plot the CDFs and show the plot\n",
        "_ = plt.plot(x_normal, y_normal)\n",
        "_ = plt.plot(x, y, marker='.', linestyle='none')\n",
        "_ = plt.xlabel('Mice Wednesday')\n",
        "_ = plt.ylabel('CDF')\n",
        "plt.show()"
      ],
      "execution_count": 18,
      "outputs": [
        {
          "output_type": "display_data",
          "data": {
            "image/png": "[encoded data removed]",
            "text/plain": [
              "<Figure size 432x288 with 1 Axes>"
            ]
          },
          "metadata": {
            "tags": [],
            "needs_background": "light"
          }
        }
      ]
    },
    {
      "cell_type": "code",
      "metadata": {
        "colab": {
          "base_uri": "https://localhost:8080/"
        },
        "id": "p44Bv4gmT0K1",
        "outputId": "7df03090-a8a9-401d-e991-6203f9c3b5af"
      },
      "source": [
        "from sklearn.metrics import r2_score\n",
        "r2_score(df_mice[['W4']],samples_normal_Wednesday)"
      ],
      "execution_count": 19,
      "outputs": [
        {
          "output_type": "execute_result",
          "data": {
            "text/plain": [
              "-0.9270882311583517"
            ]
          },
          "metadata": {
            "tags": []
          },
          "execution_count": 19
        }
      ]
    },
    {
      "cell_type": "code",
      "metadata": {
        "colab": {
          "base_uri": "https://localhost:8080/"
        },
        "id": "fI5lho7O2Mgr",
        "outputId": "aec19034-ee79-4bfb-8943-1fcb0d6d03c0"
      },
      "source": [
        "from numpy import hstack\n",
        "from statsmodels.distributions.empirical_distribution import ECDF\n",
        "sample1 = samples_normal_Wednesday\n",
        "sample2 = df_mice['W4']\n",
        "sample = hstack((sample1, sample2))\n",
        "# fit a cdf\n",
        "Ecdf = ECDF(sample)\n",
        "print('P(x<0): %.3f' % Ecdf(0))\n",
        "print('P(x<1): %.3f' % Ecdf(1))\n",
        "print('P(x<2): %.3f' % Ecdf(2))\n",
        "print('P(x<3): %.3f' % Ecdf(3))\n",
        "print('P(x<4): %.3f' % Ecdf(4))\n",
        "print('P(x<5): %.3f' % Ecdf(5))\n",
        "print('P(x<6): %.3f' % Ecdf(6))\n",
        "print('P(x<7): %.3f' % Ecdf(7))\n",
        "print('P(x<8): %.3f' % Ecdf(8))"
      ],
      "execution_count": 20,
      "outputs": [
        {
          "output_type": "stream",
          "text": [
            "P(x<0): 0.001\n",
            "P(x<1): 0.008\n",
            "P(x<2): 0.036\n",
            "P(x<3): 0.153\n",
            "P(x<4): 0.306\n",
            "P(x<5): 0.480\n",
            "P(x<6): 0.699\n",
            "P(x<7): 0.933\n",
            "P(x<8): 0.982\n"
          ],
          "name": "stdout"
        }
      ]
    },
    {
      "cell_type": "code",
      "metadata": {
        "colab": {
          "base_uri": "https://localhost:8080/",
          "height": 279
        },
        "id": "aSUV3vRyWM0n",
        "outputId": "5726c4af-68cc-4f92-967a-7f961553d9b6"
      },
      "source": [
        "mu = np.mean(df_mice['TH4'])\n",
        "sigma = np.std(df_mice['TH4'])\n",
        "\n",
        "# Sample out of a normal distribution with this mu and sigma: samples\n",
        "samples_normal_Thursday = np.random.normal(mu, sigma, size=1000)\n",
        "\n",
        "# Get the CDF of the samples and of the data\n",
        "x_normal, y_normal = ecdf(samples_normal_Thursday)\n",
        "x, y = ecdf(df_mice['TH4'])\n",
        "\n",
        "# Plot the CDFs and show the plot\n",
        "_ = plt.plot(x_normal, y_normal)\n",
        "_ = plt.plot(x, y, marker='.', linestyle='none')\n",
        "_ = plt.xlabel('Mice Thursday')\n",
        "_ = plt.ylabel('CDF')\n",
        "plt.show()"
      ],
      "execution_count": 21,
      "outputs": [
        {
          "output_type": "display_data",
          "data": {
            "image/png": "[encoded data removed]",
            "text/plain": [
              "<Figure size 432x288 with 1 Axes>"
            ]
          },
          "metadata": {
            "tags": [],
            "needs_background": "light"
          }
        }
      ]
    },
    {
      "cell_type": "code",
      "metadata": {
        "colab": {
          "base_uri": "https://localhost:8080/"
        },
        "id": "ACzDkVmvT-Vp",
        "outputId": "496099a8-50e2-41cc-df44-cb1f3a30464b"
      },
      "source": [
        "from sklearn.metrics import r2_score\n",
        "r2_score(df_mice[['TH4']],samples_normal_Thursday)"
      ],
      "execution_count": 22,
      "outputs": [
        {
          "output_type": "execute_result",
          "data": {
            "text/plain": [
              "-1.0674600613068717"
            ]
          },
          "metadata": {
            "tags": []
          },
          "execution_count": 22
        }
      ]
    },
    {
      "cell_type": "code",
      "metadata": {
        "colab": {
          "base_uri": "https://localhost:8080/"
        },
        "id": "CV6gmNMK2WXr",
        "outputId": "255a0d74-4190-4f10-a5b5-fa05da6960ed"
      },
      "source": [
        "from numpy import hstack\n",
        "from statsmodels.distributions.empirical_distribution import ECDF\n",
        "sample1 = samples_normal_Thursday\n",
        "sample2 = df_mice['TH4']\n",
        "sample = hstack((sample1, sample2))\n",
        "# fit a cdf\n",
        "Ecdf = ECDF(sample)\n",
        "print('P(x<0): %.3f' % Ecdf(0))\n",
        "print('P(x<1): %.3f' % Ecdf(1))\n",
        "print('P(x<2): %.3f' % Ecdf(2))\n",
        "print('P(x<3): %.3f' % Ecdf(3))\n",
        "print('P(x<4): %.3f' % Ecdf(4))\n",
        "print('P(x<5): %.3f' % Ecdf(5))\n",
        "print('P(x<6): %.3f' % Ecdf(6))\n",
        "print('P(x<7): %.3f' % Ecdf(7))\n",
        "print('P(x<8): %.3f' % Ecdf(8))"
      ],
      "execution_count": 23,
      "outputs": [
        {
          "output_type": "stream",
          "text": [
            "P(x<0): 0.000\n",
            "P(x<1): 0.004\n",
            "P(x<2): 0.019\n",
            "P(x<3): 0.052\n",
            "P(x<4): 0.176\n",
            "P(x<5): 0.333\n",
            "P(x<6): 0.570\n",
            "P(x<7): 0.890\n",
            "P(x<8): 0.971\n"
          ],
          "name": "stdout"
        }
      ]
    },
    {
      "cell_type": "code",
      "metadata": {
        "colab": {
          "base_uri": "https://localhost:8080/",
          "height": 279
        },
        "id": "wg_AtAJNWMNP",
        "outputId": "de4ca04b-2d5a-45d3-96b6-43d89870c88e"
      },
      "source": [
        "mu = np.mean(df_mice['F4'])\n",
        "sigma = np.std(df_mice['F4'])\n",
        "\n",
        "# Sample out of a normal distribution with this mu and sigma: samples\n",
        "samples_normal_Friday = np.random.normal(mu, sigma, size=1000)\n",
        "\n",
        "# Get the CDF of the samples and of the data\n",
        "x_normal, y_normal = ecdf(samples_normal_Friday)\n",
        "x, y = ecdf(df_mice['F4'])\n",
        "\n",
        "# Plot the CDFs and show the plot\n",
        "_ = plt.plot(x_normal, y_normal)\n",
        "_ = plt.plot(x, y, marker='.', linestyle='none')\n",
        "_ = plt.xlabel('Mice Friday')\n",
        "_ = plt.ylabel('CDF')\n",
        "plt.show()"
      ],
      "execution_count": 24,
      "outputs": [
        {
          "output_type": "display_data",
          "data": {
            "image/png": "[encoded data removed]",
            "text/plain": [
              "<Figure size 432x288 with 1 Axes>"
            ]
          },
          "metadata": {
            "tags": [],
            "needs_background": "light"
          }
        }
      ]
    },
    {
      "cell_type": "code",
      "metadata": {
        "colab": {
          "base_uri": "https://localhost:8080/"
        },
        "id": "reYpAxfeUDGr",
        "outputId": "ac5cab92-f56e-47ac-e0c9-6c0d4f378dab"
      },
      "source": [
        "from sklearn.metrics import r2_score\n",
        "r2_score(df_mice[['F4']],samples_normal_Friday)"
      ],
      "execution_count": 25,
      "outputs": [
        {
          "output_type": "execute_result",
          "data": {
            "text/plain": [
              "-0.9153143618167432"
            ]
          },
          "metadata": {
            "tags": []
          },
          "execution_count": 25
        }
      ]
    },
    {
      "cell_type": "code",
      "metadata": {
        "colab": {
          "base_uri": "https://localhost:8080/"
        },
        "id": "Ar1bhBUZ2jc-",
        "outputId": "ea681aaf-4455-43e7-e5e7-9326517b0d56"
      },
      "source": [
        "from numpy import hstack\n",
        "from statsmodels.distributions.empirical_distribution import ECDF\n",
        "sample1 = samples_normal_Friday\n",
        "sample2 = df_mice['F4']\n",
        "sample = hstack((sample1, sample2))\n",
        "# fit a cdf\n",
        "Ecdf = ECDF(sample)\n",
        "print('P(x<0): %.3f' % Ecdf(0))\n",
        "print('P(x<1): %.3f' % Ecdf(1))\n",
        "print('P(x<2): %.3f' % Ecdf(2))\n",
        "print('P(x<3): %.3f' % Ecdf(3))\n",
        "print('P(x<4): %.3f' % Ecdf(4))\n",
        "print('P(x<5): %.3f' % Ecdf(5))\n",
        "print('P(x<6): %.3f' % Ecdf(6))\n",
        "print('P(x<7): %.3f' % Ecdf(7))\n",
        "print('P(x<8): %.3f' % Ecdf(8))"
      ],
      "execution_count": 26,
      "outputs": [
        {
          "output_type": "stream",
          "text": [
            "P(x<0): 0.000\n",
            "P(x<1): 0.002\n",
            "P(x<2): 0.010\n",
            "P(x<3): 0.027\n",
            "P(x<4): 0.066\n",
            "P(x<5): 0.211\n",
            "P(x<6): 0.441\n",
            "P(x<7): 0.853\n",
            "P(x<8): 0.973\n"
          ],
          "name": "stdout"
        }
      ]
    },
    {
      "cell_type": "code",
      "metadata": {
        "id": "ZeACBL81B_XR"
      },
      "source": [
        "df_moments=df_mice[['M4','T4','W4','TH4','F4']]"
      ],
      "execution_count": 27,
      "outputs": []
    },
    {
      "cell_type": "code",
      "metadata": {
        "id": "MEDOJQ1gIqkS"
      },
      "source": [
        "df_moments=df_moments.round(0)"
      ],
      "execution_count": 28,
      "outputs": []
    },
    {
      "cell_type": "code",
      "metadata": {
        "id": "5pDEtXNFIvnC"
      },
      "source": [
        "df_moments.to_excel('Week4_Moments.xlsx')"
      ],
      "execution_count": 29,
      "outputs": []
    },
    {
      "cell_type": "code",
      "metadata": {
        "colab": {
          "base_uri": "https://localhost:8080/",
          "height": 204
        },
        "id": "kATeSEbn6-6b",
        "outputId": "10dcf805-b5fc-4311-bde2-c5ba020dfd96"
      },
      "source": [
        "df_mon=pd.read_excel('Clus_mon.xlsx')\n",
        "df_mon.head()"
      ],
      "execution_count": 33,
      "outputs": [
        {
          "output_type": "execute_result",
          "data": {
            "text/html": [
              "<div>\n",
              "<style scoped>\n",
              "    .dataframe tbody tr th:only-of-type {\n",
              "        vertical-align: middle;\n",
              "    }\n",
              "\n",
              "    .dataframe tbody tr th {\n",
              "        vertical-align: top;\n",
              "    }\n",
              "\n",
              "    .dataframe thead th {\n",
              "        text-align: right;\n",
              "    }\n",
              "</style>\n",
              "<table border=\"1\" class=\"dataframe\">\n",
              "  <thead>\n",
              "    <tr style=\"text-align: right;\">\n",
              "      <th></th>\n",
              "      <th>M1</th>\n",
              "      <th>M2</th>\n",
              "      <th>M3</th>\n",
              "      <th>M4</th>\n",
              "    </tr>\n",
              "  </thead>\n",
              "  <tbody>\n",
              "    <tr>\n",
              "      <th>0</th>\n",
              "      <td>4</td>\n",
              "      <td>1</td>\n",
              "      <td>3</td>\n",
              "      <td>4</td>\n",
              "    </tr>\n",
              "    <tr>\n",
              "      <th>1</th>\n",
              "      <td>1</td>\n",
              "      <td>5</td>\n",
              "      <td>3</td>\n",
              "      <td>6</td>\n",
              "    </tr>\n",
              "    <tr>\n",
              "      <th>2</th>\n",
              "      <td>3</td>\n",
              "      <td>2</td>\n",
              "      <td>5</td>\n",
              "      <td>2</td>\n",
              "    </tr>\n",
              "    <tr>\n",
              "      <th>3</th>\n",
              "      <td>1</td>\n",
              "      <td>1</td>\n",
              "      <td>1</td>\n",
              "      <td>4</td>\n",
              "    </tr>\n",
              "    <tr>\n",
              "      <th>4</th>\n",
              "      <td>2</td>\n",
              "      <td>5</td>\n",
              "      <td>5</td>\n",
              "      <td>4</td>\n",
              "    </tr>\n",
              "  </tbody>\n",
              "</table>\n",
              "</div>"
            ],
            "text/plain": [
              "   M1  M2  M3  M4\n",
              "0   4   1   3   4\n",
              "1   1   5   3   6\n",
              "2   3   2   5   2\n",
              "3   1   1   1   4\n",
              "4   2   5   5   4"
            ]
          },
          "metadata": {
            "tags": []
          },
          "execution_count": 33
        }
      ]
    },
    {
      "cell_type": "code",
      "metadata": {
        "id": "iFFfh-PA2R7p",
        "colab": {
          "base_uri": "https://localhost:8080/"
        },
        "outputId": "24a3aaa5-4eaf-4f0b-d293-6a6ecef010de"
      },
      "source": [
        "from sklearn.decomposition import PCA\n",
        "\n",
        "# Feature matrix and target array\n",
        "X = df_mon\n",
        "\n",
        "# PCA\n",
        "pca = PCA(n_components=2)\n",
        "\n",
        "# Fit and transform\n",
        "principalComponents = pca.fit_transform(X)\n",
        "\n",
        "# Print ratio of variance explained\n",
        "print(pca.explained_variance_ratio_)"
      ],
      "execution_count": 34,
      "outputs": [
        {
          "output_type": "stream",
          "text": [
            "[0.33987638 0.23092256]\n"
          ],
          "name": "stdout"
        }
      ]
    },
    {
      "cell_type": "code",
      "metadata": {
        "id": "OXFzteE_2RyT",
        "colab": {
          "base_uri": "https://localhost:8080/",
          "height": 419
        },
        "outputId": "b5e34042-f9b9-46da-ff77-455aed1ad05c"
      },
      "source": [
        "Monday=pd.DataFrame(principalComponents)\n",
        "Monday"
      ],
      "execution_count": 35,
      "outputs": [
        {
          "output_type": "execute_result",
          "data": {
            "text/html": [
              "<div>\n",
              "<style scoped>\n",
              "    .dataframe tbody tr th:only-of-type {\n",
              "        vertical-align: middle;\n",
              "    }\n",
              "\n",
              "    .dataframe tbody tr th {\n",
              "        vertical-align: top;\n",
              "    }\n",
              "\n",
              "    .dataframe thead th {\n",
              "        text-align: right;\n",
              "    }\n",
              "</style>\n",
              "<table border=\"1\" class=\"dataframe\">\n",
              "  <thead>\n",
              "    <tr style=\"text-align: right;\">\n",
              "      <th></th>\n",
              "      <th>0</th>\n",
              "      <th>1</th>\n",
              "    </tr>\n",
              "  </thead>\n",
              "  <tbody>\n",
              "    <tr>\n",
              "      <th>0</th>\n",
              "      <td>-0.229930</td>\n",
              "      <td>-2.030228</td>\n",
              "    </tr>\n",
              "    <tr>\n",
              "      <th>1</th>\n",
              "      <td>-2.768602</td>\n",
              "      <td>2.612639</td>\n",
              "    </tr>\n",
              "    <tr>\n",
              "      <th>2</th>\n",
              "      <td>1.799656</td>\n",
              "      <td>-0.688845</td>\n",
              "    </tr>\n",
              "    <tr>\n",
              "      <th>3</th>\n",
              "      <td>-0.395765</td>\n",
              "      <td>0.333614</td>\n",
              "    </tr>\n",
              "    <tr>\n",
              "      <th>4</th>\n",
              "      <td>-0.611620</td>\n",
              "      <td>1.867024</td>\n",
              "    </tr>\n",
              "    <tr>\n",
              "      <th>...</th>\n",
              "      <td>...</td>\n",
              "      <td>...</td>\n",
              "    </tr>\n",
              "    <tr>\n",
              "      <th>995</th>\n",
              "      <td>-1.966715</td>\n",
              "      <td>-1.142859</td>\n",
              "    </tr>\n",
              "    <tr>\n",
              "      <th>996</th>\n",
              "      <td>-1.581968</td>\n",
              "      <td>-1.866671</td>\n",
              "    </tr>\n",
              "    <tr>\n",
              "      <th>997</th>\n",
              "      <td>-1.531098</td>\n",
              "      <td>1.891918</td>\n",
              "    </tr>\n",
              "    <tr>\n",
              "      <th>998</th>\n",
              "      <td>0.994712</td>\n",
              "      <td>-0.106787</td>\n",
              "    </tr>\n",
              "    <tr>\n",
              "      <th>999</th>\n",
              "      <td>2.387678</td>\n",
              "      <td>0.674149</td>\n",
              "    </tr>\n",
              "  </tbody>\n",
              "</table>\n",
              "<p>1000 rows × 2 columns</p>\n",
              "</div>"
            ],
            "text/plain": [
              "            0         1\n",
              "0   -0.229930 -2.030228\n",
              "1   -2.768602  2.612639\n",
              "2    1.799656 -0.688845\n",
              "3   -0.395765  0.333614\n",
              "4   -0.611620  1.867024\n",
              "..        ...       ...\n",
              "995 -1.966715 -1.142859\n",
              "996 -1.581968 -1.866671\n",
              "997 -1.531098  1.891918\n",
              "998  0.994712 -0.106787\n",
              "999  2.387678  0.674149\n",
              "\n",
              "[1000 rows x 2 columns]"
            ]
          },
          "metadata": {
            "tags": []
          },
          "execution_count": 35
        }
      ]
    },
    {
      "cell_type": "code",
      "metadata": {
        "id": "YTbAOiX2OFu0",
        "colab": {
          "base_uri": "https://localhost:8080/"
        },
        "outputId": "c69ef669-2484-4dfe-d2b7-cdbe55721b17"
      },
      "source": [
        "from sklearn.cluster import KMeans\n",
        "from sklearn.metrics import silhouette_score\n",
        "\n",
        "# For loop\n",
        "for n_clusters in range(2,10):\n",
        "    kmeans = KMeans(n_clusters=n_clusters)\n",
        "    # Fit and predict your k-Means object\n",
        "    preds = kmeans.fit_predict(Monday)\n",
        "    score = silhouette_score(Monday, preds, metric='euclidean')\n",
        "    print (\"For n_clusters = {}, silhouette score is {})\".format(n_clusters, score))"
      ],
      "execution_count": 36,
      "outputs": [
        {
          "output_type": "stream",
          "text": [
            "For n_clusters = 2, silhouette score is 0.40462100555228064)\n",
            "For n_clusters = 3, silhouette score is 0.38121599805008954)\n",
            "For n_clusters = 4, silhouette score is 0.36853478447635457)\n",
            "For n_clusters = 5, silhouette score is 0.3662378396716737)\n",
            "For n_clusters = 6, silhouette score is 0.37802710164222614)\n",
            "For n_clusters = 7, silhouette score is 0.37435209926229074)\n",
            "For n_clusters = 8, silhouette score is 0.38356168329463725)\n",
            "For n_clusters = 9, silhouette score is 0.37471179598543347)\n"
          ],
          "name": "stdout"
        }
      ]
    },
    {
      "cell_type": "code",
      "metadata": {
        "id": "YijDK4jfrt1e",
        "colab": {
          "base_uri": "https://localhost:8080/",
          "height": 295
        },
        "outputId": "eec24fb4-4f91-4fed-df74-b5a38f2a08c2"
      },
      "source": [
        "sum_of_squared_distances = []\n",
        "\n",
        "# Create for loop\n",
        "for k in range(1,15):\n",
        "    kmeans = KMeans(n_clusters=k)\n",
        "    kmeans = kmeans.fit(Monday)\n",
        "    sum_of_squared_distances.append(kmeans.inertia_)\n",
        "\n",
        "# Plot\n",
        "plt.plot(range(1,15), sum_of_squared_distances, 'bx-')\n",
        "plt.xlabel('k')\n",
        "plt.ylabel('Sum of squared distances')\n",
        "plt.title('Elbow Method For Optimal k')\n",
        "plt.show()"
      ],
      "execution_count": 37,
      "outputs": [
        {
          "output_type": "display_data",
          "data": {
            "image/png": "[encoded data removed]",
            "text/plain": [
              "<Figure size 432x288 with 1 Axes>"
            ]
          },
          "metadata": {
            "tags": [],
            "needs_background": "light"
          }
        }
      ]
    },
    {
      "cell_type": "code",
      "metadata": {
        "id": "GMYYKXIh3o1N"
      },
      "source": [
        "kmeans_monday=KMeans(n_clusters=2, random_state=123)\n",
        "kmeans_monday.fit(Monday)\n",
        "pred_monday=kmeans_monday.predict(Monday)"
      ],
      "execution_count": 38,
      "outputs": []
    },
    {
      "cell_type": "code",
      "metadata": {
        "id": "hTONvDjF6Qfw"
      },
      "source": [
        "df_mice['cluster_Monday']= pred_monday"
      ],
      "execution_count": 39,
      "outputs": []
    },
    {
      "cell_type": "code",
      "metadata": {
        "id": "Bc1MiNQ96o2r",
        "colab": {
          "base_uri": "https://localhost:8080/",
          "height": 419
        },
        "outputId": "065a918e-3d2f-4520-b88c-e501451fa008"
      },
      "source": [
        "df_Tuesday=[df['T1'],df['T2'],df['T3'],df_mice['T4']]\n",
        "df_Tuesday=pd.DataFrame(df_Tuesday)\n",
        "df_Tuesday=df_Tuesday.T\n",
        "df_Tuesday"
      ],
      "execution_count": 40,
      "outputs": [
        {
          "output_type": "execute_result",
          "data": {
            "text/html": [
              "<div>\n",
              "<style scoped>\n",
              "    .dataframe tbody tr th:only-of-type {\n",
              "        vertical-align: middle;\n",
              "    }\n",
              "\n",
              "    .dataframe tbody tr th {\n",
              "        vertical-align: top;\n",
              "    }\n",
              "\n",
              "    .dataframe thead th {\n",
              "        text-align: right;\n",
              "    }\n",
              "</style>\n",
              "<table border=\"1\" class=\"dataframe\">\n",
              "  <thead>\n",
              "    <tr style=\"text-align: right;\">\n",
              "      <th></th>\n",
              "      <th>T1</th>\n",
              "      <th>T2</th>\n",
              "      <th>T3</th>\n",
              "      <th>T4</th>\n",
              "    </tr>\n",
              "  </thead>\n",
              "  <tbody>\n",
              "    <tr>\n",
              "      <th>0</th>\n",
              "      <td>5.0</td>\n",
              "      <td>2.0</td>\n",
              "      <td>4.0</td>\n",
              "      <td>5.0</td>\n",
              "    </tr>\n",
              "    <tr>\n",
              "      <th>1</th>\n",
              "      <td>2.0</td>\n",
              "      <td>5.0</td>\n",
              "      <td>4.0</td>\n",
              "      <td>6.0</td>\n",
              "    </tr>\n",
              "    <tr>\n",
              "      <th>2</th>\n",
              "      <td>4.0</td>\n",
              "      <td>3.0</td>\n",
              "      <td>6.0</td>\n",
              "      <td>3.0</td>\n",
              "    </tr>\n",
              "    <tr>\n",
              "      <th>3</th>\n",
              "      <td>2.0</td>\n",
              "      <td>2.0</td>\n",
              "      <td>2.0</td>\n",
              "      <td>5.0</td>\n",
              "    </tr>\n",
              "    <tr>\n",
              "      <th>4</th>\n",
              "      <td>3.0</td>\n",
              "      <td>5.0</td>\n",
              "      <td>6.0</td>\n",
              "      <td>5.0</td>\n",
              "    </tr>\n",
              "    <tr>\n",
              "      <th>...</th>\n",
              "      <td>...</td>\n",
              "      <td>...</td>\n",
              "      <td>...</td>\n",
              "      <td>...</td>\n",
              "    </tr>\n",
              "    <tr>\n",
              "      <th>995</th>\n",
              "      <td>3.0</td>\n",
              "      <td>2.0</td>\n",
              "      <td>6.0</td>\n",
              "      <td>6.0</td>\n",
              "    </tr>\n",
              "    <tr>\n",
              "      <th>996</th>\n",
              "      <td>5.0</td>\n",
              "      <td>2.0</td>\n",
              "      <td>1.0</td>\n",
              "      <td>5.0</td>\n",
              "    </tr>\n",
              "    <tr>\n",
              "      <th>997</th>\n",
              "      <td>1.0</td>\n",
              "      <td>4.0</td>\n",
              "      <td>4.0</td>\n",
              "      <td>5.0</td>\n",
              "    </tr>\n",
              "    <tr>\n",
              "      <th>998</th>\n",
              "      <td>1.0</td>\n",
              "      <td>1.0</td>\n",
              "      <td>6.0</td>\n",
              "      <td>3.0</td>\n",
              "    </tr>\n",
              "    <tr>\n",
              "      <th>999</th>\n",
              "      <td>2.0</td>\n",
              "      <td>2.0</td>\n",
              "      <td>2.0</td>\n",
              "      <td>1.0</td>\n",
              "    </tr>\n",
              "  </tbody>\n",
              "</table>\n",
              "<p>1000 rows × 4 columns</p>\n",
              "</div>"
            ],
            "text/plain": [
              "      T1   T2   T3   T4\n",
              "0    5.0  2.0  4.0  5.0\n",
              "1    2.0  5.0  4.0  6.0\n",
              "2    4.0  3.0  6.0  3.0\n",
              "3    2.0  2.0  2.0  5.0\n",
              "4    3.0  5.0  6.0  5.0\n",
              "..   ...  ...  ...  ...\n",
              "995  3.0  2.0  6.0  6.0\n",
              "996  5.0  2.0  1.0  5.0\n",
              "997  1.0  4.0  4.0  5.0\n",
              "998  1.0  1.0  6.0  3.0\n",
              "999  2.0  2.0  2.0  1.0\n",
              "\n",
              "[1000 rows x 4 columns]"
            ]
          },
          "metadata": {
            "tags": []
          },
          "execution_count": 40
        }
      ]
    },
    {
      "cell_type": "code",
      "metadata": {
        "id": "TquEnvunAoUG",
        "colab": {
          "base_uri": "https://localhost:8080/"
        },
        "outputId": "45accf15-7b92-4f8f-c010-5b08b50f3898"
      },
      "source": [
        "from sklearn.decomposition import PCA\n",
        "\n",
        "# Feature matrix and target array\n",
        "X = df_Tuesday\n",
        "\n",
        "# PCA\n",
        "pca = PCA(n_components=2)\n",
        "\n",
        "# Fit and transform\n",
        "principalComponents = pca.fit_transform(X)\n",
        "\n",
        "# Print ratio of variance explained\n",
        "print(pca.explained_variance_ratio_)"
      ],
      "execution_count": 41,
      "outputs": [
        {
          "output_type": "stream",
          "text": [
            "[0.32970264 0.26948937]\n"
          ],
          "name": "stdout"
        }
      ]
    },
    {
      "cell_type": "code",
      "metadata": {
        "id": "rQMh_vEKBVrV",
        "colab": {
          "base_uri": "https://localhost:8080/",
          "height": 419
        },
        "outputId": "d9d46010-ce98-4a0d-fddf-105873e40c01"
      },
      "source": [
        "Tuesday=pd.DataFrame(principalComponents)\n",
        "Tuesday"
      ],
      "execution_count": 42,
      "outputs": [
        {
          "output_type": "execute_result",
          "data": {
            "text/html": [
              "<div>\n",
              "<style scoped>\n",
              "    .dataframe tbody tr th:only-of-type {\n",
              "        vertical-align: middle;\n",
              "    }\n",
              "\n",
              "    .dataframe tbody tr th {\n",
              "        vertical-align: top;\n",
              "    }\n",
              "\n",
              "    .dataframe thead th {\n",
              "        text-align: right;\n",
              "    }\n",
              "</style>\n",
              "<table border=\"1\" class=\"dataframe\">\n",
              "  <thead>\n",
              "    <tr style=\"text-align: right;\">\n",
              "      <th></th>\n",
              "      <th>0</th>\n",
              "      <th>1</th>\n",
              "    </tr>\n",
              "  </thead>\n",
              "  <tbody>\n",
              "    <tr>\n",
              "      <th>0</th>\n",
              "      <td>-0.627943</td>\n",
              "      <td>-0.093893</td>\n",
              "    </tr>\n",
              "    <tr>\n",
              "      <th>1</th>\n",
              "      <td>-1.822608</td>\n",
              "      <td>-0.148194</td>\n",
              "    </tr>\n",
              "    <tr>\n",
              "      <th>2</th>\n",
              "      <td>1.494032</td>\n",
              "      <td>-1.855449</td>\n",
              "    </tr>\n",
              "    <tr>\n",
              "      <th>3</th>\n",
              "      <td>-0.682783</td>\n",
              "      <td>2.093987</td>\n",
              "    </tr>\n",
              "    <tr>\n",
              "      <th>4</th>\n",
              "      <td>-0.670841</td>\n",
              "      <td>-2.096584</td>\n",
              "    </tr>\n",
              "    <tr>\n",
              "      <th>...</th>\n",
              "      <td>...</td>\n",
              "      <td>...</td>\n",
              "    </tr>\n",
              "    <tr>\n",
              "      <th>995</th>\n",
              "      <td>-1.274640</td>\n",
              "      <td>-2.040843</td>\n",
              "    </tr>\n",
              "    <tr>\n",
              "      <th>996</th>\n",
              "      <td>-0.964382</td>\n",
              "      <td>2.879086</td>\n",
              "    </tr>\n",
              "    <tr>\n",
              "      <th>997</th>\n",
              "      <td>-0.655445</td>\n",
              "      <td>0.075320</td>\n",
              "    </tr>\n",
              "    <tr>\n",
              "      <th>998</th>\n",
              "      <td>1.916925</td>\n",
              "      <td>-1.544243</td>\n",
              "    </tr>\n",
              "    <tr>\n",
              "      <th>999</th>\n",
              "      <td>3.253052</td>\n",
              "      <td>2.502895</td>\n",
              "    </tr>\n",
              "  </tbody>\n",
              "</table>\n",
              "<p>1000 rows × 2 columns</p>\n",
              "</div>"
            ],
            "text/plain": [
              "            0         1\n",
              "0   -0.627943 -0.093893\n",
              "1   -1.822608 -0.148194\n",
              "2    1.494032 -1.855449\n",
              "3   -0.682783  2.093987\n",
              "4   -0.670841 -2.096584\n",
              "..        ...       ...\n",
              "995 -1.274640 -2.040843\n",
              "996 -0.964382  2.879086\n",
              "997 -0.655445  0.075320\n",
              "998  1.916925 -1.544243\n",
              "999  3.253052  2.502895\n",
              "\n",
              "[1000 rows x 2 columns]"
            ]
          },
          "metadata": {
            "tags": []
          },
          "execution_count": 42
        }
      ]
    },
    {
      "cell_type": "code",
      "metadata": {
        "id": "EfwmaY2zBys7",
        "colab": {
          "base_uri": "https://localhost:8080/"
        },
        "outputId": "9e1f76e3-bbc0-4e43-bfa6-a1e87739e1a2"
      },
      "source": [
        "from sklearn.cluster import KMeans\n",
        "from sklearn.metrics import silhouette_score\n",
        "\n",
        "# For loop\n",
        "for n_clusters in range(2,10):\n",
        "    kmeans = KMeans(n_clusters=n_clusters)\n",
        "    # Fit and predict your k-Means object\n",
        "    preds = kmeans.fit_predict(Tuesday)\n",
        "    score = silhouette_score(Tuesday, preds, metric='euclidean')\n",
        "    print (\"For n_clusters = {}, silhouette score is {})\".format(n_clusters, score))"
      ],
      "execution_count": 43,
      "outputs": [
        {
          "output_type": "stream",
          "text": [
            "For n_clusters = 2, silhouette score is 0.4026364888067825)\n",
            "For n_clusters = 3, silhouette score is 0.4232872923488577)\n",
            "For n_clusters = 4, silhouette score is 0.4268954617578872)\n",
            "For n_clusters = 5, silhouette score is 0.4083741672958746)\n",
            "For n_clusters = 6, silhouette score is 0.3936634597532194)\n",
            "For n_clusters = 7, silhouette score is 0.40637235939752936)\n",
            "For n_clusters = 8, silhouette score is 0.4192848224855193)\n",
            "For n_clusters = 9, silhouette score is 0.42550877552113137)\n"
          ],
          "name": "stdout"
        }
      ]
    },
    {
      "cell_type": "code",
      "metadata": {
        "id": "VcwBExJwmI-D",
        "colab": {
          "base_uri": "https://localhost:8080/",
          "height": 295
        },
        "outputId": "0b98bebe-4011-4d5e-ac08-d1fcfabc7d45"
      },
      "source": [
        "sum_of_squared_distances = []\n",
        "\n",
        "# Create for loop\n",
        "for k in range(1,15):\n",
        "    kmeans = KMeans(n_clusters=k)\n",
        "    kmeans = kmeans.fit(Tuesday)\n",
        "    sum_of_squared_distances.append(kmeans.inertia_)\n",
        "\n",
        "# Plot\n",
        "plt.plot(range(1,15), sum_of_squared_distances, 'bx-')\n",
        "plt.xlabel('k')\n",
        "plt.ylabel('Sum of squared distances')\n",
        "plt.title('Elbow Method For Optimal k')\n",
        "plt.show()"
      ],
      "execution_count": 44,
      "outputs": [
        {
          "output_type": "display_data",
          "data": {
            "image/png": "[encoded data removed]",
            "text/plain": [
              "<Figure size 432x288 with 1 Axes>"
            ]
          },
          "metadata": {
            "tags": [],
            "needs_background": "light"
          }
        }
      ]
    },
    {
      "cell_type": "code",
      "metadata": {
        "id": "4wtJXjjevGN_"
      },
      "source": [
        "kmeans_tuesday=KMeans(n_clusters=4, random_state=123)\n",
        "kmeans_tuesday.fit(Tuesday)\n",
        "pred_tuesday=kmeans_tuesday.predict(Tuesday)"
      ],
      "execution_count": 45,
      "outputs": []
    },
    {
      "cell_type": "code",
      "metadata": {
        "id": "rKo1HjuMvVor"
      },
      "source": [
        "df_mice['cluster_Tuesday']= pred_tuesday"
      ],
      "execution_count": 46,
      "outputs": []
    },
    {
      "cell_type": "code",
      "metadata": {
        "id": "ZsKvQWCDvVYv",
        "colab": {
          "base_uri": "https://localhost:8080/",
          "height": 419
        },
        "outputId": "97a9724a-01e0-4061-f5ee-fc03804f5acb"
      },
      "source": [
        "df_Wednesday=[df['W1'],df['W2'],df['W3'],df_mice['W4']]\n",
        "df_Wednesday=pd.DataFrame(df_Wednesday)\n",
        "df_Wednesday=df_Wednesday.T\n",
        "df_Wednesday"
      ],
      "execution_count": 47,
      "outputs": [
        {
          "output_type": "execute_result",
          "data": {
            "text/html": [
              "<div>\n",
              "<style scoped>\n",
              "    .dataframe tbody tr th:only-of-type {\n",
              "        vertical-align: middle;\n",
              "    }\n",
              "\n",
              "    .dataframe tbody tr th {\n",
              "        vertical-align: top;\n",
              "    }\n",
              "\n",
              "    .dataframe thead th {\n",
              "        text-align: right;\n",
              "    }\n",
              "</style>\n",
              "<table border=\"1\" class=\"dataframe\">\n",
              "  <thead>\n",
              "    <tr style=\"text-align: right;\">\n",
              "      <th></th>\n",
              "      <th>W1</th>\n",
              "      <th>W2</th>\n",
              "      <th>W3</th>\n",
              "      <th>W4</th>\n",
              "    </tr>\n",
              "  </thead>\n",
              "  <tbody>\n",
              "    <tr>\n",
              "      <th>0</th>\n",
              "      <td>5.0</td>\n",
              "      <td>3.0</td>\n",
              "      <td>5.0</td>\n",
              "      <td>6.000000</td>\n",
              "    </tr>\n",
              "    <tr>\n",
              "      <th>1</th>\n",
              "      <td>3.0</td>\n",
              "      <td>6.0</td>\n",
              "      <td>5.0</td>\n",
              "      <td>7.000000</td>\n",
              "    </tr>\n",
              "    <tr>\n",
              "      <th>2</th>\n",
              "      <td>5.0</td>\n",
              "      <td>4.0</td>\n",
              "      <td>6.0</td>\n",
              "      <td>3.970287</td>\n",
              "    </tr>\n",
              "    <tr>\n",
              "      <th>3</th>\n",
              "      <td>3.0</td>\n",
              "      <td>3.0</td>\n",
              "      <td>3.0</td>\n",
              "      <td>6.000000</td>\n",
              "    </tr>\n",
              "    <tr>\n",
              "      <th>4</th>\n",
              "      <td>4.0</td>\n",
              "      <td>6.0</td>\n",
              "      <td>6.0</td>\n",
              "      <td>6.000000</td>\n",
              "    </tr>\n",
              "    <tr>\n",
              "      <th>...</th>\n",
              "      <td>...</td>\n",
              "      <td>...</td>\n",
              "      <td>...</td>\n",
              "      <td>...</td>\n",
              "    </tr>\n",
              "    <tr>\n",
              "      <th>995</th>\n",
              "      <td>4.0</td>\n",
              "      <td>3.0</td>\n",
              "      <td>6.0</td>\n",
              "      <td>6.000000</td>\n",
              "    </tr>\n",
              "    <tr>\n",
              "      <th>996</th>\n",
              "      <td>5.0</td>\n",
              "      <td>3.0</td>\n",
              "      <td>2.0</td>\n",
              "      <td>5.000000</td>\n",
              "    </tr>\n",
              "    <tr>\n",
              "      <th>997</th>\n",
              "      <td>1.0</td>\n",
              "      <td>4.0</td>\n",
              "      <td>4.0</td>\n",
              "      <td>5.000000</td>\n",
              "    </tr>\n",
              "    <tr>\n",
              "      <th>998</th>\n",
              "      <td>2.0</td>\n",
              "      <td>2.0</td>\n",
              "      <td>6.0</td>\n",
              "      <td>3.000000</td>\n",
              "    </tr>\n",
              "    <tr>\n",
              "      <th>999</th>\n",
              "      <td>2.0</td>\n",
              "      <td>3.0</td>\n",
              "      <td>2.0</td>\n",
              "      <td>2.000000</td>\n",
              "    </tr>\n",
              "  </tbody>\n",
              "</table>\n",
              "<p>1000 rows × 4 columns</p>\n",
              "</div>"
            ],
            "text/plain": [
              "      W1   W2   W3        W4\n",
              "0    5.0  3.0  5.0  6.000000\n",
              "1    3.0  6.0  5.0  7.000000\n",
              "2    5.0  4.0  6.0  3.970287\n",
              "3    3.0  3.0  3.0  6.000000\n",
              "4    4.0  6.0  6.0  6.000000\n",
              "..   ...  ...  ...       ...\n",
              "995  4.0  3.0  6.0  6.000000\n",
              "996  5.0  3.0  2.0  5.000000\n",
              "997  1.0  4.0  4.0  5.000000\n",
              "998  2.0  2.0  6.0  3.000000\n",
              "999  2.0  3.0  2.0  2.000000\n",
              "\n",
              "[1000 rows x 4 columns]"
            ]
          },
          "metadata": {
            "tags": []
          },
          "execution_count": 47
        }
      ]
    },
    {
      "cell_type": "code",
      "metadata": {
        "id": "Jd0J2utkJxoL",
        "colab": {
          "base_uri": "https://localhost:8080/"
        },
        "outputId": "0eb399a7-d3b5-47a5-c80d-94e857a26ba3"
      },
      "source": [
        "from sklearn.decomposition import PCA\n",
        "\n",
        "# Feature matrix and target array\n",
        "X = df_Wednesday\n",
        "\n",
        "# PCA\n",
        "pca = PCA(n_components=2)\n",
        "\n",
        "# Fit and transform\n",
        "principalComponents = pca.fit_transform(X)\n",
        "\n",
        "# Print ratio of variance explained\n",
        "print(pca.explained_variance_ratio_)"
      ],
      "execution_count": 48,
      "outputs": [
        {
          "output_type": "stream",
          "text": [
            "[0.39800533 0.24731492]\n"
          ],
          "name": "stdout"
        }
      ]
    },
    {
      "cell_type": "code",
      "metadata": {
        "id": "RmlQ1Rr2xYBh",
        "colab": {
          "base_uri": "https://localhost:8080/",
          "height": 419
        },
        "outputId": "d2089189-17af-4720-a4a2-112cb6fdb2ad"
      },
      "source": [
        "Wednesday=pd.DataFrame(principalComponents)\n",
        "Wednesday"
      ],
      "execution_count": 49,
      "outputs": [
        {
          "output_type": "execute_result",
          "data": {
            "text/html": [
              "<div>\n",
              "<style scoped>\n",
              "    .dataframe tbody tr th:only-of-type {\n",
              "        vertical-align: middle;\n",
              "    }\n",
              "\n",
              "    .dataframe tbody tr th {\n",
              "        vertical-align: top;\n",
              "    }\n",
              "\n",
              "    .dataframe thead th {\n",
              "        text-align: right;\n",
              "    }\n",
              "</style>\n",
              "<table border=\"1\" class=\"dataframe\">\n",
              "  <thead>\n",
              "    <tr style=\"text-align: right;\">\n",
              "      <th></th>\n",
              "      <th>0</th>\n",
              "      <th>1</th>\n",
              "    </tr>\n",
              "  </thead>\n",
              "  <tbody>\n",
              "    <tr>\n",
              "      <th>0</th>\n",
              "      <td>-0.581353</td>\n",
              "      <td>0.972417</td>\n",
              "    </tr>\n",
              "    <tr>\n",
              "      <th>1</th>\n",
              "      <td>-2.114778</td>\n",
              "      <td>-0.686483</td>\n",
              "    </tr>\n",
              "    <tr>\n",
              "      <th>2</th>\n",
              "      <td>1.074237</td>\n",
              "      <td>-0.856540</td>\n",
              "    </tr>\n",
              "    <tr>\n",
              "      <th>3</th>\n",
              "      <td>-0.301440</td>\n",
              "      <td>2.524262</td>\n",
              "    </tr>\n",
              "    <tr>\n",
              "      <th>4</th>\n",
              "      <td>-1.289945</td>\n",
              "      <td>-1.689438</td>\n",
              "    </tr>\n",
              "    <tr>\n",
              "      <th>...</th>\n",
              "      <td>...</td>\n",
              "      <td>...</td>\n",
              "    </tr>\n",
              "    <tr>\n",
              "      <th>995</th>\n",
              "      <td>-0.560222</td>\n",
              "      <td>0.415023</td>\n",
              "    </tr>\n",
              "    <tr>\n",
              "      <th>996</th>\n",
              "      <td>0.561674</td>\n",
              "      <td>2.745358</td>\n",
              "    </tr>\n",
              "    <tr>\n",
              "      <th>997</th>\n",
              "      <td>0.521781</td>\n",
              "      <td>1.147612</td>\n",
              "    </tr>\n",
              "    <tr>\n",
              "      <th>998</th>\n",
              "      <td>2.738472</td>\n",
              "      <td>0.653940</td>\n",
              "    </tr>\n",
              "    <tr>\n",
              "      <th>999</th>\n",
              "      <td>3.697669</td>\n",
              "      <td>2.392051</td>\n",
              "    </tr>\n",
              "  </tbody>\n",
              "</table>\n",
              "<p>1000 rows × 2 columns</p>\n",
              "</div>"
            ],
            "text/plain": [
              "            0         1\n",
              "0   -0.581353  0.972417\n",
              "1   -2.114778 -0.686483\n",
              "2    1.074237 -0.856540\n",
              "3   -0.301440  2.524262\n",
              "4   -1.289945 -1.689438\n",
              "..        ...       ...\n",
              "995 -0.560222  0.415023\n",
              "996  0.561674  2.745358\n",
              "997  0.521781  1.147612\n",
              "998  2.738472  0.653940\n",
              "999  3.697669  2.392051\n",
              "\n",
              "[1000 rows x 2 columns]"
            ]
          },
          "metadata": {
            "tags": []
          },
          "execution_count": 49
        }
      ]
    },
    {
      "cell_type": "code",
      "metadata": {
        "id": "Wa343ZfSxeFH",
        "colab": {
          "base_uri": "https://localhost:8080/"
        },
        "outputId": "2aa31c9f-8b80-4598-d229-8029d9e40466"
      },
      "source": [
        "from sklearn.cluster import KMeans\n",
        "from sklearn.metrics import silhouette_score\n",
        "\n",
        "# For loop\n",
        "for n_clusters in range(2,10):\n",
        "    kmeans = KMeans(n_clusters=n_clusters)\n",
        "    # Fit and predict your k-Means object\n",
        "    preds = kmeans.fit_predict(Wednesday)\n",
        "    score = silhouette_score(Wednesday, preds, metric='euclidean')\n",
        "    print (\"For n_clusters = {}, silhouette score is {})\".format(n_clusters, score))"
      ],
      "execution_count": 50,
      "outputs": [
        {
          "output_type": "stream",
          "text": [
            "For n_clusters = 2, silhouette score is 0.4412717104951131)\n",
            "For n_clusters = 3, silhouette score is 0.383936241746139)\n",
            "For n_clusters = 4, silhouette score is 0.37839965876131537)\n",
            "For n_clusters = 5, silhouette score is 0.3532834523122184)\n",
            "For n_clusters = 6, silhouette score is 0.3733689023979613)\n",
            "For n_clusters = 7, silhouette score is 0.38084688213974166)\n",
            "For n_clusters = 8, silhouette score is 0.3849013154652278)\n",
            "For n_clusters = 9, silhouette score is 0.37974699929254746)\n"
          ],
          "name": "stdout"
        }
      ]
    },
    {
      "cell_type": "code",
      "metadata": {
        "id": "d5Tzuy2LxmAO",
        "colab": {
          "base_uri": "https://localhost:8080/",
          "height": 295
        },
        "outputId": "82d000a8-8d25-45f8-d63b-21efc56fde4e"
      },
      "source": [
        "sum_of_squared_distances = []\n",
        "\n",
        "# Create for loop\n",
        "for k in range(1,15):\n",
        "    kmeans = KMeans(n_clusters=k)\n",
        "    kmeans = kmeans.fit(Wednesday)\n",
        "    sum_of_squared_distances.append(kmeans.inertia_)\n",
        "\n",
        "# Plot\n",
        "plt.plot(range(1,15), sum_of_squared_distances, 'bx-')\n",
        "plt.xlabel('k')\n",
        "plt.ylabel('Sum of squared distances')\n",
        "plt.title('Elbow Method For Optimal k')\n",
        "plt.show()"
      ],
      "execution_count": 51,
      "outputs": [
        {
          "output_type": "display_data",
          "data": {
            "image/png": "[encoded data removed]",
            "text/plain": [
              "<Figure size 432x288 with 1 Axes>"
            ]
          },
          "metadata": {
            "tags": [],
            "needs_background": "light"
          }
        }
      ]
    },
    {
      "cell_type": "code",
      "metadata": {
        "id": "KYppPfQOxrUk"
      },
      "source": [
        "kmeans_wednesday=KMeans(n_clusters=2, random_state=123)\n",
        "kmeans_wednesday.fit(Wednesday)\n",
        "pred_wednesday=kmeans_wednesday.predict(Wednesday)"
      ],
      "execution_count": 52,
      "outputs": []
    },
    {
      "cell_type": "code",
      "metadata": {
        "id": "Tkc8jjrYyRnG"
      },
      "source": [
        "df_mice['cluster_Wednesday']= pred_wednesday"
      ],
      "execution_count": 53,
      "outputs": []
    },
    {
      "cell_type": "code",
      "metadata": {
        "id": "_WIftpoOyuwD",
        "colab": {
          "base_uri": "https://localhost:8080/",
          "height": 419
        },
        "outputId": "f5110930-a6e7-43f4-ccf9-69ecedecaf8c"
      },
      "source": [
        "df_Thursday=[df['TH1'],df['TH2'],df['TH3'],df_mice['TH4']]\n",
        "df_Thursday=pd.DataFrame(df_Thursday)\n",
        "df_Thursday=df_Thursday.T\n",
        "df_Thursday"
      ],
      "execution_count": 54,
      "outputs": [
        {
          "output_type": "execute_result",
          "data": {
            "text/html": [
              "<div>\n",
              "<style scoped>\n",
              "    .dataframe tbody tr th:only-of-type {\n",
              "        vertical-align: middle;\n",
              "    }\n",
              "\n",
              "    .dataframe tbody tr th {\n",
              "        vertical-align: top;\n",
              "    }\n",
              "\n",
              "    .dataframe thead th {\n",
              "        text-align: right;\n",
              "    }\n",
              "</style>\n",
              "<table border=\"1\" class=\"dataframe\">\n",
              "  <thead>\n",
              "    <tr style=\"text-align: right;\">\n",
              "      <th></th>\n",
              "      <th>TH1</th>\n",
              "      <th>TH2</th>\n",
              "      <th>TH3</th>\n",
              "      <th>TH4</th>\n",
              "    </tr>\n",
              "  </thead>\n",
              "  <tbody>\n",
              "    <tr>\n",
              "      <th>0</th>\n",
              "      <td>6.0</td>\n",
              "      <td>4.0</td>\n",
              "      <td>6.0</td>\n",
              "      <td>7.0</td>\n",
              "    </tr>\n",
              "    <tr>\n",
              "      <th>1</th>\n",
              "      <td>4.0</td>\n",
              "      <td>6.0</td>\n",
              "      <td>6.0</td>\n",
              "      <td>7.0</td>\n",
              "    </tr>\n",
              "    <tr>\n",
              "      <th>2</th>\n",
              "      <td>6.0</td>\n",
              "      <td>5.0</td>\n",
              "      <td>7.0</td>\n",
              "      <td>5.0</td>\n",
              "    </tr>\n",
              "    <tr>\n",
              "      <th>3</th>\n",
              "      <td>4.0</td>\n",
              "      <td>4.0</td>\n",
              "      <td>4.0</td>\n",
              "      <td>7.0</td>\n",
              "    </tr>\n",
              "    <tr>\n",
              "      <th>4</th>\n",
              "      <td>5.0</td>\n",
              "      <td>6.0</td>\n",
              "      <td>7.0</td>\n",
              "      <td>7.0</td>\n",
              "    </tr>\n",
              "    <tr>\n",
              "      <th>...</th>\n",
              "      <td>...</td>\n",
              "      <td>...</td>\n",
              "      <td>...</td>\n",
              "      <td>...</td>\n",
              "    </tr>\n",
              "    <tr>\n",
              "      <th>995</th>\n",
              "      <td>5.0</td>\n",
              "      <td>3.0</td>\n",
              "      <td>6.0</td>\n",
              "      <td>7.0</td>\n",
              "    </tr>\n",
              "    <tr>\n",
              "      <th>996</th>\n",
              "      <td>5.0</td>\n",
              "      <td>4.0</td>\n",
              "      <td>2.0</td>\n",
              "      <td>6.0</td>\n",
              "    </tr>\n",
              "    <tr>\n",
              "      <th>997</th>\n",
              "      <td>2.0</td>\n",
              "      <td>5.0</td>\n",
              "      <td>5.0</td>\n",
              "      <td>5.0</td>\n",
              "    </tr>\n",
              "    <tr>\n",
              "      <th>998</th>\n",
              "      <td>2.0</td>\n",
              "      <td>2.0</td>\n",
              "      <td>7.0</td>\n",
              "      <td>4.0</td>\n",
              "    </tr>\n",
              "    <tr>\n",
              "      <th>999</th>\n",
              "      <td>2.0</td>\n",
              "      <td>4.0</td>\n",
              "      <td>2.0</td>\n",
              "      <td>2.0</td>\n",
              "    </tr>\n",
              "  </tbody>\n",
              "</table>\n",
              "<p>1000 rows × 4 columns</p>\n",
              "</div>"
            ],
            "text/plain": [
              "     TH1  TH2  TH3  TH4\n",
              "0    6.0  4.0  6.0  7.0\n",
              "1    4.0  6.0  6.0  7.0\n",
              "2    6.0  5.0  7.0  5.0\n",
              "3    4.0  4.0  4.0  7.0\n",
              "4    5.0  6.0  7.0  7.0\n",
              "..   ...  ...  ...  ...\n",
              "995  5.0  3.0  6.0  7.0\n",
              "996  5.0  4.0  2.0  6.0\n",
              "997  2.0  5.0  5.0  5.0\n",
              "998  2.0  2.0  7.0  4.0\n",
              "999  2.0  4.0  2.0  2.0\n",
              "\n",
              "[1000 rows x 4 columns]"
            ]
          },
          "metadata": {
            "tags": []
          },
          "execution_count": 54
        }
      ]
    },
    {
      "cell_type": "code",
      "metadata": {
        "id": "VS86k_3czHsy",
        "colab": {
          "base_uri": "https://localhost:8080/"
        },
        "outputId": "904d804b-5b9d-410c-c2ab-36ea3d1e208c"
      },
      "source": [
        "from sklearn.decomposition import PCA\n",
        "\n",
        "# Feature matrix and target array\n",
        "X = df_Thursday\n",
        "\n",
        "# PCA\n",
        "pca = PCA(n_components=2)\n",
        "\n",
        "# Fit and transform\n",
        "principalComponents = pca.fit_transform(X)\n",
        "\n",
        "# Print ratio of variance explained\n",
        "print(pca.explained_variance_ratio_)"
      ],
      "execution_count": 55,
      "outputs": [
        {
          "output_type": "stream",
          "text": [
            "[0.3900774  0.28295381]\n"
          ],
          "name": "stdout"
        }
      ]
    },
    {
      "cell_type": "code",
      "metadata": {
        "id": "DkMbwwrxzPI-",
        "colab": {
          "base_uri": "https://localhost:8080/",
          "height": 419
        },
        "outputId": "9689f55f-93e6-41fc-ece6-9daa0f40c127"
      },
      "source": [
        "Thursday=pd.DataFrame(principalComponents)\n",
        "Thursday"
      ],
      "execution_count": 56,
      "outputs": [
        {
          "output_type": "execute_result",
          "data": {
            "text/html": [
              "<div>\n",
              "<style scoped>\n",
              "    .dataframe tbody tr th:only-of-type {\n",
              "        vertical-align: middle;\n",
              "    }\n",
              "\n",
              "    .dataframe tbody tr th {\n",
              "        vertical-align: top;\n",
              "    }\n",
              "\n",
              "    .dataframe thead th {\n",
              "        text-align: right;\n",
              "    }\n",
              "</style>\n",
              "<table border=\"1\" class=\"dataframe\">\n",
              "  <thead>\n",
              "    <tr style=\"text-align: right;\">\n",
              "      <th></th>\n",
              "      <th>0</th>\n",
              "      <th>1</th>\n",
              "    </tr>\n",
              "  </thead>\n",
              "  <tbody>\n",
              "    <tr>\n",
              "      <th>0</th>\n",
              "      <td>-1.156432</td>\n",
              "      <td>0.371395</td>\n",
              "    </tr>\n",
              "    <tr>\n",
              "      <th>1</th>\n",
              "      <td>-1.097460</td>\n",
              "      <td>0.423998</td>\n",
              "    </tr>\n",
              "    <tr>\n",
              "      <th>2</th>\n",
              "      <td>-0.402173</td>\n",
              "      <td>-1.646206</td>\n",
              "    </tr>\n",
              "    <tr>\n",
              "      <th>3</th>\n",
              "      <td>0.443099</td>\n",
              "      <td>2.182015</td>\n",
              "    </tr>\n",
              "    <tr>\n",
              "      <th>4</th>\n",
              "      <td>-1.897226</td>\n",
              "      <td>-0.481311</td>\n",
              "    </tr>\n",
              "    <tr>\n",
              "      <th>...</th>\n",
              "      <td>...</td>\n",
              "      <td>...</td>\n",
              "    </tr>\n",
              "    <tr>\n",
              "      <th>995</th>\n",
              "      <td>-0.531958</td>\n",
              "      <td>0.526587</td>\n",
              "    </tr>\n",
              "    <tr>\n",
              "      <th>996</th>\n",
              "      <td>1.823958</td>\n",
              "      <td>3.151098</td>\n",
              "    </tr>\n",
              "    <tr>\n",
              "      <th>997</th>\n",
              "      <td>1.851320</td>\n",
              "      <td>0.345906</td>\n",
              "    </tr>\n",
              "    <tr>\n",
              "      <th>998</th>\n",
              "      <td>2.560503</td>\n",
              "      <td>-1.659181</td>\n",
              "    </tr>\n",
              "    <tr>\n",
              "      <th>999</th>\n",
              "      <td>5.853978</td>\n",
              "      <td>1.146151</td>\n",
              "    </tr>\n",
              "  </tbody>\n",
              "</table>\n",
              "<p>1000 rows × 2 columns</p>\n",
              "</div>"
            ],
            "text/plain": [
              "            0         1\n",
              "0   -1.156432  0.371395\n",
              "1   -1.097460  0.423998\n",
              "2   -0.402173 -1.646206\n",
              "3    0.443099  2.182015\n",
              "4   -1.897226 -0.481311\n",
              "..        ...       ...\n",
              "995 -0.531958  0.526587\n",
              "996  1.823958  3.151098\n",
              "997  1.851320  0.345906\n",
              "998  2.560503 -1.659181\n",
              "999  5.853978  1.146151\n",
              "\n",
              "[1000 rows x 2 columns]"
            ]
          },
          "metadata": {
            "tags": []
          },
          "execution_count": 56
        }
      ]
    },
    {
      "cell_type": "code",
      "metadata": {
        "id": "TZk20MNIzV3Y",
        "colab": {
          "base_uri": "https://localhost:8080/"
        },
        "outputId": "ae5a0a30-0c21-4833-8a21-2c3d521e90ac"
      },
      "source": [
        "from sklearn.cluster import KMeans\n",
        "from sklearn.metrics import silhouette_score\n",
        "\n",
        "# For loop\n",
        "for n_clusters in range(2,10):\n",
        "    kmeans = KMeans(n_clusters=n_clusters)\n",
        "    # Fit and predict your k-Means object\n",
        "    preds = kmeans.fit_predict(Thursday)\n",
        "    score = silhouette_score(Thursday, preds, metric='euclidean')\n",
        "    print (\"For n_clusters = {}, silhouette score is {})\".format(n_clusters, score))"
      ],
      "execution_count": 57,
      "outputs": [
        {
          "output_type": "stream",
          "text": [
            "For n_clusters = 2, silhouette score is 0.40824655962321815)\n",
            "For n_clusters = 3, silhouette score is 0.4083802569299528)\n",
            "For n_clusters = 4, silhouette score is 0.45339066781963605)\n",
            "For n_clusters = 5, silhouette score is 0.449714706580961)\n",
            "For n_clusters = 6, silhouette score is 0.46695257021710657)\n",
            "For n_clusters = 7, silhouette score is 0.45880923431733084)\n",
            "For n_clusters = 8, silhouette score is 0.42769852620392657)\n",
            "For n_clusters = 9, silhouette score is 0.4060354744650266)\n"
          ],
          "name": "stdout"
        }
      ]
    },
    {
      "cell_type": "code",
      "metadata": {
        "id": "SF8amr9UztCe",
        "colab": {
          "base_uri": "https://localhost:8080/",
          "height": 295
        },
        "outputId": "fac130c7-e4c4-42a0-fa31-29cfa5c3196d"
      },
      "source": [
        "sum_of_squared_distances = []\n",
        "\n",
        "# Create for loop\n",
        "for k in range(1,15):\n",
        "    kmeans = KMeans(n_clusters=k)\n",
        "    kmeans = kmeans.fit(Thursday)\n",
        "    sum_of_squared_distances.append(kmeans.inertia_)\n",
        "\n",
        "# Plot\n",
        "plt.plot(range(1,15), sum_of_squared_distances, 'bx-')\n",
        "plt.xlabel('k')\n",
        "plt.ylabel('Sum of squared distances')\n",
        "plt.title('Elbow Method For Optimal k')\n",
        "plt.show()"
      ],
      "execution_count": 58,
      "outputs": [
        {
          "output_type": "display_data",
          "data": {
            "image/png": "[encoded data removed]",
            "text/plain": [
              "<Figure size 432x288 with 1 Axes>"
            ]
          },
          "metadata": {
            "tags": [],
            "needs_background": "light"
          }
        }
      ]
    },
    {
      "cell_type": "code",
      "metadata": {
        "id": "DF5b23Bpz-V-"
      },
      "source": [
        "kmeans_thursday=KMeans(n_clusters=4, random_state=123)\n",
        "kmeans_thursday.fit(Thursday)\n",
        "pred_thursday=kmeans_thursday.predict(Thursday)"
      ],
      "execution_count": 59,
      "outputs": []
    },
    {
      "cell_type": "code",
      "metadata": {
        "id": "1sV7vdSf1IiJ"
      },
      "source": [
        "df_mice['cluster_Thursday']= pred_thursday"
      ],
      "execution_count": 60,
      "outputs": []
    },
    {
      "cell_type": "code",
      "metadata": {
        "id": "IPVUTzOy1UXd",
        "colab": {
          "base_uri": "https://localhost:8080/",
          "height": 419
        },
        "outputId": "d579d5b0-92fc-442f-fbdf-088d5eb428a5"
      },
      "source": [
        "df_mice"
      ],
      "execution_count": 61,
      "outputs": [
        {
          "output_type": "execute_result",
          "data": {
            "text/html": [
              "<div>\n",
              "<style scoped>\n",
              "    .dataframe tbody tr th:only-of-type {\n",
              "        vertical-align: middle;\n",
              "    }\n",
              "\n",
              "    .dataframe tbody tr th {\n",
              "        vertical-align: top;\n",
              "    }\n",
              "\n",
              "    .dataframe thead th {\n",
              "        text-align: right;\n",
              "    }\n",
              "</style>\n",
              "<table border=\"1\" class=\"dataframe\">\n",
              "  <thead>\n",
              "    <tr style=\"text-align: right;\">\n",
              "      <th></th>\n",
              "      <th>M4</th>\n",
              "      <th>T4</th>\n",
              "      <th>W4</th>\n",
              "      <th>TH4</th>\n",
              "      <th>F4</th>\n",
              "      <th>cluster_Monday</th>\n",
              "      <th>cluster_Tuesday</th>\n",
              "      <th>cluster_Wednesday</th>\n",
              "      <th>cluster_Thursday</th>\n",
              "    </tr>\n",
              "  </thead>\n",
              "  <tbody>\n",
              "    <tr>\n",
              "      <th>0</th>\n",
              "      <td>4.000000</td>\n",
              "      <td>5.0</td>\n",
              "      <td>6.000000</td>\n",
              "      <td>7.0</td>\n",
              "      <td>7.000000</td>\n",
              "      <td>1</td>\n",
              "      <td>3</td>\n",
              "      <td>0</td>\n",
              "      <td>3</td>\n",
              "    </tr>\n",
              "    <tr>\n",
              "      <th>1</th>\n",
              "      <td>6.000000</td>\n",
              "      <td>6.0</td>\n",
              "      <td>7.000000</td>\n",
              "      <td>7.0</td>\n",
              "      <td>7.000000</td>\n",
              "      <td>1</td>\n",
              "      <td>3</td>\n",
              "      <td>0</td>\n",
              "      <td>3</td>\n",
              "    </tr>\n",
              "    <tr>\n",
              "      <th>2</th>\n",
              "      <td>2.000000</td>\n",
              "      <td>3.0</td>\n",
              "      <td>3.970287</td>\n",
              "      <td>5.0</td>\n",
              "      <td>6.000000</td>\n",
              "      <td>0</td>\n",
              "      <td>2</td>\n",
              "      <td>1</td>\n",
              "      <td>0</td>\n",
              "    </tr>\n",
              "    <tr>\n",
              "      <th>3</th>\n",
              "      <td>4.000000</td>\n",
              "      <td>5.0</td>\n",
              "      <td>6.000000</td>\n",
              "      <td>7.0</td>\n",
              "      <td>7.000000</td>\n",
              "      <td>1</td>\n",
              "      <td>1</td>\n",
              "      <td>0</td>\n",
              "      <td>1</td>\n",
              "    </tr>\n",
              "    <tr>\n",
              "      <th>4</th>\n",
              "      <td>4.032082</td>\n",
              "      <td>5.0</td>\n",
              "      <td>6.000000</td>\n",
              "      <td>7.0</td>\n",
              "      <td>7.412926</td>\n",
              "      <td>1</td>\n",
              "      <td>3</td>\n",
              "      <td>0</td>\n",
              "      <td>3</td>\n",
              "    </tr>\n",
              "    <tr>\n",
              "      <th>...</th>\n",
              "      <td>...</td>\n",
              "      <td>...</td>\n",
              "      <td>...</td>\n",
              "      <td>...</td>\n",
              "      <td>...</td>\n",
              "      <td>...</td>\n",
              "      <td>...</td>\n",
              "      <td>...</td>\n",
              "      <td>...</td>\n",
              "    </tr>\n",
              "    <tr>\n",
              "      <th>995</th>\n",
              "      <td>6.000000</td>\n",
              "      <td>6.0</td>\n",
              "      <td>6.000000</td>\n",
              "      <td>7.0</td>\n",
              "      <td>7.000000</td>\n",
              "      <td>1</td>\n",
              "      <td>3</td>\n",
              "      <td>0</td>\n",
              "      <td>1</td>\n",
              "    </tr>\n",
              "    <tr>\n",
              "      <th>996</th>\n",
              "      <td>5.000000</td>\n",
              "      <td>5.0</td>\n",
              "      <td>5.000000</td>\n",
              "      <td>6.0</td>\n",
              "      <td>7.000000</td>\n",
              "      <td>1</td>\n",
              "      <td>1</td>\n",
              "      <td>0</td>\n",
              "      <td>1</td>\n",
              "    </tr>\n",
              "    <tr>\n",
              "      <th>997</th>\n",
              "      <td>4.824218</td>\n",
              "      <td>5.0</td>\n",
              "      <td>5.000000</td>\n",
              "      <td>5.0</td>\n",
              "      <td>5.000000</td>\n",
              "      <td>1</td>\n",
              "      <td>3</td>\n",
              "      <td>0</td>\n",
              "      <td>2</td>\n",
              "    </tr>\n",
              "    <tr>\n",
              "      <th>998</th>\n",
              "      <td>3.000000</td>\n",
              "      <td>3.0</td>\n",
              "      <td>3.000000</td>\n",
              "      <td>4.0</td>\n",
              "      <td>5.000000</td>\n",
              "      <td>0</td>\n",
              "      <td>2</td>\n",
              "      <td>1</td>\n",
              "      <td>2</td>\n",
              "    </tr>\n",
              "    <tr>\n",
              "      <th>999</th>\n",
              "      <td>1.000000</td>\n",
              "      <td>1.0</td>\n",
              "      <td>2.000000</td>\n",
              "      <td>2.0</td>\n",
              "      <td>2.966608</td>\n",
              "      <td>0</td>\n",
              "      <td>0</td>\n",
              "      <td>1</td>\n",
              "      <td>2</td>\n",
              "    </tr>\n",
              "  </tbody>\n",
              "</table>\n",
              "<p>1000 rows × 9 columns</p>\n",
              "</div>"
            ],
            "text/plain": [
              "           M4   T4  ...  cluster_Wednesday  cluster_Thursday\n",
              "0    4.000000  5.0  ...                  0                 3\n",
              "1    6.000000  6.0  ...                  0                 3\n",
              "2    2.000000  3.0  ...                  1                 0\n",
              "3    4.000000  5.0  ...                  0                 1\n",
              "4    4.032082  5.0  ...                  0                 3\n",
              "..        ...  ...  ...                ...               ...\n",
              "995  6.000000  6.0  ...                  0                 1\n",
              "996  5.000000  5.0  ...                  0                 1\n",
              "997  4.824218  5.0  ...                  0                 2\n",
              "998  3.000000  3.0  ...                  1                 2\n",
              "999  1.000000  1.0  ...                  1                 2\n",
              "\n",
              "[1000 rows x 9 columns]"
            ]
          },
          "metadata": {
            "tags": []
          },
          "execution_count": 61
        }
      ]
    },
    {
      "cell_type": "code",
      "metadata": {
        "id": "LVporyo51Vso",
        "colab": {
          "base_uri": "https://localhost:8080/",
          "height": 419
        },
        "outputId": "47aafd61-8450-47fc-e07c-79e4cef9d90a"
      },
      "source": [
        "df_Friday=[df['F1'],df['F2'],df['F3'],df_mice['F4']]\n",
        "df_Friday=pd.DataFrame(df_Friday)\n",
        "df_Friday=df_Friday.T\n",
        "df_Friday"
      ],
      "execution_count": 62,
      "outputs": [
        {
          "output_type": "execute_result",
          "data": {
            "text/html": [
              "<div>\n",
              "<style scoped>\n",
              "    .dataframe tbody tr th:only-of-type {\n",
              "        vertical-align: middle;\n",
              "    }\n",
              "\n",
              "    .dataframe tbody tr th {\n",
              "        vertical-align: top;\n",
              "    }\n",
              "\n",
              "    .dataframe thead th {\n",
              "        text-align: right;\n",
              "    }\n",
              "</style>\n",
              "<table border=\"1\" class=\"dataframe\">\n",
              "  <thead>\n",
              "    <tr style=\"text-align: right;\">\n",
              "      <th></th>\n",
              "      <th>F1</th>\n",
              "      <th>F2</th>\n",
              "      <th>F3</th>\n",
              "      <th>F4</th>\n",
              "    </tr>\n",
              "  </thead>\n",
              "  <tbody>\n",
              "    <tr>\n",
              "      <th>0</th>\n",
              "      <td>7.0</td>\n",
              "      <td>5.0</td>\n",
              "      <td>7.0</td>\n",
              "      <td>7.000000</td>\n",
              "    </tr>\n",
              "    <tr>\n",
              "      <th>1</th>\n",
              "      <td>5.0</td>\n",
              "      <td>7.0</td>\n",
              "      <td>7.0</td>\n",
              "      <td>7.000000</td>\n",
              "    </tr>\n",
              "    <tr>\n",
              "      <th>2</th>\n",
              "      <td>7.0</td>\n",
              "      <td>6.0</td>\n",
              "      <td>7.0</td>\n",
              "      <td>6.000000</td>\n",
              "    </tr>\n",
              "    <tr>\n",
              "      <th>3</th>\n",
              "      <td>5.0</td>\n",
              "      <td>5.0</td>\n",
              "      <td>5.0</td>\n",
              "      <td>7.000000</td>\n",
              "    </tr>\n",
              "    <tr>\n",
              "      <th>4</th>\n",
              "      <td>6.0</td>\n",
              "      <td>7.0</td>\n",
              "      <td>7.0</td>\n",
              "      <td>7.412926</td>\n",
              "    </tr>\n",
              "    <tr>\n",
              "      <th>...</th>\n",
              "      <td>...</td>\n",
              "      <td>...</td>\n",
              "      <td>...</td>\n",
              "      <td>...</td>\n",
              "    </tr>\n",
              "    <tr>\n",
              "      <th>995</th>\n",
              "      <td>5.0</td>\n",
              "      <td>3.0</td>\n",
              "      <td>6.0</td>\n",
              "      <td>7.000000</td>\n",
              "    </tr>\n",
              "    <tr>\n",
              "      <th>996</th>\n",
              "      <td>7.0</td>\n",
              "      <td>5.0</td>\n",
              "      <td>3.0</td>\n",
              "      <td>7.000000</td>\n",
              "    </tr>\n",
              "    <tr>\n",
              "      <th>997</th>\n",
              "      <td>3.0</td>\n",
              "      <td>5.0</td>\n",
              "      <td>5.0</td>\n",
              "      <td>5.000000</td>\n",
              "    </tr>\n",
              "    <tr>\n",
              "      <th>998</th>\n",
              "      <td>3.0</td>\n",
              "      <td>2.0</td>\n",
              "      <td>7.0</td>\n",
              "      <td>5.000000</td>\n",
              "    </tr>\n",
              "    <tr>\n",
              "      <th>999</th>\n",
              "      <td>3.0</td>\n",
              "      <td>4.0</td>\n",
              "      <td>3.0</td>\n",
              "      <td>2.966608</td>\n",
              "    </tr>\n",
              "  </tbody>\n",
              "</table>\n",
              "<p>1000 rows × 4 columns</p>\n",
              "</div>"
            ],
            "text/plain": [
              "      F1   F2   F3        F4\n",
              "0    7.0  5.0  7.0  7.000000\n",
              "1    5.0  7.0  7.0  7.000000\n",
              "2    7.0  6.0  7.0  6.000000\n",
              "3    5.0  5.0  5.0  7.000000\n",
              "4    6.0  7.0  7.0  7.412926\n",
              "..   ...  ...  ...       ...\n",
              "995  5.0  3.0  6.0  7.000000\n",
              "996  7.0  5.0  3.0  7.000000\n",
              "997  3.0  5.0  5.0  5.000000\n",
              "998  3.0  2.0  7.0  5.000000\n",
              "999  3.0  4.0  3.0  2.966608\n",
              "\n",
              "[1000 rows x 4 columns]"
            ]
          },
          "metadata": {
            "tags": []
          },
          "execution_count": 62
        }
      ]
    },
    {
      "cell_type": "code",
      "metadata": {
        "id": "BlRkbox710sA",
        "colab": {
          "base_uri": "https://localhost:8080/"
        },
        "outputId": "6e1cb3b3-0106-4a7e-c930-763619e10e37"
      },
      "source": [
        "from sklearn.decomposition import PCA\n",
        "\n",
        "# Feature matrix and target array\n",
        "X = df_Friday\n",
        "\n",
        "# PCA\n",
        "pca = PCA(n_components=2)\n",
        "\n",
        "# Fit and transform\n",
        "principalComponents = pca.fit_transform(X)\n",
        "\n",
        "# Print ratio of variance explained\n",
        "print(pca.explained_variance_ratio_)"
      ],
      "execution_count": 63,
      "outputs": [
        {
          "output_type": "stream",
          "text": [
            "[0.47047558 0.19543723]\n"
          ],
          "name": "stdout"
        }
      ]
    },
    {
      "cell_type": "code",
      "metadata": {
        "id": "VWw8PUVb3I8c",
        "colab": {
          "base_uri": "https://localhost:8080/",
          "height": 419
        },
        "outputId": "62f4ed8f-9947-42bf-fa74-364955c57be1"
      },
      "source": [
        "Friday=pd.DataFrame(principalComponents)\n",
        "Friday"
      ],
      "execution_count": 64,
      "outputs": [
        {
          "output_type": "execute_result",
          "data": {
            "text/html": [
              "<div>\n",
              "<style scoped>\n",
              "    .dataframe tbody tr th:only-of-type {\n",
              "        vertical-align: middle;\n",
              "    }\n",
              "\n",
              "    .dataframe tbody tr th {\n",
              "        vertical-align: top;\n",
              "    }\n",
              "\n",
              "    .dataframe thead th {\n",
              "        text-align: right;\n",
              "    }\n",
              "</style>\n",
              "<table border=\"1\" class=\"dataframe\">\n",
              "  <thead>\n",
              "    <tr style=\"text-align: right;\">\n",
              "      <th></th>\n",
              "      <th>0</th>\n",
              "      <th>1</th>\n",
              "    </tr>\n",
              "  </thead>\n",
              "  <tbody>\n",
              "    <tr>\n",
              "      <th>0</th>\n",
              "      <td>-0.862328</td>\n",
              "      <td>-0.054194</td>\n",
              "    </tr>\n",
              "    <tr>\n",
              "      <th>1</th>\n",
              "      <td>-0.815458</td>\n",
              "      <td>-0.029952</td>\n",
              "    </tr>\n",
              "    <tr>\n",
              "      <th>2</th>\n",
              "      <td>-0.895260</td>\n",
              "      <td>0.777850</td>\n",
              "    </tr>\n",
              "    <tr>\n",
              "      <th>3</th>\n",
              "      <td>1.119411</td>\n",
              "      <td>-1.481248</td>\n",
              "    </tr>\n",
              "    <tr>\n",
              "      <th>4</th>\n",
              "      <td>-1.557990</td>\n",
              "      <td>-0.276304</td>\n",
              "    </tr>\n",
              "    <tr>\n",
              "      <th>...</th>\n",
              "      <td>...</td>\n",
              "      <td>...</td>\n",
              "    </tr>\n",
              "    <tr>\n",
              "      <th>995</th>\n",
              "      <td>1.707675</td>\n",
              "      <td>-0.987759</td>\n",
              "    </tr>\n",
              "    <tr>\n",
              "      <th>996</th>\n",
              "      <td>0.933144</td>\n",
              "      <td>-2.647242</td>\n",
              "    </tr>\n",
              "    <tr>\n",
              "      <th>997</th>\n",
              "      <td>3.174683</td>\n",
              "      <td>-0.102463</td>\n",
              "    </tr>\n",
              "    <tr>\n",
              "      <th>998</th>\n",
              "      <td>3.832645</td>\n",
              "      <td>0.961902</td>\n",
              "    </tr>\n",
              "    <tr>\n",
              "      <th>999</th>\n",
              "      <td>5.578471</td>\n",
              "      <td>0.058141</td>\n",
              "    </tr>\n",
              "  </tbody>\n",
              "</table>\n",
              "<p>1000 rows × 2 columns</p>\n",
              "</div>"
            ],
            "text/plain": [
              "            0         1\n",
              "0   -0.862328 -0.054194\n",
              "1   -0.815458 -0.029952\n",
              "2   -0.895260  0.777850\n",
              "3    1.119411 -1.481248\n",
              "4   -1.557990 -0.276304\n",
              "..        ...       ...\n",
              "995  1.707675 -0.987759\n",
              "996  0.933144 -2.647242\n",
              "997  3.174683 -0.102463\n",
              "998  3.832645  0.961902\n",
              "999  5.578471  0.058141\n",
              "\n",
              "[1000 rows x 2 columns]"
            ]
          },
          "metadata": {
            "tags": []
          },
          "execution_count": 64
        }
      ]
    },
    {
      "cell_type": "code",
      "metadata": {
        "colab": {
          "base_uri": "https://localhost:8080/"
        },
        "id": "6jSzF0it2F5X",
        "outputId": "4229a745-0c94-401f-9421-12c794abb2dd"
      },
      "source": [
        "from sklearn.cluster import KMeans\n",
        "from sklearn.metrics import silhouette_score\n",
        "\n",
        "# For loop\n",
        "for n_clusters in range(2,10):\n",
        "    kmeans = KMeans(n_clusters=n_clusters)\n",
        "    # Fit and predict your k-Means object\n",
        "    preds = kmeans.fit_predict(Friday)\n",
        "    score = silhouette_score(Friday, preds, metric='euclidean')\n",
        "    print (\"For n_clusters = {}, silhouette score is {})\".format(n_clusters, score))"
      ],
      "execution_count": 65,
      "outputs": [
        {
          "output_type": "stream",
          "text": [
            "For n_clusters = 2, silhouette score is 0.5561762783631714)\n",
            "For n_clusters = 3, silhouette score is 0.4736195824824133)\n",
            "For n_clusters = 4, silhouette score is 0.4064802799436574)\n",
            "For n_clusters = 5, silhouette score is 0.41838734305787034)\n",
            "For n_clusters = 6, silhouette score is 0.41406523927213246)\n",
            "For n_clusters = 7, silhouette score is 0.425580926675167)\n",
            "For n_clusters = 8, silhouette score is 0.4181951420035807)\n",
            "For n_clusters = 9, silhouette score is 0.425363112446685)\n"
          ],
          "name": "stdout"
        }
      ]
    },
    {
      "cell_type": "code",
      "metadata": {
        "colab": {
          "base_uri": "https://localhost:8080/",
          "height": 295
        },
        "id": "0mM2Sa-13CBO",
        "outputId": "0ff68ec1-e929-4c18-8b80-642730728d46"
      },
      "source": [
        "sum_of_squared_distances = []\n",
        "\n",
        "# Create for loop\n",
        "for k in range(1,15):\n",
        "    kmeans = KMeans(n_clusters=k)\n",
        "    kmeans = kmeans.fit(Friday)\n",
        "    sum_of_squared_distances.append(kmeans.inertia_)\n",
        "\n",
        "# Plot\n",
        "plt.plot(range(1,15), sum_of_squared_distances, 'bx-')\n",
        "plt.xlabel('k')\n",
        "plt.ylabel('Sum of squared distances')\n",
        "plt.title('Elbow Method For Optimal k')\n",
        "plt.show()"
      ],
      "execution_count": 66,
      "outputs": [
        {
          "output_type": "display_data",
          "data": {
            "image/png": "[encoded data removed]",
            "text/plain": [
              "<Figure size 432x288 with 1 Axes>"
            ]
          },
          "metadata": {
            "tags": [],
            "needs_background": "light"
          }
        }
      ]
    },
    {
      "cell_type": "code",
      "metadata": {
        "id": "yZQWfKEB3XdX"
      },
      "source": [
        "kmeans_friday=KMeans(n_clusters=2, random_state=123)\n",
        "kmeans_friday.fit(Friday)\n",
        "pred_friday=kmeans_friday.predict(Friday)"
      ],
      "execution_count": 67,
      "outputs": []
    },
    {
      "cell_type": "code",
      "metadata": {
        "id": "hsf1cjBf3odc"
      },
      "source": [
        "df_mice['cluster_Friday']= pred_friday"
      ],
      "execution_count": 68,
      "outputs": []
    },
    {
      "cell_type": "code",
      "metadata": {
        "colab": {
          "base_uri": "https://localhost:8080/",
          "height": 439
        },
        "id": "MTLJ2jdC3vdJ",
        "outputId": "e2bfe32c-9479-449b-a212-cc3f1ec88db3"
      },
      "source": [
        "df_mice"
      ],
      "execution_count": 69,
      "outputs": [
        {
          "output_type": "execute_result",
          "data": {
            "text/html": [
              "<div>\n",
              "<style scoped>\n",
              "    .dataframe tbody tr th:only-of-type {\n",
              "        vertical-align: middle;\n",
              "    }\n",
              "\n",
              "    .dataframe tbody tr th {\n",
              "        vertical-align: top;\n",
              "    }\n",
              "\n",
              "    .dataframe thead th {\n",
              "        text-align: right;\n",
              "    }\n",
              "</style>\n",
              "<table border=\"1\" class=\"dataframe\">\n",
              "  <thead>\n",
              "    <tr style=\"text-align: right;\">\n",
              "      <th></th>\n",
              "      <th>M4</th>\n",
              "      <th>T4</th>\n",
              "      <th>W4</th>\n",
              "      <th>TH4</th>\n",
              "      <th>F4</th>\n",
              "      <th>cluster_Monday</th>\n",
              "      <th>cluster_Tuesday</th>\n",
              "      <th>cluster_Wednesday</th>\n",
              "      <th>cluster_Thursday</th>\n",
              "      <th>cluster_Friday</th>\n",
              "    </tr>\n",
              "  </thead>\n",
              "  <tbody>\n",
              "    <tr>\n",
              "      <th>0</th>\n",
              "      <td>4.000000</td>\n",
              "      <td>5.0</td>\n",
              "      <td>6.000000</td>\n",
              "      <td>7.0</td>\n",
              "      <td>7.000000</td>\n",
              "      <td>1</td>\n",
              "      <td>3</td>\n",
              "      <td>0</td>\n",
              "      <td>3</td>\n",
              "      <td>1</td>\n",
              "    </tr>\n",
              "    <tr>\n",
              "      <th>1</th>\n",
              "      <td>6.000000</td>\n",
              "      <td>6.0</td>\n",
              "      <td>7.000000</td>\n",
              "      <td>7.0</td>\n",
              "      <td>7.000000</td>\n",
              "      <td>1</td>\n",
              "      <td>3</td>\n",
              "      <td>0</td>\n",
              "      <td>3</td>\n",
              "      <td>1</td>\n",
              "    </tr>\n",
              "    <tr>\n",
              "      <th>2</th>\n",
              "      <td>2.000000</td>\n",
              "      <td>3.0</td>\n",
              "      <td>3.970287</td>\n",
              "      <td>5.0</td>\n",
              "      <td>6.000000</td>\n",
              "      <td>0</td>\n",
              "      <td>2</td>\n",
              "      <td>1</td>\n",
              "      <td>0</td>\n",
              "      <td>1</td>\n",
              "    </tr>\n",
              "    <tr>\n",
              "      <th>3</th>\n",
              "      <td>4.000000</td>\n",
              "      <td>5.0</td>\n",
              "      <td>6.000000</td>\n",
              "      <td>7.0</td>\n",
              "      <td>7.000000</td>\n",
              "      <td>1</td>\n",
              "      <td>1</td>\n",
              "      <td>0</td>\n",
              "      <td>1</td>\n",
              "      <td>0</td>\n",
              "    </tr>\n",
              "    <tr>\n",
              "      <th>4</th>\n",
              "      <td>4.032082</td>\n",
              "      <td>5.0</td>\n",
              "      <td>6.000000</td>\n",
              "      <td>7.0</td>\n",
              "      <td>7.412926</td>\n",
              "      <td>1</td>\n",
              "      <td>3</td>\n",
              "      <td>0</td>\n",
              "      <td>3</td>\n",
              "      <td>1</td>\n",
              "    </tr>\n",
              "    <tr>\n",
              "      <th>...</th>\n",
              "      <td>...</td>\n",
              "      <td>...</td>\n",
              "      <td>...</td>\n",
              "      <td>...</td>\n",
              "      <td>...</td>\n",
              "      <td>...</td>\n",
              "      <td>...</td>\n",
              "      <td>...</td>\n",
              "      <td>...</td>\n",
              "      <td>...</td>\n",
              "    </tr>\n",
              "    <tr>\n",
              "      <th>995</th>\n",
              "      <td>6.000000</td>\n",
              "      <td>6.0</td>\n",
              "      <td>6.000000</td>\n",
              "      <td>7.0</td>\n",
              "      <td>7.000000</td>\n",
              "      <td>1</td>\n",
              "      <td>3</td>\n",
              "      <td>0</td>\n",
              "      <td>1</td>\n",
              "      <td>0</td>\n",
              "    </tr>\n",
              "    <tr>\n",
              "      <th>996</th>\n",
              "      <td>5.000000</td>\n",
              "      <td>5.0</td>\n",
              "      <td>5.000000</td>\n",
              "      <td>6.0</td>\n",
              "      <td>7.000000</td>\n",
              "      <td>1</td>\n",
              "      <td>1</td>\n",
              "      <td>0</td>\n",
              "      <td>1</td>\n",
              "      <td>1</td>\n",
              "    </tr>\n",
              "    <tr>\n",
              "      <th>997</th>\n",
              "      <td>4.824218</td>\n",
              "      <td>5.0</td>\n",
              "      <td>5.000000</td>\n",
              "      <td>5.0</td>\n",
              "      <td>5.000000</td>\n",
              "      <td>1</td>\n",
              "      <td>3</td>\n",
              "      <td>0</td>\n",
              "      <td>2</td>\n",
              "      <td>0</td>\n",
              "    </tr>\n",
              "    <tr>\n",
              "      <th>998</th>\n",
              "      <td>3.000000</td>\n",
              "      <td>3.0</td>\n",
              "      <td>3.000000</td>\n",
              "      <td>4.0</td>\n",
              "      <td>5.000000</td>\n",
              "      <td>0</td>\n",
              "      <td>2</td>\n",
              "      <td>1</td>\n",
              "      <td>2</td>\n",
              "      <td>0</td>\n",
              "    </tr>\n",
              "    <tr>\n",
              "      <th>999</th>\n",
              "      <td>1.000000</td>\n",
              "      <td>1.0</td>\n",
              "      <td>2.000000</td>\n",
              "      <td>2.0</td>\n",
              "      <td>2.966608</td>\n",
              "      <td>0</td>\n",
              "      <td>0</td>\n",
              "      <td>1</td>\n",
              "      <td>2</td>\n",
              "      <td>0</td>\n",
              "    </tr>\n",
              "  </tbody>\n",
              "</table>\n",
              "<p>1000 rows × 10 columns</p>\n",
              "</div>"
            ],
            "text/plain": [
              "           M4   T4  ...  cluster_Thursday  cluster_Friday\n",
              "0    4.000000  5.0  ...                 3               1\n",
              "1    6.000000  6.0  ...                 3               1\n",
              "2    2.000000  3.0  ...                 0               1\n",
              "3    4.000000  5.0  ...                 1               0\n",
              "4    4.032082  5.0  ...                 3               1\n",
              "..        ...  ...  ...               ...             ...\n",
              "995  6.000000  6.0  ...                 1               0\n",
              "996  5.000000  5.0  ...                 1               1\n",
              "997  4.824218  5.0  ...                 2               0\n",
              "998  3.000000  3.0  ...                 2               0\n",
              "999  1.000000  1.0  ...                 2               0\n",
              "\n",
              "[1000 rows x 10 columns]"
            ]
          },
          "metadata": {
            "tags": []
          },
          "execution_count": 69
        }
      ]
    },
    {
      "cell_type": "code",
      "metadata": {
        "id": "FBgrL5uI3wzi"
      },
      "source": [
        "df_mice=df_mice.round(0)"
      ],
      "execution_count": 70,
      "outputs": []
    },
    {
      "cell_type": "code",
      "metadata": {
        "colab": {
          "base_uri": "https://localhost:8080/",
          "height": 419
        },
        "id": "ECDVPCnwVA62",
        "outputId": "869ad95a-960c-4589-e591-12b65fdb9afe"
      },
      "source": [
        "df_mice"
      ],
      "execution_count": 71,
      "outputs": [
        {
          "output_type": "execute_result",
          "data": {
            "text/html": [
              "<div>\n",
              "<style scoped>\n",
              "    .dataframe tbody tr th:only-of-type {\n",
              "        vertical-align: middle;\n",
              "    }\n",
              "\n",
              "    .dataframe tbody tr th {\n",
              "        vertical-align: top;\n",
              "    }\n",
              "\n",
              "    .dataframe thead th {\n",
              "        text-align: right;\n",
              "    }\n",
              "</style>\n",
              "<table border=\"1\" class=\"dataframe\">\n",
              "  <thead>\n",
              "    <tr style=\"text-align: right;\">\n",
              "      <th></th>\n",
              "      <th>M4</th>\n",
              "      <th>T4</th>\n",
              "      <th>W4</th>\n",
              "      <th>TH4</th>\n",
              "      <th>F4</th>\n",
              "      <th>cluster_Monday</th>\n",
              "      <th>cluster_Tuesday</th>\n",
              "      <th>cluster_Wednesday</th>\n",
              "      <th>cluster_Thursday</th>\n",
              "      <th>cluster_Friday</th>\n",
              "    </tr>\n",
              "  </thead>\n",
              "  <tbody>\n",
              "    <tr>\n",
              "      <th>0</th>\n",
              "      <td>4.0</td>\n",
              "      <td>5.0</td>\n",
              "      <td>6.0</td>\n",
              "      <td>7.0</td>\n",
              "      <td>7.0</td>\n",
              "      <td>1</td>\n",
              "      <td>3</td>\n",
              "      <td>0</td>\n",
              "      <td>3</td>\n",
              "      <td>1</td>\n",
              "    </tr>\n",
              "    <tr>\n",
              "      <th>1</th>\n",
              "      <td>6.0</td>\n",
              "      <td>6.0</td>\n",
              "      <td>7.0</td>\n",
              "      <td>7.0</td>\n",
              "      <td>7.0</td>\n",
              "      <td>1</td>\n",
              "      <td>3</td>\n",
              "      <td>0</td>\n",
              "      <td>3</td>\n",
              "      <td>1</td>\n",
              "    </tr>\n",
              "    <tr>\n",
              "      <th>2</th>\n",
              "      <td>2.0</td>\n",
              "      <td>3.0</td>\n",
              "      <td>4.0</td>\n",
              "      <td>5.0</td>\n",
              "      <td>6.0</td>\n",
              "      <td>0</td>\n",
              "      <td>2</td>\n",
              "      <td>1</td>\n",
              "      <td>0</td>\n",
              "      <td>1</td>\n",
              "    </tr>\n",
              "    <tr>\n",
              "      <th>3</th>\n",
              "      <td>4.0</td>\n",
              "      <td>5.0</td>\n",
              "      <td>6.0</td>\n",
              "      <td>7.0</td>\n",
              "      <td>7.0</td>\n",
              "      <td>1</td>\n",
              "      <td>1</td>\n",
              "      <td>0</td>\n",
              "      <td>1</td>\n",
              "      <td>0</td>\n",
              "    </tr>\n",
              "    <tr>\n",
              "      <th>4</th>\n",
              "      <td>4.0</td>\n",
              "      <td>5.0</td>\n",
              "      <td>6.0</td>\n",
              "      <td>7.0</td>\n",
              "      <td>7.0</td>\n",
              "      <td>1</td>\n",
              "      <td>3</td>\n",
              "      <td>0</td>\n",
              "      <td>3</td>\n",
              "      <td>1</td>\n",
              "    </tr>\n",
              "    <tr>\n",
              "      <th>...</th>\n",
              "      <td>...</td>\n",
              "      <td>...</td>\n",
              "      <td>...</td>\n",
              "      <td>...</td>\n",
              "      <td>...</td>\n",
              "      <td>...</td>\n",
              "      <td>...</td>\n",
              "      <td>...</td>\n",
              "      <td>...</td>\n",
              "      <td>...</td>\n",
              "    </tr>\n",
              "    <tr>\n",
              "      <th>995</th>\n",
              "      <td>6.0</td>\n",
              "      <td>6.0</td>\n",
              "      <td>6.0</td>\n",
              "      <td>7.0</td>\n",
              "      <td>7.0</td>\n",
              "      <td>1</td>\n",
              "      <td>3</td>\n",
              "      <td>0</td>\n",
              "      <td>1</td>\n",
              "      <td>0</td>\n",
              "    </tr>\n",
              "    <tr>\n",
              "      <th>996</th>\n",
              "      <td>5.0</td>\n",
              "      <td>5.0</td>\n",
              "      <td>5.0</td>\n",
              "      <td>6.0</td>\n",
              "      <td>7.0</td>\n",
              "      <td>1</td>\n",
              "      <td>1</td>\n",
              "      <td>0</td>\n",
              "      <td>1</td>\n",
              "      <td>1</td>\n",
              "    </tr>\n",
              "    <tr>\n",
              "      <th>997</th>\n",
              "      <td>5.0</td>\n",
              "      <td>5.0</td>\n",
              "      <td>5.0</td>\n",
              "      <td>5.0</td>\n",
              "      <td>5.0</td>\n",
              "      <td>1</td>\n",
              "      <td>3</td>\n",
              "      <td>0</td>\n",
              "      <td>2</td>\n",
              "      <td>0</td>\n",
              "    </tr>\n",
              "    <tr>\n",
              "      <th>998</th>\n",
              "      <td>3.0</td>\n",
              "      <td>3.0</td>\n",
              "      <td>3.0</td>\n",
              "      <td>4.0</td>\n",
              "      <td>5.0</td>\n",
              "      <td>0</td>\n",
              "      <td>2</td>\n",
              "      <td>1</td>\n",
              "      <td>2</td>\n",
              "      <td>0</td>\n",
              "    </tr>\n",
              "    <tr>\n",
              "      <th>999</th>\n",
              "      <td>1.0</td>\n",
              "      <td>1.0</td>\n",
              "      <td>2.0</td>\n",
              "      <td>2.0</td>\n",
              "      <td>3.0</td>\n",
              "      <td>0</td>\n",
              "      <td>0</td>\n",
              "      <td>1</td>\n",
              "      <td>2</td>\n",
              "      <td>0</td>\n",
              "    </tr>\n",
              "  </tbody>\n",
              "</table>\n",
              "<p>1000 rows × 10 columns</p>\n",
              "</div>"
            ],
            "text/plain": [
              "      M4   T4   W4  ...  cluster_Wednesday  cluster_Thursday  cluster_Friday\n",
              "0    4.0  5.0  6.0  ...                  0                 3               1\n",
              "1    6.0  6.0  7.0  ...                  0                 3               1\n",
              "2    2.0  3.0  4.0  ...                  1                 0               1\n",
              "3    4.0  5.0  6.0  ...                  0                 1               0\n",
              "4    4.0  5.0  6.0  ...                  0                 3               1\n",
              "..   ...  ...  ...  ...                ...               ...             ...\n",
              "995  6.0  6.0  6.0  ...                  0                 1               0\n",
              "996  5.0  5.0  5.0  ...                  0                 1               1\n",
              "997  5.0  5.0  5.0  ...                  0                 2               0\n",
              "998  3.0  3.0  3.0  ...                  1                 2               0\n",
              "999  1.0  1.0  2.0  ...                  1                 2               0\n",
              "\n",
              "[1000 rows x 10 columns]"
            ]
          },
          "metadata": {
            "tags": []
          },
          "execution_count": 71
        }
      ]
    },
    {
      "cell_type": "code",
      "metadata": {
        "id": "_sflU2NeVCJM"
      },
      "source": [
        "df_m=df_mice[['M4','cluster_Monday']]"
      ],
      "execution_count": 72,
      "outputs": []
    },
    {
      "cell_type": "code",
      "metadata": {
        "colab": {
          "base_uri": "https://localhost:8080/",
          "height": 302
        },
        "id": "gWpXWJy6eKdQ",
        "outputId": "5bd19417-8ef3-4ed6-a125-3b7229f3144e"
      },
      "source": [
        "import seaborn as sns\n",
        "sns.set_theme(style=\"whitegrid\")\n",
        "sns.boxplot(x=\"cluster_Monday\", y=\"M4\", data=df_mice)"
      ],
      "execution_count": 73,
      "outputs": [
        {
          "output_type": "execute_result",
          "data": {
            "text/plain": [
              "<matplotlib.axes._subplots.AxesSubplot at 0x7f1571d5e748>"
            ]
          },
          "metadata": {
            "tags": []
          },
          "execution_count": 73
        },
        {
          "output_type": "display_data",
          "data": {
            "image/png": "[encoded data removed]",
            "text/plain": [
              "<Figure size 432x288 with 1 Axes>"
            ]
          },
          "metadata": {
            "tags": []
          }
        }
      ]
    },
    {
      "cell_type": "code",
      "metadata": {
        "colab": {
          "base_uri": "https://localhost:8080/",
          "height": 302
        },
        "id": "-VH6jUH4e16G",
        "outputId": "0b5f9e50-aeb8-4161-f7c8-bc8caaf2bdd2"
      },
      "source": [
        "sns.boxplot(x=\"cluster_Tuesday\", y=\"T4\", data=df_mice)"
      ],
      "execution_count": 74,
      "outputs": [
        {
          "output_type": "execute_result",
          "data": {
            "text/plain": [
              "<matplotlib.axes._subplots.AxesSubplot at 0x7f1570c4e5c0>"
            ]
          },
          "metadata": {
            "tags": []
          },
          "execution_count": 74
        },
        {
          "output_type": "display_data",
          "data": {
            "image/png": "[encoded data removed]",
            "text/plain": [
              "<Figure size 432x288 with 1 Axes>"
            ]
          },
          "metadata": {
            "tags": []
          }
        }
      ]
    },
    {
      "cell_type": "code",
      "metadata": {
        "colab": {
          "base_uri": "https://localhost:8080/",
          "height": 302
        },
        "id": "sK-UKMOSfd9R",
        "outputId": "da27133f-3584-4c6d-f700-ecdff1191956"
      },
      "source": [
        "sns.boxplot(x=\"cluster_Wednesday\", y=\"W4\", data=df_mice)"
      ],
      "execution_count": 75,
      "outputs": [
        {
          "output_type": "execute_result",
          "data": {
            "text/plain": [
              "<matplotlib.axes._subplots.AxesSubplot at 0x7f1570cd0080>"
            ]
          },
          "metadata": {
            "tags": []
          },
          "execution_count": 75
        },
        {
          "output_type": "display_data",
          "data": {
            "image/png": "[encoded data removed]",
            "text/plain": [
              "<Figure size 432x288 with 1 Axes>"
            ]
          },
          "metadata": {
            "tags": []
          }
        }
      ]
    },
    {
      "cell_type": "code",
      "metadata": {
        "colab": {
          "base_uri": "https://localhost:8080/",
          "height": 302
        },
        "id": "0-wuutMofiS5",
        "outputId": "62d332df-b1b9-46a3-a629-cf26a517b683"
      },
      "source": [
        "sns.boxplot(x=\"cluster_Thursday\", y=\"TH4\", data=df_mice)"
      ],
      "execution_count": 76,
      "outputs": [
        {
          "output_type": "execute_result",
          "data": {
            "text/plain": [
              "<matplotlib.axes._subplots.AxesSubplot at 0x7f1570d1dbe0>"
            ]
          },
          "metadata": {
            "tags": []
          },
          "execution_count": 76
        },
        {
          "output_type": "display_data",
          "data": {
            "image/png": "[encoded data removed]",
            "text/plain": [
              "<Figure size 432x288 with 1 Axes>"
            ]
          },
          "metadata": {
            "tags": []
          }
        }
      ]
    },
    {
      "cell_type": "code",
      "metadata": {
        "colab": {
          "base_uri": "https://localhost:8080/",
          "height": 302
        },
        "id": "DvoF6cMafmQc",
        "outputId": "287cf745-95bb-4b23-eaac-508f01f1d6c2"
      },
      "source": [
        "sns.boxplot(x=\"cluster_Friday\", y=\"F4\", data=df_mice)"
      ],
      "execution_count": 77,
      "outputs": [
        {
          "output_type": "execute_result",
          "data": {
            "text/plain": [
              "<matplotlib.axes._subplots.AxesSubplot at 0x7f156c2a79b0>"
            ]
          },
          "metadata": {
            "tags": []
          },
          "execution_count": 77
        },
        {
          "output_type": "display_data",
          "data": {
            "image/png": "[encoded data removed]",
            "text/plain": [
              "<Figure size 432x288 with 1 Axes>"
            ]
          },
          "metadata": {
            "tags": []
          }
        }
      ]
    },
    {
      "cell_type": "code",
      "metadata": {
        "id": "xYGEorQbfnJy"
      },
      "source": [
        "from sklearn.ensemble import RandomForestRegressor\n"
      ],
      "execution_count": 136,
      "outputs": []
    },
    {
      "cell_type": "code",
      "metadata": {
        "id": "Hi-cVDBD71B9"
      },
      "source": [
        "clf_m = RandomForestRegressor()\n",
        "clf_t=RandomForestRegressor()\n",
        "clf_w=RandomForestRegressor()\n",
        "clf_th=RandomForestRegressor()\n",
        "clf_f=RandomForestRegressor()"
      ],
      "execution_count": 137,
      "outputs": []
    },
    {
      "cell_type": "code",
      "metadata": {
        "colab": {
          "base_uri": "https://localhost:8080/",
          "height": 390
        },
        "id": "FWc-WjdxTMLj",
        "outputId": "466673c1-0177-4f5b-8f37-8869166be5e9"
      },
      "source": [
        "from matplotlib import pyplot\n",
        "# fit the model\n",
        "clf.fit(df_mice[['F4','T4','W4','TH4']], df_mice[['M4']])\n",
        "# get importance\n",
        "importance = clf.feature_importances_\n",
        "# summarize feature importance\n",
        "for i,v in enumerate(importance):\n",
        "\tprint('Feature: %0d, Score: %.5f' % (i,v))\n",
        "# plot feature importance\n",
        "pyplot.bar([x for x in range(len(importance))], importance)\n",
        "pyplot.show()"
      ],
      "execution_count": 138,
      "outputs": [
        {
          "output_type": "stream",
          "text": [
            "/usr/local/lib/python3.6/dist-packages/ipykernel_launcher.py:3: DataConversionWarning: A column-vector y was passed when a 1d array was expected. Please change the shape of y to (n_samples,), for example using ravel().\n",
            "  This is separate from the ipykernel package so we can avoid doing imports until\n"
          ],
          "name": "stderr"
        },
        {
          "output_type": "stream",
          "text": [
            "Feature: 0, Score: 0.00391\n",
            "Feature: 1, Score: 0.98817\n",
            "Feature: 2, Score: 0.00149\n",
            "Feature: 3, Score: 0.00643\n"
          ],
          "name": "stdout"
        },
        {
          "output_type": "display_data",
          "data": {
            "image/png": "[encoded data removed]",
            "text/plain": [
              "<Figure size 432x288 with 1 Axes>"
            ]
          },
          "metadata": {
            "tags": []
          }
        }
      ]
    },
    {
      "cell_type": "code",
      "metadata": {
        "colab": {
          "base_uri": "https://localhost:8080/"
        },
        "id": "L6GrH7kM3cj6",
        "outputId": "f60fb2af-50cb-4b9f-f36f-bc5880693c84"
      },
      "source": [
        "clf_m.fit(df_mice[['T4','cluster_Monday']],df_mice[['M4']])"
      ],
      "execution_count": 139,
      "outputs": [
        {
          "output_type": "stream",
          "text": [
            "/usr/local/lib/python3.6/dist-packages/ipykernel_launcher.py:1: DataConversionWarning: A column-vector y was passed when a 1d array was expected. Please change the shape of y to (n_samples,), for example using ravel().\n",
            "  \"\"\"Entry point for launching an IPython kernel.\n"
          ],
          "name": "stderr"
        },
        {
          "output_type": "execute_result",
          "data": {
            "text/plain": [
              "RandomForestRegressor(bootstrap=True, ccp_alpha=0.0, criterion='mse',\n",
              "                      max_depth=None, max_features='auto', max_leaf_nodes=None,\n",
              "                      max_samples=None, min_impurity_decrease=0.0,\n",
              "                      min_impurity_split=None, min_samples_leaf=1,\n",
              "                      min_samples_split=2, min_weight_fraction_leaf=0.0,\n",
              "                      n_estimators=100, n_jobs=None, oob_score=False,\n",
              "                      random_state=None, verbose=0, warm_start=False)"
            ]
          },
          "metadata": {
            "tags": []
          },
          "execution_count": 139
        }
      ]
    },
    {
      "cell_type": "code",
      "metadata": {
        "colab": {
          "base_uri": "https://localhost:8080/"
        },
        "id": "Y5hrZQ2C3tSr",
        "outputId": "a65159eb-c2ae-4f36-9055-8a0495318608"
      },
      "source": [
        "from sklearn.metrics import r2_score\n",
        "r2_score(df_mice[['M4']],clf_m.predict(df_mice[['T4','cluster_Monday']]))"
      ],
      "execution_count": 140,
      "outputs": [
        {
          "output_type": "execute_result",
          "data": {
            "text/plain": [
              "0.9559508075041929"
            ]
          },
          "metadata": {
            "tags": []
          },
          "execution_count": 140
        }
      ]
    },
    {
      "cell_type": "code",
      "metadata": {
        "colab": {
          "base_uri": "https://localhost:8080/",
          "height": 390
        },
        "id": "7vaCnbso30jb",
        "outputId": "efc0fb17-5dc2-441a-f505-19c237752109"
      },
      "source": [
        "from matplotlib import pyplot\n",
        "# fit the model\n",
        "clf.fit(df_mice[['M4','F4','W4','TH4']], df_mice[['T4']])\n",
        "# get importance\n",
        "importance = clf.feature_importances_\n",
        "# summarize feature importance\n",
        "for i,v in enumerate(importance):\n",
        "\tprint('Feature: %0d, Score: %.5f' % (i,v))\n",
        "# plot feature importance\n",
        "pyplot.bar([x for x in range(len(importance))], importance)\n",
        "pyplot.show()"
      ],
      "execution_count": 141,
      "outputs": [
        {
          "output_type": "stream",
          "text": [
            "/usr/local/lib/python3.6/dist-packages/ipykernel_launcher.py:3: DataConversionWarning: A column-vector y was passed when a 1d array was expected. Please change the shape of y to (n_samples,), for example using ravel().\n",
            "  This is separate from the ipykernel package so we can avoid doing imports until\n"
          ],
          "name": "stderr"
        },
        {
          "output_type": "stream",
          "text": [
            "Feature: 0, Score: 0.72283\n",
            "Feature: 1, Score: 0.00165\n",
            "Feature: 2, Score: 0.27176\n",
            "Feature: 3, Score: 0.00375\n"
          ],
          "name": "stdout"
        },
        {
          "output_type": "display_data",
          "data": {
            "image/png": "[encoded data removed]",
            "text/plain": [
              "<Figure size 432x288 with 1 Axes>"
            ]
          },
          "metadata": {
            "tags": []
          }
        }
      ]
    },
    {
      "cell_type": "code",
      "metadata": {
        "colab": {
          "base_uri": "https://localhost:8080/"
        },
        "id": "OAcJYhH74EyD",
        "outputId": "65fd9a65-c98a-4954-8deb-78420cb07172"
      },
      "source": [
        "clf_t.fit(df_mice[['M4','W4','cluster_Tuesday']],df_mice[['T4']])"
      ],
      "execution_count": 142,
      "outputs": [
        {
          "output_type": "stream",
          "text": [
            "/usr/local/lib/python3.6/dist-packages/ipykernel_launcher.py:1: DataConversionWarning: A column-vector y was passed when a 1d array was expected. Please change the shape of y to (n_samples,), for example using ravel().\n",
            "  \"\"\"Entry point for launching an IPython kernel.\n"
          ],
          "name": "stderr"
        },
        {
          "output_type": "execute_result",
          "data": {
            "text/plain": [
              "RandomForestRegressor(bootstrap=True, ccp_alpha=0.0, criterion='mse',\n",
              "                      max_depth=None, max_features='auto', max_leaf_nodes=None,\n",
              "                      max_samples=None, min_impurity_decrease=0.0,\n",
              "                      min_impurity_split=None, min_samples_leaf=1,\n",
              "                      min_samples_split=2, min_weight_fraction_leaf=0.0,\n",
              "                      n_estimators=100, n_jobs=None, oob_score=False,\n",
              "                      random_state=None, verbose=0, warm_start=False)"
            ]
          },
          "metadata": {
            "tags": []
          },
          "execution_count": 142
        }
      ]
    },
    {
      "cell_type": "code",
      "metadata": {
        "colab": {
          "base_uri": "https://localhost:8080/"
        },
        "id": "XMXNz4af4P9e",
        "outputId": "1c199071-2b77-4e30-dd4c-b81779f3c9d5"
      },
      "source": [
        "from sklearn.metrics import r2_score\n",
        "r2_score(df_mice[['T4']],clf_t.predict(df_mice[['M4','W4','cluster_Tuesday']]))"
      ],
      "execution_count": 143,
      "outputs": [
        {
          "output_type": "execute_result",
          "data": {
            "text/plain": [
              "0.9911856363493854"
            ]
          },
          "metadata": {
            "tags": []
          },
          "execution_count": 143
        }
      ]
    },
    {
      "cell_type": "code",
      "metadata": {
        "colab": {
          "base_uri": "https://localhost:8080/"
        },
        "id": "qVsuXAwl4XwL",
        "outputId": "73c44274-9e09-4c66-de7e-21410101ef74"
      },
      "source": [
        "clf_w.fit(df_mice[['T4','TH4','cluster_Wednesday']],df_mice[['W4']])"
      ],
      "execution_count": 144,
      "outputs": [
        {
          "output_type": "stream",
          "text": [
            "/usr/local/lib/python3.6/dist-packages/ipykernel_launcher.py:1: DataConversionWarning: A column-vector y was passed when a 1d array was expected. Please change the shape of y to (n_samples,), for example using ravel().\n",
            "  \"\"\"Entry point for launching an IPython kernel.\n"
          ],
          "name": "stderr"
        },
        {
          "output_type": "execute_result",
          "data": {
            "text/plain": [
              "RandomForestRegressor(bootstrap=True, ccp_alpha=0.0, criterion='mse',\n",
              "                      max_depth=None, max_features='auto', max_leaf_nodes=None,\n",
              "                      max_samples=None, min_impurity_decrease=0.0,\n",
              "                      min_impurity_split=None, min_samples_leaf=1,\n",
              "                      min_samples_split=2, min_weight_fraction_leaf=0.0,\n",
              "                      n_estimators=100, n_jobs=None, oob_score=False,\n",
              "                      random_state=None, verbose=0, warm_start=False)"
            ]
          },
          "metadata": {
            "tags": []
          },
          "execution_count": 144
        }
      ]
    },
    {
      "cell_type": "code",
      "metadata": {
        "colab": {
          "base_uri": "https://localhost:8080/"
        },
        "id": "XHIXV_Bk5EsH",
        "outputId": "7a7d949a-a24b-4e32-a124-b7fa4e1a1700"
      },
      "source": [
        "from sklearn.metrics import r2_score\n",
        "r2_score(df_mice[['W4']],clf_w.predict(df_mice[['T4','TH4','cluster_Wednesday']]))"
      ],
      "execution_count": 145,
      "outputs": [
        {
          "output_type": "execute_result",
          "data": {
            "text/plain": [
              "0.9889387753063791"
            ]
          },
          "metadata": {
            "tags": []
          },
          "execution_count": 145
        }
      ]
    },
    {
      "cell_type": "code",
      "metadata": {
        "colab": {
          "base_uri": "https://localhost:8080/"
        },
        "id": "Ic2KTmuK5KrN",
        "outputId": "4e0f2252-f0f1-4703-a5c4-3833f4e26d5a"
      },
      "source": [
        "clf_th.fit(df_mice[['W4','F4','cluster_Thursday']],df_mice[['TH4']])"
      ],
      "execution_count": 146,
      "outputs": [
        {
          "output_type": "stream",
          "text": [
            "/usr/local/lib/python3.6/dist-packages/ipykernel_launcher.py:1: DataConversionWarning: A column-vector y was passed when a 1d array was expected. Please change the shape of y to (n_samples,), for example using ravel().\n",
            "  \"\"\"Entry point for launching an IPython kernel.\n"
          ],
          "name": "stderr"
        },
        {
          "output_type": "execute_result",
          "data": {
            "text/plain": [
              "RandomForestRegressor(bootstrap=True, ccp_alpha=0.0, criterion='mse',\n",
              "                      max_depth=None, max_features='auto', max_leaf_nodes=None,\n",
              "                      max_samples=None, min_impurity_decrease=0.0,\n",
              "                      min_impurity_split=None, min_samples_leaf=1,\n",
              "                      min_samples_split=2, min_weight_fraction_leaf=0.0,\n",
              "                      n_estimators=100, n_jobs=None, oob_score=False,\n",
              "                      random_state=None, verbose=0, warm_start=False)"
            ]
          },
          "metadata": {
            "tags": []
          },
          "execution_count": 146
        }
      ]
    },
    {
      "cell_type": "code",
      "metadata": {
        "colab": {
          "base_uri": "https://localhost:8080/"
        },
        "id": "GqzLZzpE5_8_",
        "outputId": "e5d08d50-fb0d-4110-e2ff-27233030f307"
      },
      "source": [
        "from sklearn.metrics import r2_score\n",
        "r2_score(df_mice[['TH4']],clf_th.predict(df_mice[['W4','F4','cluster_Thursday']]))"
      ],
      "execution_count": 147,
      "outputs": [
        {
          "output_type": "execute_result",
          "data": {
            "text/plain": [
              "0.9889115321494469"
            ]
          },
          "metadata": {
            "tags": []
          },
          "execution_count": 147
        }
      ]
    },
    {
      "cell_type": "code",
      "metadata": {
        "colab": {
          "base_uri": "https://localhost:8080/"
        },
        "id": "SLyeAZGL6GDU",
        "outputId": "bbb637f4-f2d7-48c6-e59c-5c1a5b4d831d"
      },
      "source": [
        "clf_f.fit(df_mice[['TH4','cluster_Friday']],df_mice[['F4']])"
      ],
      "execution_count": 148,
      "outputs": [
        {
          "output_type": "stream",
          "text": [
            "/usr/local/lib/python3.6/dist-packages/ipykernel_launcher.py:1: DataConversionWarning: A column-vector y was passed when a 1d array was expected. Please change the shape of y to (n_samples,), for example using ravel().\n",
            "  \"\"\"Entry point for launching an IPython kernel.\n"
          ],
          "name": "stderr"
        },
        {
          "output_type": "execute_result",
          "data": {
            "text/plain": [
              "RandomForestRegressor(bootstrap=True, ccp_alpha=0.0, criterion='mse',\n",
              "                      max_depth=None, max_features='auto', max_leaf_nodes=None,\n",
              "                      max_samples=None, min_impurity_decrease=0.0,\n",
              "                      min_impurity_split=None, min_samples_leaf=1,\n",
              "                      min_samples_split=2, min_weight_fraction_leaf=0.0,\n",
              "                      n_estimators=100, n_jobs=None, oob_score=False,\n",
              "                      random_state=None, verbose=0, warm_start=False)"
            ]
          },
          "metadata": {
            "tags": []
          },
          "execution_count": 148
        }
      ]
    },
    {
      "cell_type": "code",
      "metadata": {
        "colab": {
          "base_uri": "https://localhost:8080/"
        },
        "id": "LBbj3dNS6lqq",
        "outputId": "318eda4d-5e3c-4532-afa4-1af67ee1ae26"
      },
      "source": [
        "from sklearn.metrics import r2_score\n",
        "r2_score(df_mice[['F4']],clf_f.predict(df_mice[['TH4','cluster_Friday']]))"
      ],
      "execution_count": 149,
      "outputs": [
        {
          "output_type": "execute_result",
          "data": {
            "text/plain": [
              "0.9580749493773475"
            ]
          },
          "metadata": {
            "tags": []
          },
          "execution_count": 149
        }
      ]
    },
    {
      "cell_type": "code",
      "metadata": {
        "id": "tP878rQNINsM"
      },
      "source": [
        "M=clf_m.predict(df_mice[['T4','cluster_Monday']])\n",
        "T=clf_t.predict(df_mice[['M4','W4','cluster_Tuesday']])\n",
        "W=clf_w.predict(df_mice[['T4','TH4','cluster_Wednesday']])\n",
        "TH=clf_th.predict(df_mice[['W4','F4','cluster_Thursday']])\n",
        "F=clf_f.predict(df_mice[['TH4','cluster_Friday']])"
      ],
      "execution_count": 151,
      "outputs": []
    },
    {
      "cell_type": "code",
      "metadata": {
        "colab": {
          "base_uri": "https://localhost:8080/",
          "height": 419
        },
        "id": "KvGQWewA6Uk4",
        "outputId": "ab995ccc-f94f-4832-9ce9-05e0171809a7"
      },
      "source": [
        "a=[M,T,W,TH,F]\n",
        "b=pd.DataFrame(a)\n",
        "b_final=b.round(0)\n",
        "c=b_final.T\n",
        "c"
      ],
      "execution_count": 152,
      "outputs": [
        {
          "output_type": "execute_result",
          "data": {
            "text/html": [
              "<div>\n",
              "<style scoped>\n",
              "    .dataframe tbody tr th:only-of-type {\n",
              "        vertical-align: middle;\n",
              "    }\n",
              "\n",
              "    .dataframe tbody tr th {\n",
              "        vertical-align: top;\n",
              "    }\n",
              "\n",
              "    .dataframe thead th {\n",
              "        text-align: right;\n",
              "    }\n",
              "</style>\n",
              "<table border=\"1\" class=\"dataframe\">\n",
              "  <thead>\n",
              "    <tr style=\"text-align: right;\">\n",
              "      <th></th>\n",
              "      <th>0</th>\n",
              "      <th>1</th>\n",
              "      <th>2</th>\n",
              "      <th>3</th>\n",
              "      <th>4</th>\n",
              "    </tr>\n",
              "  </thead>\n",
              "  <tbody>\n",
              "    <tr>\n",
              "      <th>0</th>\n",
              "      <td>4.0</td>\n",
              "      <td>5.0</td>\n",
              "      <td>6.0</td>\n",
              "      <td>7.0</td>\n",
              "      <td>7.0</td>\n",
              "    </tr>\n",
              "    <tr>\n",
              "      <th>1</th>\n",
              "      <td>6.0</td>\n",
              "      <td>6.0</td>\n",
              "      <td>7.0</td>\n",
              "      <td>7.0</td>\n",
              "      <td>7.0</td>\n",
              "    </tr>\n",
              "    <tr>\n",
              "      <th>2</th>\n",
              "      <td>2.0</td>\n",
              "      <td>3.0</td>\n",
              "      <td>4.0</td>\n",
              "      <td>5.0</td>\n",
              "      <td>6.0</td>\n",
              "    </tr>\n",
              "    <tr>\n",
              "      <th>3</th>\n",
              "      <td>4.0</td>\n",
              "      <td>5.0</td>\n",
              "      <td>6.0</td>\n",
              "      <td>7.0</td>\n",
              "      <td>7.0</td>\n",
              "    </tr>\n",
              "    <tr>\n",
              "      <th>4</th>\n",
              "      <td>4.0</td>\n",
              "      <td>5.0</td>\n",
              "      <td>6.0</td>\n",
              "      <td>7.0</td>\n",
              "      <td>7.0</td>\n",
              "    </tr>\n",
              "    <tr>\n",
              "      <th>...</th>\n",
              "      <td>...</td>\n",
              "      <td>...</td>\n",
              "      <td>...</td>\n",
              "      <td>...</td>\n",
              "      <td>...</td>\n",
              "    </tr>\n",
              "    <tr>\n",
              "      <th>995</th>\n",
              "      <td>6.0</td>\n",
              "      <td>6.0</td>\n",
              "      <td>7.0</td>\n",
              "      <td>7.0</td>\n",
              "      <td>7.0</td>\n",
              "    </tr>\n",
              "    <tr>\n",
              "      <th>996</th>\n",
              "      <td>4.0</td>\n",
              "      <td>5.0</td>\n",
              "      <td>6.0</td>\n",
              "      <td>6.0</td>\n",
              "      <td>7.0</td>\n",
              "    </tr>\n",
              "    <tr>\n",
              "      <th>997</th>\n",
              "      <td>4.0</td>\n",
              "      <td>5.0</td>\n",
              "      <td>5.0</td>\n",
              "      <td>5.0</td>\n",
              "      <td>6.0</td>\n",
              "    </tr>\n",
              "    <tr>\n",
              "      <th>998</th>\n",
              "      <td>2.0</td>\n",
              "      <td>3.0</td>\n",
              "      <td>4.0</td>\n",
              "      <td>4.0</td>\n",
              "      <td>5.0</td>\n",
              "    </tr>\n",
              "    <tr>\n",
              "      <th>999</th>\n",
              "      <td>1.0</td>\n",
              "      <td>2.0</td>\n",
              "      <td>1.0</td>\n",
              "      <td>3.0</td>\n",
              "      <td>2.0</td>\n",
              "    </tr>\n",
              "  </tbody>\n",
              "</table>\n",
              "<p>1000 rows × 5 columns</p>\n",
              "</div>"
            ],
            "text/plain": [
              "       0    1    2    3    4\n",
              "0    4.0  5.0  6.0  7.0  7.0\n",
              "1    6.0  6.0  7.0  7.0  7.0\n",
              "2    2.0  3.0  4.0  5.0  6.0\n",
              "3    4.0  5.0  6.0  7.0  7.0\n",
              "4    4.0  5.0  6.0  7.0  7.0\n",
              "..   ...  ...  ...  ...  ...\n",
              "995  6.0  6.0  7.0  7.0  7.0\n",
              "996  4.0  5.0  6.0  6.0  7.0\n",
              "997  4.0  5.0  5.0  5.0  6.0\n",
              "998  2.0  3.0  4.0  4.0  5.0\n",
              "999  1.0  2.0  1.0  3.0  2.0\n",
              "\n",
              "[1000 rows x 5 columns]"
            ]
          },
          "metadata": {
            "tags": []
          },
          "execution_count": 152
        }
      ]
    },
    {
      "cell_type": "code",
      "metadata": {
        "id": "o0dAHT8q9Gwt"
      },
      "source": [
        "c.to_excel('Week5.xlsx')"
      ],
      "execution_count": 155,
      "outputs": []
    },
    {
      "cell_type": "code",
      "metadata": {
        "id": "lHz0K4F09PWI"
      },
      "source": [
        ""
      ],
      "execution_count": null,
      "outputs": []
    }
  ]
}