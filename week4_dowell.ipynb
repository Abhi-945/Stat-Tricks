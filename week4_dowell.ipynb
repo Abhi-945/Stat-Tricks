{
 "cells": [
  {
   "cell_type": "code",
   "execution_count": 2,
   "metadata": {
    "id": "DvAnJFHYKSht"
   },
   "outputs": [],
   "source": [
    "import pandas as pd \n",
    "import numpy as np  "
   ]
  },
  {
   "cell_type": "code",
   "execution_count": 3,
   "metadata": {
    "colab": {
     "base_uri": "https://localhost:8080/",
     "height": 244
    },
    "id": "Z5Hqdbr9K_38",
    "outputId": "0a2d65ad-1600-4863-919b-1e80a6defe1d"
   },
   "outputs": [
    {
     "data": {
      "text/html": [
       "<div>\n",
       "<style scoped>\n",
       "    .dataframe tbody tr th:only-of-type {\n",
       "        vertical-align: middle;\n",
       "    }\n",
       "\n",
       "    .dataframe tbody tr th {\n",
       "        vertical-align: top;\n",
       "    }\n",
       "\n",
       "    .dataframe thead th {\n",
       "        text-align: right;\n",
       "    }\n",
       "</style>\n",
       "<table border=\"1\" class=\"dataframe\">\n",
       "  <thead>\n",
       "    <tr style=\"text-align: right;\">\n",
       "      <th></th>\n",
       "      <th>Days</th>\n",
       "      <th>M</th>\n",
       "      <th>T</th>\n",
       "      <th>W</th>\n",
       "      <th>TH</th>\n",
       "      <th>F</th>\n",
       "      <th>M.1</th>\n",
       "      <th>T.1</th>\n",
       "      <th>W.1</th>\n",
       "      <th>TH.1</th>\n",
       "      <th>F.1</th>\n",
       "      <th>M.2</th>\n",
       "      <th>T.2</th>\n",
       "      <th>W.2</th>\n",
       "      <th>TH.2</th>\n",
       "      <th>F.2</th>\n",
       "      <th>M.3</th>\n",
       "      <th>T.3</th>\n",
       "      <th>W.3</th>\n",
       "      <th>TH.3</th>\n",
       "      <th>F.3</th>\n",
       "      <th>Unnamed: 21</th>\n",
       "      <th>Unnamed: 22</th>\n",
       "      <th>Unnamed: 23</th>\n",
       "      <th>Unnamed: 24</th>\n",
       "      <th>Unnamed: 25</th>\n",
       "    </tr>\n",
       "  </thead>\n",
       "  <tbody>\n",
       "    <tr>\n",
       "      <th>0</th>\n",
       "      <td>1</td>\n",
       "      <td>4</td>\n",
       "      <td>5</td>\n",
       "      <td>5</td>\n",
       "      <td>6</td>\n",
       "      <td>7</td>\n",
       "      <td>1</td>\n",
       "      <td>2</td>\n",
       "      <td>3</td>\n",
       "      <td>4</td>\n",
       "      <td>5</td>\n",
       "      <td>3</td>\n",
       "      <td>4</td>\n",
       "      <td>5</td>\n",
       "      <td>6</td>\n",
       "      <td>7</td>\n",
       "      <td>4.0</td>\n",
       "      <td>5.0</td>\n",
       "      <td>6.0</td>\n",
       "      <td>7.0</td>\n",
       "      <td>7.0</td>\n",
       "      <td>NaN</td>\n",
       "      <td>NaN</td>\n",
       "      <td>NaN</td>\n",
       "      <td>NaN</td>\n",
       "      <td>NaN</td>\n",
       "    </tr>\n",
       "    <tr>\n",
       "      <th>1</th>\n",
       "      <td>2</td>\n",
       "      <td>1</td>\n",
       "      <td>2</td>\n",
       "      <td>3</td>\n",
       "      <td>4</td>\n",
       "      <td>5</td>\n",
       "      <td>5</td>\n",
       "      <td>5</td>\n",
       "      <td>6</td>\n",
       "      <td>6</td>\n",
       "      <td>7</td>\n",
       "      <td>3</td>\n",
       "      <td>4</td>\n",
       "      <td>5</td>\n",
       "      <td>6</td>\n",
       "      <td>7</td>\n",
       "      <td>6.0</td>\n",
       "      <td>6.0</td>\n",
       "      <td>7.0</td>\n",
       "      <td>7.0</td>\n",
       "      <td>7.0</td>\n",
       "      <td>NaN</td>\n",
       "      <td>NaN</td>\n",
       "      <td>NaN</td>\n",
       "      <td>NaN</td>\n",
       "      <td>NaN</td>\n",
       "    </tr>\n",
       "    <tr>\n",
       "      <th>2</th>\n",
       "      <td>3</td>\n",
       "      <td>3</td>\n",
       "      <td>4</td>\n",
       "      <td>5</td>\n",
       "      <td>6</td>\n",
       "      <td>7</td>\n",
       "      <td>2</td>\n",
       "      <td>3</td>\n",
       "      <td>4</td>\n",
       "      <td>5</td>\n",
       "      <td>6</td>\n",
       "      <td>5</td>\n",
       "      <td>6</td>\n",
       "      <td>6</td>\n",
       "      <td>7</td>\n",
       "      <td>7</td>\n",
       "      <td>2.0</td>\n",
       "      <td>3.0</td>\n",
       "      <td>NaN</td>\n",
       "      <td>5.0</td>\n",
       "      <td>6.0</td>\n",
       "      <td>NaN</td>\n",
       "      <td>NaN</td>\n",
       "      <td>NaN</td>\n",
       "      <td>NaN</td>\n",
       "      <td>NaN</td>\n",
       "    </tr>\n",
       "    <tr>\n",
       "      <th>3</th>\n",
       "      <td>4</td>\n",
       "      <td>1</td>\n",
       "      <td>2</td>\n",
       "      <td>3</td>\n",
       "      <td>4</td>\n",
       "      <td>5</td>\n",
       "      <td>1</td>\n",
       "      <td>2</td>\n",
       "      <td>3</td>\n",
       "      <td>4</td>\n",
       "      <td>5</td>\n",
       "      <td>1</td>\n",
       "      <td>2</td>\n",
       "      <td>3</td>\n",
       "      <td>4</td>\n",
       "      <td>5</td>\n",
       "      <td>4.0</td>\n",
       "      <td>5.0</td>\n",
       "      <td>6.0</td>\n",
       "      <td>7.0</td>\n",
       "      <td>7.0</td>\n",
       "      <td>NaN</td>\n",
       "      <td>NaN</td>\n",
       "      <td>NaN</td>\n",
       "      <td>NaN</td>\n",
       "      <td>NaN</td>\n",
       "    </tr>\n",
       "    <tr>\n",
       "      <th>4</th>\n",
       "      <td>5</td>\n",
       "      <td>2</td>\n",
       "      <td>3</td>\n",
       "      <td>4</td>\n",
       "      <td>5</td>\n",
       "      <td>6</td>\n",
       "      <td>5</td>\n",
       "      <td>5</td>\n",
       "      <td>6</td>\n",
       "      <td>6</td>\n",
       "      <td>7</td>\n",
       "      <td>5</td>\n",
       "      <td>6</td>\n",
       "      <td>6</td>\n",
       "      <td>7</td>\n",
       "      <td>7</td>\n",
       "      <td>NaN</td>\n",
       "      <td>5.0</td>\n",
       "      <td>6.0</td>\n",
       "      <td>7.0</td>\n",
       "      <td>NaN</td>\n",
       "      <td>NaN</td>\n",
       "      <td>NaN</td>\n",
       "      <td>NaN</td>\n",
       "      <td>NaN</td>\n",
       "      <td>NaN</td>\n",
       "    </tr>\n",
       "  </tbody>\n",
       "</table>\n",
       "</div>"
      ],
      "text/plain": [
       "   Days  M  T  W  ...  Unnamed: 22  Unnamed: 23  Unnamed: 24  Unnamed: 25\n",
       "0     1  4  5  5  ...          NaN          NaN          NaN          NaN\n",
       "1     2  1  2  3  ...          NaN          NaN          NaN          NaN\n",
       "2     3  3  4  5  ...          NaN          NaN          NaN          NaN\n",
       "3     4  1  2  3  ...          NaN          NaN          NaN          NaN\n",
       "4     5  2  3  4  ...          NaN          NaN          NaN          NaN\n",
       "\n",
       "[5 rows x 26 columns]"
      ]
     },
     "execution_count": 3,
     "metadata": {
      "tags": []
     },
     "output_type": "execute_result"
    }
   ],
   "source": [
    "df = pd.read_excel(\"/content/drive/MyDrive/dowell/week4/Week 4 Data.xlsx\", header = 1)\n",
    "df.head()"
   ]
  },
  {
   "cell_type": "code",
   "execution_count": 4,
   "metadata": {
    "id": "0WzkeJpiLMq9"
   },
   "outputs": [],
   "source": [
    "data = df.rename(columns={'Days':'Student', 'M':\"M1\", 'T': \"T1\", 'W':\"W1\", 'TH':\"TH1\", 'F':\"F1\", 'M.1':\"M2\", 'T.1':\"T2\", 'W.1':\"W2\", 'TH.1':\"TH2\",\n",
    "       'F.1':\"F2\", 'M.2':'M3', 'T.2':\"T3\", 'W.2':\"W3\", 'TH.2':\"TH3\", 'F.2':\"F3\", \"M.3\":\"M4\", \"T.3\":\"T4\",\"W.3\":\"W4\",\"TH.3\":\"TH4\",\"F.3\":\"F4\"})"
   ]
  },
  {
   "cell_type": "code",
   "execution_count": 5,
   "metadata": {
    "colab": {
     "base_uri": "https://localhost:8080/"
    },
    "id": "GLyy3x2gjDy4",
    "outputId": "a21d4bb7-acae-46bc-af25-bcd95201275c"
   },
   "outputs": [
    {
     "data": {
      "text/plain": [
       "Index(['Student', 'M1', 'T1', 'W1', 'TH1', 'F1', 'M2', 'T2', 'W2', 'TH2', 'F2',\n",
       "       'M3', 'T3', 'W3', 'TH3', 'F3', 'M4', 'T4', 'W4', 'TH4', 'F4',\n",
       "       'Unnamed: 21', 'Unnamed: 22', 'Unnamed: 23', 'Unnamed: 24',\n",
       "       'Unnamed: 25'],\n",
       "      dtype='object')"
      ]
     },
     "execution_count": 5,
     "metadata": {
      "tags": []
     },
     "output_type": "execute_result"
    }
   ],
   "source": [
    "data.columns"
   ]
  },
  {
   "cell_type": "code",
   "execution_count": 6,
   "metadata": {
    "colab": {
     "base_uri": "https://localhost:8080/",
     "height": 206
    },
    "id": "rB6nR8WQiIDR",
    "outputId": "eb7e5cf8-ce15-4583-db3c-13181d0442b1"
   },
   "outputs": [
    {
     "data": {
      "text/html": [
       "<div>\n",
       "<style scoped>\n",
       "    .dataframe tbody tr th:only-of-type {\n",
       "        vertical-align: middle;\n",
       "    }\n",
       "\n",
       "    .dataframe tbody tr th {\n",
       "        vertical-align: top;\n",
       "    }\n",
       "\n",
       "    .dataframe thead th {\n",
       "        text-align: right;\n",
       "    }\n",
       "</style>\n",
       "<table border=\"1\" class=\"dataframe\">\n",
       "  <thead>\n",
       "    <tr style=\"text-align: right;\">\n",
       "      <th></th>\n",
       "      <th>Student</th>\n",
       "      <th>M1</th>\n",
       "      <th>T1</th>\n",
       "      <th>W1</th>\n",
       "      <th>TH1</th>\n",
       "      <th>F1</th>\n",
       "      <th>M2</th>\n",
       "      <th>T2</th>\n",
       "      <th>W2</th>\n",
       "      <th>TH2</th>\n",
       "      <th>F2</th>\n",
       "      <th>M3</th>\n",
       "      <th>T3</th>\n",
       "      <th>W3</th>\n",
       "      <th>TH3</th>\n",
       "      <th>F3</th>\n",
       "      <th>M4</th>\n",
       "      <th>T4</th>\n",
       "      <th>W4</th>\n",
       "      <th>TH4</th>\n",
       "      <th>F4</th>\n",
       "    </tr>\n",
       "  </thead>\n",
       "  <tbody>\n",
       "    <tr>\n",
       "      <th>0</th>\n",
       "      <td>1</td>\n",
       "      <td>4</td>\n",
       "      <td>5</td>\n",
       "      <td>5</td>\n",
       "      <td>6</td>\n",
       "      <td>7</td>\n",
       "      <td>1</td>\n",
       "      <td>2</td>\n",
       "      <td>3</td>\n",
       "      <td>4</td>\n",
       "      <td>5</td>\n",
       "      <td>3</td>\n",
       "      <td>4</td>\n",
       "      <td>5</td>\n",
       "      <td>6</td>\n",
       "      <td>7</td>\n",
       "      <td>4.0</td>\n",
       "      <td>5.0</td>\n",
       "      <td>6.0</td>\n",
       "      <td>7.0</td>\n",
       "      <td>7.0</td>\n",
       "    </tr>\n",
       "    <tr>\n",
       "      <th>1</th>\n",
       "      <td>2</td>\n",
       "      <td>1</td>\n",
       "      <td>2</td>\n",
       "      <td>3</td>\n",
       "      <td>4</td>\n",
       "      <td>5</td>\n",
       "      <td>5</td>\n",
       "      <td>5</td>\n",
       "      <td>6</td>\n",
       "      <td>6</td>\n",
       "      <td>7</td>\n",
       "      <td>3</td>\n",
       "      <td>4</td>\n",
       "      <td>5</td>\n",
       "      <td>6</td>\n",
       "      <td>7</td>\n",
       "      <td>6.0</td>\n",
       "      <td>6.0</td>\n",
       "      <td>7.0</td>\n",
       "      <td>7.0</td>\n",
       "      <td>7.0</td>\n",
       "    </tr>\n",
       "    <tr>\n",
       "      <th>2</th>\n",
       "      <td>3</td>\n",
       "      <td>3</td>\n",
       "      <td>4</td>\n",
       "      <td>5</td>\n",
       "      <td>6</td>\n",
       "      <td>7</td>\n",
       "      <td>2</td>\n",
       "      <td>3</td>\n",
       "      <td>4</td>\n",
       "      <td>5</td>\n",
       "      <td>6</td>\n",
       "      <td>5</td>\n",
       "      <td>6</td>\n",
       "      <td>6</td>\n",
       "      <td>7</td>\n",
       "      <td>7</td>\n",
       "      <td>2.0</td>\n",
       "      <td>3.0</td>\n",
       "      <td>NaN</td>\n",
       "      <td>5.0</td>\n",
       "      <td>6.0</td>\n",
       "    </tr>\n",
       "    <tr>\n",
       "      <th>3</th>\n",
       "      <td>4</td>\n",
       "      <td>1</td>\n",
       "      <td>2</td>\n",
       "      <td>3</td>\n",
       "      <td>4</td>\n",
       "      <td>5</td>\n",
       "      <td>1</td>\n",
       "      <td>2</td>\n",
       "      <td>3</td>\n",
       "      <td>4</td>\n",
       "      <td>5</td>\n",
       "      <td>1</td>\n",
       "      <td>2</td>\n",
       "      <td>3</td>\n",
       "      <td>4</td>\n",
       "      <td>5</td>\n",
       "      <td>4.0</td>\n",
       "      <td>5.0</td>\n",
       "      <td>6.0</td>\n",
       "      <td>7.0</td>\n",
       "      <td>7.0</td>\n",
       "    </tr>\n",
       "    <tr>\n",
       "      <th>4</th>\n",
       "      <td>5</td>\n",
       "      <td>2</td>\n",
       "      <td>3</td>\n",
       "      <td>4</td>\n",
       "      <td>5</td>\n",
       "      <td>6</td>\n",
       "      <td>5</td>\n",
       "      <td>5</td>\n",
       "      <td>6</td>\n",
       "      <td>6</td>\n",
       "      <td>7</td>\n",
       "      <td>5</td>\n",
       "      <td>6</td>\n",
       "      <td>6</td>\n",
       "      <td>7</td>\n",
       "      <td>7</td>\n",
       "      <td>NaN</td>\n",
       "      <td>5.0</td>\n",
       "      <td>6.0</td>\n",
       "      <td>7.0</td>\n",
       "      <td>NaN</td>\n",
       "    </tr>\n",
       "  </tbody>\n",
       "</table>\n",
       "</div>"
      ],
      "text/plain": [
       "   Student  M1  T1  W1  TH1  F1  M2  T2  ...  W3  TH3  F3   M4   T4   W4  TH4   F4\n",
       "0        1   4   5   5    6   7   1   2  ...   5    6   7  4.0  5.0  6.0  7.0  7.0\n",
       "1        2   1   2   3    4   5   5   5  ...   5    6   7  6.0  6.0  7.0  7.0  7.0\n",
       "2        3   3   4   5    6   7   2   3  ...   6    7   7  2.0  3.0  NaN  5.0  6.0\n",
       "3        4   1   2   3    4   5   1   2  ...   3    4   5  4.0  5.0  6.0  7.0  7.0\n",
       "4        5   2   3   4    5   6   5   5  ...   6    7   7  NaN  5.0  6.0  7.0  NaN\n",
       "\n",
       "[5 rows x 21 columns]"
      ]
     },
     "execution_count": 6,
     "metadata": {
      "tags": []
     },
     "output_type": "execute_result"
    }
   ],
   "source": [
    "data_d  = data[data.columns[0:21]]\n",
    "data_d.head()"
   ]
  },
  {
   "cell_type": "markdown",
   "metadata": {
    "id": "1z0BEjW5mlsv"
   },
   "source": [
    "## Measure of central tendency"
   ]
  },
  {
   "cell_type": "markdown",
   "metadata": {
    "id": "zydQd4pHv1Ss"
   },
   "source": [
    "Basic stasical descption"
   ]
  },
  {
   "cell_type": "code",
   "execution_count": 7,
   "metadata": {
    "colab": {
     "base_uri": "https://localhost:8080/",
     "height": 320
    },
    "id": "tdxPx0msv0Xl",
    "outputId": "62a5cf32-9612-4054-deec-470ba09e3e02"
   },
   "outputs": [
    {
     "data": {
      "text/html": [
       "<div>\n",
       "<style scoped>\n",
       "    .dataframe tbody tr th:only-of-type {\n",
       "        vertical-align: middle;\n",
       "    }\n",
       "\n",
       "    .dataframe tbody tr th {\n",
       "        vertical-align: top;\n",
       "    }\n",
       "\n",
       "    .dataframe thead th {\n",
       "        text-align: right;\n",
       "    }\n",
       "</style>\n",
       "<table border=\"1\" class=\"dataframe\">\n",
       "  <thead>\n",
       "    <tr style=\"text-align: right;\">\n",
       "      <th></th>\n",
       "      <th>Student</th>\n",
       "      <th>M1</th>\n",
       "      <th>T1</th>\n",
       "      <th>W1</th>\n",
       "      <th>TH1</th>\n",
       "      <th>F1</th>\n",
       "      <th>M2</th>\n",
       "      <th>T2</th>\n",
       "      <th>W2</th>\n",
       "      <th>TH2</th>\n",
       "      <th>F2</th>\n",
       "      <th>M3</th>\n",
       "      <th>T3</th>\n",
       "      <th>W3</th>\n",
       "      <th>TH3</th>\n",
       "      <th>F3</th>\n",
       "      <th>M4</th>\n",
       "      <th>T4</th>\n",
       "      <th>W4</th>\n",
       "      <th>TH4</th>\n",
       "      <th>F4</th>\n",
       "    </tr>\n",
       "  </thead>\n",
       "  <tbody>\n",
       "    <tr>\n",
       "      <th>count</th>\n",
       "      <td>1000.000000</td>\n",
       "      <td>1000.000000</td>\n",
       "      <td>1000.000000</td>\n",
       "      <td>1000.000000</td>\n",
       "      <td>1000.000000</td>\n",
       "      <td>1000.000000</td>\n",
       "      <td>1000.000000</td>\n",
       "      <td>1000.000000</td>\n",
       "      <td>1000.000000</td>\n",
       "      <td>1000.000000</td>\n",
       "      <td>1000.000000</td>\n",
       "      <td>1000.00000</td>\n",
       "      <td>1000.000000</td>\n",
       "      <td>1000.00000</td>\n",
       "      <td>1000.000000</td>\n",
       "      <td>1000.000000</td>\n",
       "      <td>808.000000</td>\n",
       "      <td>836.000000</td>\n",
       "      <td>849.000000</td>\n",
       "      <td>846.000000</td>\n",
       "      <td>817.000000</td>\n",
       "    </tr>\n",
       "    <tr>\n",
       "      <th>mean</th>\n",
       "      <td>500.500000</td>\n",
       "      <td>3.075000</td>\n",
       "      <td>3.739000</td>\n",
       "      <td>4.258000</td>\n",
       "      <td>5.133000</td>\n",
       "      <td>6.011000</td>\n",
       "      <td>2.931000</td>\n",
       "      <td>3.634000</td>\n",
       "      <td>4.512000</td>\n",
       "      <td>5.080000</td>\n",
       "      <td>5.950000</td>\n",
       "      <td>3.10600</td>\n",
       "      <td>3.986000</td>\n",
       "      <td>4.68200</td>\n",
       "      <td>5.562000</td>\n",
       "      <td>6.088000</td>\n",
       "      <td>3.482673</td>\n",
       "      <td>4.203349</td>\n",
       "      <td>5.110718</td>\n",
       "      <td>5.697400</td>\n",
       "      <td>6.117503</td>\n",
       "    </tr>\n",
       "    <tr>\n",
       "      <th>std</th>\n",
       "      <td>288.819436</td>\n",
       "      <td>1.424572</td>\n",
       "      <td>1.230607</td>\n",
       "      <td>0.972822</td>\n",
       "      <td>1.083737</td>\n",
       "      <td>1.215877</td>\n",
       "      <td>1.436071</td>\n",
       "      <td>1.236759</td>\n",
       "      <td>1.295196</td>\n",
       "      <td>1.061474</td>\n",
       "      <td>1.207045</td>\n",
       "      <td>1.39668</td>\n",
       "      <td>1.426127</td>\n",
       "      <td>1.26193</td>\n",
       "      <td>1.354988</td>\n",
       "      <td>1.188136</td>\n",
       "      <td>1.710728</td>\n",
       "      <td>1.568183</td>\n",
       "      <td>1.639573</td>\n",
       "      <td>1.454857</td>\n",
       "      <td>1.255732</td>\n",
       "    </tr>\n",
       "    <tr>\n",
       "      <th>min</th>\n",
       "      <td>1.000000</td>\n",
       "      <td>1.000000</td>\n",
       "      <td>1.000000</td>\n",
       "      <td>1.000000</td>\n",
       "      <td>1.000000</td>\n",
       "      <td>1.000000</td>\n",
       "      <td>1.000000</td>\n",
       "      <td>1.000000</td>\n",
       "      <td>1.000000</td>\n",
       "      <td>1.000000</td>\n",
       "      <td>1.000000</td>\n",
       "      <td>1.00000</td>\n",
       "      <td>1.000000</td>\n",
       "      <td>1.00000</td>\n",
       "      <td>1.000000</td>\n",
       "      <td>1.000000</td>\n",
       "      <td>1.000000</td>\n",
       "      <td>1.000000</td>\n",
       "      <td>1.000000</td>\n",
       "      <td>1.000000</td>\n",
       "      <td>1.000000</td>\n",
       "    </tr>\n",
       "    <tr>\n",
       "      <th>25%</th>\n",
       "      <td>250.750000</td>\n",
       "      <td>2.000000</td>\n",
       "      <td>3.000000</td>\n",
       "      <td>4.000000</td>\n",
       "      <td>4.000000</td>\n",
       "      <td>5.000000</td>\n",
       "      <td>2.000000</td>\n",
       "      <td>3.000000</td>\n",
       "      <td>3.000000</td>\n",
       "      <td>4.000000</td>\n",
       "      <td>5.000000</td>\n",
       "      <td>2.00000</td>\n",
       "      <td>3.000000</td>\n",
       "      <td>4.00000</td>\n",
       "      <td>5.000000</td>\n",
       "      <td>5.000000</td>\n",
       "      <td>2.000000</td>\n",
       "      <td>3.000000</td>\n",
       "      <td>4.000000</td>\n",
       "      <td>4.000000</td>\n",
       "      <td>5.000000</td>\n",
       "    </tr>\n",
       "    <tr>\n",
       "      <th>50%</th>\n",
       "      <td>500.500000</td>\n",
       "      <td>3.000000</td>\n",
       "      <td>4.000000</td>\n",
       "      <td>5.000000</td>\n",
       "      <td>6.000000</td>\n",
       "      <td>6.000000</td>\n",
       "      <td>3.000000</td>\n",
       "      <td>4.000000</td>\n",
       "      <td>5.000000</td>\n",
       "      <td>5.000000</td>\n",
       "      <td>6.000000</td>\n",
       "      <td>3.00000</td>\n",
       "      <td>4.000000</td>\n",
       "      <td>5.00000</td>\n",
       "      <td>6.000000</td>\n",
       "      <td>7.000000</td>\n",
       "      <td>4.000000</td>\n",
       "      <td>4.000000</td>\n",
       "      <td>5.000000</td>\n",
       "      <td>6.000000</td>\n",
       "      <td>7.000000</td>\n",
       "    </tr>\n",
       "    <tr>\n",
       "      <th>75%</th>\n",
       "      <td>750.250000</td>\n",
       "      <td>4.000000</td>\n",
       "      <td>5.000000</td>\n",
       "      <td>5.000000</td>\n",
       "      <td>6.000000</td>\n",
       "      <td>7.000000</td>\n",
       "      <td>4.000000</td>\n",
       "      <td>5.000000</td>\n",
       "      <td>6.000000</td>\n",
       "      <td>6.000000</td>\n",
       "      <td>7.000000</td>\n",
       "      <td>4.00000</td>\n",
       "      <td>5.000000</td>\n",
       "      <td>6.00000</td>\n",
       "      <td>7.000000</td>\n",
       "      <td>7.000000</td>\n",
       "      <td>5.000000</td>\n",
       "      <td>6.000000</td>\n",
       "      <td>7.000000</td>\n",
       "      <td>7.000000</td>\n",
       "      <td>7.000000</td>\n",
       "    </tr>\n",
       "    <tr>\n",
       "      <th>max</th>\n",
       "      <td>1000.000000</td>\n",
       "      <td>5.000000</td>\n",
       "      <td>5.000000</td>\n",
       "      <td>5.000000</td>\n",
       "      <td>6.000000</td>\n",
       "      <td>7.000000</td>\n",
       "      <td>5.000000</td>\n",
       "      <td>5.000000</td>\n",
       "      <td>6.000000</td>\n",
       "      <td>6.000000</td>\n",
       "      <td>7.000000</td>\n",
       "      <td>5.00000</td>\n",
       "      <td>6.000000</td>\n",
       "      <td>6.00000</td>\n",
       "      <td>7.000000</td>\n",
       "      <td>7.000000</td>\n",
       "      <td>6.000000</td>\n",
       "      <td>6.000000</td>\n",
       "      <td>7.000000</td>\n",
       "      <td>7.000000</td>\n",
       "      <td>7.000000</td>\n",
       "    </tr>\n",
       "  </tbody>\n",
       "</table>\n",
       "</div>"
      ],
      "text/plain": [
       "           Student           M1  ...         TH4          F4\n",
       "count  1000.000000  1000.000000  ...  846.000000  817.000000\n",
       "mean    500.500000     3.075000  ...    5.697400    6.117503\n",
       "std     288.819436     1.424572  ...    1.454857    1.255732\n",
       "min       1.000000     1.000000  ...    1.000000    1.000000\n",
       "25%     250.750000     2.000000  ...    4.000000    5.000000\n",
       "50%     500.500000     3.000000  ...    6.000000    7.000000\n",
       "75%     750.250000     4.000000  ...    7.000000    7.000000\n",
       "max    1000.000000     5.000000  ...    7.000000    7.000000\n",
       "\n",
       "[8 rows x 21 columns]"
      ]
     },
     "execution_count": 7,
     "metadata": {
      "tags": []
     },
     "output_type": "execute_result"
    }
   ],
   "source": [
    "data_d.describe()"
   ]
  },
  {
   "cell_type": "code",
   "execution_count": 11,
   "metadata": {
    "colab": {
     "base_uri": "https://localhost:8080/"
    },
    "id": "WX6IBxxL3vQ4",
    "outputId": "bccd01b6-8dfa-4207-e84b-c3a1050e53cf"
   },
   "outputs": [
    {
     "data": {
      "text/plain": [
       "M1    -0.065773\n",
       "T1    -0.433057\n",
       "W1    -1.097004\n",
       "TH1   -1.235211\n",
       "F1    -1.266516\n",
       "M2     0.072407\n",
       "T2    -0.299664\n",
       "W2    -0.343609\n",
       "TH2   -0.980083\n",
       "F2    -1.074264\n",
       "M3    -0.087948\n",
       "T3    -0.108119\n",
       "W3    -0.547100\n",
       "TH3   -0.639398\n",
       "F3    -1.451353\n",
       "M4    -0.016557\n",
       "T4    -0.303731\n",
       "W4    -0.406659\n",
       "TH4   -0.832434\n",
       "F4    -1.518102\n",
       "dtype: float64"
      ]
     },
     "execution_count": 11,
     "metadata": {
      "tags": []
     },
     "output_type": "execute_result"
    }
   ],
   "source": [
    "tran.skew()"
   ]
  },
  {
   "cell_type": "code",
   "execution_count": 12,
   "metadata": {
    "colab": {
     "base_uri": "https://localhost:8080/"
    },
    "id": "NmGIszoA30TV",
    "outputId": "b4d8121f-eef9-4499-e743-a83ac3253b1b"
   },
   "outputs": [
    {
     "data": {
      "text/plain": [
       "M1    -1.305880\n",
       "T1    -1.170964\n",
       "W1     0.405842\n",
       "TH1    1.207742\n",
       "F1     1.366346\n",
       "M2    -1.321019\n",
       "T2    -1.269884\n",
       "W2    -0.951474\n",
       "TH2    0.445306\n",
       "F2     0.738511\n",
       "M3    -1.259816\n",
       "T3    -1.087696\n",
       "W3    -0.657309\n",
       "TH3   -0.251166\n",
       "F3     2.138656\n",
       "M4    -1.252526\n",
       "T4    -1.267015\n",
       "W4    -0.997468\n",
       "TH4   -0.242622\n",
       "F4     2.035981\n",
       "dtype: float64"
      ]
     },
     "execution_count": 12,
     "metadata": {
      "tags": []
     },
     "output_type": "execute_result"
    }
   ],
   "source": [
    "tran.kurtosis()"
   ]
  },
  {
   "cell_type": "code",
   "execution_count": 10,
   "metadata": {
    "id": "3bnFybH2DC_a"
   },
   "outputs": [],
   "source": [
    "from matplotlib import pyplot as plt\n",
    "tran = data_d.drop(\"Student\", axis =1)"
   ]
  },
  {
   "cell_type": "code",
   "execution_count": 13,
   "metadata": {
    "colab": {
     "base_uri": "https://localhost:8080/",
     "height": 1000
    },
    "id": "_IQDhoYKEj17",
    "outputId": "4678e252-0fd4-44dc-8e15-05b672013a3b"
   },
   "outputs": [
    {
     "name": "stdout",
     "output_type": "stream",
     "text": [
      "Distribution for M1 is: \n"
     ]
    },
    {
     "data": {
      "image/png": "[encoded data removed]",
      "text/plain": [
       "<Figure size 432x288 with 1 Axes>"
      ]
     },
     "metadata": {
      "needs_background": "light",
      "tags": []
     },
     "output_type": "display_data"
    },
    {
     "name": "stdout",
     "output_type": "stream",
     "text": [
      "Distribution for T1 is: \n"
     ]
    },
    {
     "data": {
      "image/png": "[encoded data removed]",
      "text/plain": [
       "<Figure size 432x288 with 1 Axes>"
      ]
     },
     "metadata": {
      "needs_background": "light",
      "tags": []
     },
     "output_type": "display_data"
    },
    {
     "name": "stdout",
     "output_type": "stream",
     "text": [
      "Distribution for W1 is: \n"
     ]
    },
    {
     "data": {
      "image/png": "[encoded data removed]",
      "text/plain": [
       "<Figure size 432x288 with 1 Axes>"
      ]
     },
     "metadata": {
      "needs_background": "light",
      "tags": []
     },
     "output_type": "display_data"
    },
    {
     "name": "stdout",
     "output_type": "stream",
     "text": [
      "Distribution for TH1 is: \n"
     ]
    },
    {
     "data": {
      "image/png": "[encoded data removed]",
      "text/plain": [
       "<Figure size 432x288 with 1 Axes>"
      ]
     },
     "metadata": {
      "needs_background": "light",
      "tags": []
     },
     "output_type": "display_data"
    },
    {
     "name": "stdout",
     "output_type": "stream",
     "text": [
      "Distribution for F1 is: \n"
     ]
    },
    {
     "data": {
      "image/png": "[encoded data removed]",
      "text/plain": [
       "<Figure size 432x288 with 1 Axes>"
      ]
     },
     "metadata": {
      "needs_background": "light",
      "tags": []
     },
     "output_type": "display_data"
    },
    {
     "name": "stdout",
     "output_type": "stream",
     "text": [
      "Distribution for M2 is: \n"
     ]
    },
    {
     "data": {
      "image/png": "[encoded data removed]",
      "text/plain": [
       "<Figure size 432x288 with 1 Axes>"
      ]
     },
     "metadata": {
      "needs_background": "light",
      "tags": []
     },
     "output_type": "display_data"
    },
    {
     "name": "stdout",
     "output_type": "stream",
     "text": [
      "Distribution for T2 is: \n"
     ]
    },
    {
     "data": {
      "image/png": "[encoded data removed]",
      "text/plain": [
       "<Figure size 432x288 with 1 Axes>"
      ]
     },
     "metadata": {
      "needs_background": "light",
      "tags": []
     },
     "output_type": "display_data"
    },
    {
     "name": "stdout",
     "output_type": "stream",
     "text": [
      "Distribution for W2 is: \n"
     ]
    },
    {
     "data": {
      "image/png": "[encoded data removed]",
      "text/plain": [
       "<Figure size 432x288 with 1 Axes>"
      ]
     },
     "metadata": {
      "needs_background": "light",
      "tags": []
     },
     "output_type": "display_data"
    },
    {
     "name": "stdout",
     "output_type": "stream",
     "text": [
      "Distribution for TH2 is: \n"
     ]
    },
    {
     "data": {
      "image/png": "[encoded data removed]",
      "text/plain": [
       "<Figure size 432x288 with 1 Axes>"
      ]
     },
     "metadata": {
      "needs_background": "light",
      "tags": []
     },
     "output_type": "display_data"
    },
    {
     "name": "stdout",
     "output_type": "stream",
     "text": [
      "Distribution for F2 is: \n"
     ]
    },
    {
     "data": {
      "image/png": "[encoded data removed]",
      "text/plain": [
       "<Figure size 432x288 with 1 Axes>"
      ]
     },
     "metadata": {
      "needs_background": "light",
      "tags": []
     },
     "output_type": "display_data"
    },
    {
     "name": "stdout",
     "output_type": "stream",
     "text": [
      "Distribution for M3 is: \n"
     ]
    },
    {
     "data": {
      "image/png": "[encoded data removed]",
      "text/plain": [
       "<Figure size 432x288 with 1 Axes>"
      ]
     },
     "metadata": {
      "needs_background": "light",
      "tags": []
     },
     "output_type": "display_data"
    },
    {
     "name": "stdout",
     "output_type": "stream",
     "text": [
      "Distribution for T3 is: \n"
     ]
    },
    {
     "data": {
      "image/png": "[encoded data removed]",
      "text/plain": [
       "<Figure size 432x288 with 1 Axes>"
      ]
     },
     "metadata": {
      "needs_background": "light",
      "tags": []
     },
     "output_type": "display_data"
    },
    {
     "name": "stdout",
     "output_type": "stream",
     "text": [
      "Distribution for W3 is: \n"
     ]
    },
    {
     "data": {
      "image/png": "[encoded data removed]",
      "text/plain": [
       "<Figure size 432x288 with 1 Axes>"
      ]
     },
     "metadata": {
      "needs_background": "light",
      "tags": []
     },
     "output_type": "display_data"
    },
    {
     "name": "stdout",
     "output_type": "stream",
     "text": [
      "Distribution for TH3 is: \n"
     ]
    },
    {
     "data": {
      "image/png": "[encoded data removed]",
      "text/plain": [
       "<Figure size 432x288 with 1 Axes>"
      ]
     },
     "metadata": {
      "needs_background": "light",
      "tags": []
     },
     "output_type": "display_data"
    },
    {
     "name": "stdout",
     "output_type": "stream",
     "text": [
      "Distribution for F3 is: \n"
     ]
    },
    {
     "data": {
      "image/png": "[encoded data removed]",
      "text/plain": [
       "<Figure size 432x288 with 1 Axes>"
      ]
     },
     "metadata": {
      "needs_background": "light",
      "tags": []
     },
     "output_type": "display_data"
    },
    {
     "name": "stdout",
     "output_type": "stream",
     "text": [
      "Distribution for M4 is: \n"
     ]
    },
    {
     "data": {
      "image/png": "[encoded data removed]",
      "text/plain": [
       "<Figure size 432x288 with 1 Axes>"
      ]
     },
     "metadata": {
      "needs_background": "light",
      "tags": []
     },
     "output_type": "display_data"
    },
    {
     "name": "stdout",
     "output_type": "stream",
     "text": [
      "Distribution for T4 is: \n"
     ]
    },
    {
     "data": {
      "image/png": "[encoded data removed]",
      "text/plain": [
       "<Figure size 432x288 with 1 Axes>"
      ]
     },
     "metadata": {
      "needs_background": "light",
      "tags": []
     },
     "output_type": "display_data"
    },
    {
     "name": "stdout",
     "output_type": "stream",
     "text": [
      "Distribution for W4 is: \n"
     ]
    },
    {
     "data": {
      "image/png": "[encoded data removed]",
      "text/plain": [
       "<Figure size 432x288 with 1 Axes>"
      ]
     },
     "metadata": {
      "needs_background": "light",
      "tags": []
     },
     "output_type": "display_data"
    },
    {
     "name": "stdout",
     "output_type": "stream",
     "text": [
      "Distribution for TH4 is: \n"
     ]
    },
    {
     "data": {
      "image/png": "[encoded data removed]",
      "text/plain": [
       "<Figure size 432x288 with 1 Axes>"
      ]
     },
     "metadata": {
      "needs_background": "light",
      "tags": []
     },
     "output_type": "display_data"
    },
    {
     "name": "stdout",
     "output_type": "stream",
     "text": [
      "Distribution for F4 is: \n"
     ]
    },
    {
     "data": {
      "image/png": "[encoded data removed]",
      "text/plain": [
       "<Figure size 432x288 with 1 Axes>"
      ]
     },
     "metadata": {
      "needs_background": "light",
      "tags": []
     },
     "output_type": "display_data"
    }
   ],
   "source": [
    "for i in tran.columns:\n",
    "  print(\"Distribution for {0} is: \".format(i))\n",
    "  plt.hist(tran[i])\n",
    "  plt.show()"
   ]
  },
  {
   "cell_type": "markdown",
   "metadata": {
    "id": "4Hf4O93gKfWj"
   },
   "source": [
    "## So from the above graps we conculde that\n",
    "- monday has uniform distribution\n",
    "- frinday has increasing exponential distribition\n"
   ]
  },
  {
   "cell_type": "code",
   "execution_count": 14,
   "metadata": {
    "colab": {
     "base_uri": "https://localhost:8080/",
     "height": 419
    },
    "id": "OVJzq_u_L3O3",
    "outputId": "2bf14462-6cc1-46cb-e8d4-10f9063d4f7d"
   },
   "outputs": [
    {
     "name": "stderr",
     "output_type": "stream",
     "text": [
      "/usr/local/lib/python3.6/dist-packages/numpy/core/_asarray.py:83: VisibleDeprecationWarning: Creating an ndarray from ragged nested sequences (which is a list-or-tuple of lists-or-tuples-or ndarrays with different lengths or shapes) is deprecated. If you meant to do this, you must specify 'dtype=object' when creating the ndarray\n",
      "  return array(a, dtype, copy=False, order=order)\n"
     ]
    },
    {
     "data": {
      "text/plain": [
       "(array([ 1,  2,  3,  4,  5,  6,  7,  8,  9, 10, 11, 12, 13, 14, 15, 16, 17,\n",
       "        18, 19, 20]), <a list of 20 Text major ticklabel objects>)"
      ]
     },
     "execution_count": 14,
     "metadata": {
      "tags": []
     },
     "output_type": "execute_result"
    },
    {
     "data": {
      "image/png": "[encoded data removed]",
      "text/plain": [
       "<Figure size 1080x360 with 1 Axes>"
      ]
     },
     "metadata": {
      "needs_background": "light",
      "tags": []
     },
     "output_type": "display_data"
    }
   ],
   "source": [
    "tran.plot.box(figsize=(15,5))\n",
    "\n",
    "plt.xticks(rotation='vertical')"
   ]
  },
  {
   "cell_type": "code",
   "execution_count": 15,
   "metadata": {
    "id": "ER75-Rar4Ibr"
   },
   "outputs": [],
   "source": [
    "data_week_4 = data_d[data.columns[16:21]]\n",
    "data_week_1_3 = data[data.columns[0:16]]"
   ]
  },
  {
   "cell_type": "code",
   "execution_count": 16,
   "metadata": {
    "colab": {
     "base_uri": "https://localhost:8080/",
     "height": 206
    },
    "id": "F3QUK-6p4dGA",
    "outputId": "5b08f8d0-6144-4691-8279-c33201f41e77"
   },
   "outputs": [
    {
     "data": {
      "text/html": [
       "<div>\n",
       "<style scoped>\n",
       "    .dataframe tbody tr th:only-of-type {\n",
       "        vertical-align: middle;\n",
       "    }\n",
       "\n",
       "    .dataframe tbody tr th {\n",
       "        vertical-align: top;\n",
       "    }\n",
       "\n",
       "    .dataframe thead th {\n",
       "        text-align: right;\n",
       "    }\n",
       "</style>\n",
       "<table border=\"1\" class=\"dataframe\">\n",
       "  <thead>\n",
       "    <tr style=\"text-align: right;\">\n",
       "      <th></th>\n",
       "      <th>M4</th>\n",
       "      <th>T4</th>\n",
       "      <th>W4</th>\n",
       "      <th>TH4</th>\n",
       "      <th>F4</th>\n",
       "    </tr>\n",
       "  </thead>\n",
       "  <tbody>\n",
       "    <tr>\n",
       "      <th>0</th>\n",
       "      <td>4.0</td>\n",
       "      <td>5.0</td>\n",
       "      <td>6.0</td>\n",
       "      <td>7.0</td>\n",
       "      <td>7.0</td>\n",
       "    </tr>\n",
       "    <tr>\n",
       "      <th>1</th>\n",
       "      <td>6.0</td>\n",
       "      <td>6.0</td>\n",
       "      <td>7.0</td>\n",
       "      <td>7.0</td>\n",
       "      <td>7.0</td>\n",
       "    </tr>\n",
       "    <tr>\n",
       "      <th>2</th>\n",
       "      <td>2.0</td>\n",
       "      <td>3.0</td>\n",
       "      <td>NaN</td>\n",
       "      <td>5.0</td>\n",
       "      <td>6.0</td>\n",
       "    </tr>\n",
       "    <tr>\n",
       "      <th>3</th>\n",
       "      <td>4.0</td>\n",
       "      <td>5.0</td>\n",
       "      <td>6.0</td>\n",
       "      <td>7.0</td>\n",
       "      <td>7.0</td>\n",
       "    </tr>\n",
       "    <tr>\n",
       "      <th>4</th>\n",
       "      <td>NaN</td>\n",
       "      <td>5.0</td>\n",
       "      <td>6.0</td>\n",
       "      <td>7.0</td>\n",
       "      <td>NaN</td>\n",
       "    </tr>\n",
       "  </tbody>\n",
       "</table>\n",
       "</div>"
      ],
      "text/plain": [
       "    M4   T4   W4  TH4   F4\n",
       "0  4.0  5.0  6.0  7.0  7.0\n",
       "1  6.0  6.0  7.0  7.0  7.0\n",
       "2  2.0  3.0  NaN  5.0  6.0\n",
       "3  4.0  5.0  6.0  7.0  7.0\n",
       "4  NaN  5.0  6.0  7.0  NaN"
      ]
     },
     "execution_count": 16,
     "metadata": {
      "tags": []
     },
     "output_type": "execute_result"
    }
   ],
   "source": [
    "data_week_4.head()"
   ]
  },
  {
   "cell_type": "code",
   "execution_count": 17,
   "metadata": {
    "colab": {
     "base_uri": "https://localhost:8080/"
    },
    "id": "--qZuCQ94iEp",
    "outputId": "a2523c4d-bc12-47c4-dd5f-60a3fd8b3f3a"
   },
   "outputs": [
    {
     "data": {
      "text/plain": [
       "M4     192\n",
       "T4     164\n",
       "W4     151\n",
       "TH4    154\n",
       "F4     183\n",
       "dtype: int64"
      ]
     },
     "execution_count": 17,
     "metadata": {
      "tags": []
     },
     "output_type": "execute_result"
    }
   ],
   "source": [
    "# how many missing values present in the data?\n",
    "data_week_4.isnull().sum()"
   ]
  },
  {
   "cell_type": "code",
   "execution_count": 18,
   "metadata": {
    "colab": {
     "base_uri": "https://localhost:8080/"
    },
    "id": "RrzFEmas4l6L",
    "outputId": "ab6b9e75-908e-4aee-9597-b3f8b325d403"
   },
   "outputs": [
    {
     "data": {
      "text/plain": [
       "1000"
      ]
     },
     "execution_count": 18,
     "metadata": {
      "tags": []
     },
     "output_type": "execute_result"
    }
   ],
   "source": [
    "data_week_4.shape[0] # checking the no of rows in dataset"
   ]
  },
  {
   "cell_type": "code",
   "execution_count": 38,
   "metadata": {
    "id": "ULl12MzKUior"
   },
   "outputs": [],
   "source": [
    "# evaluate mean imputation and random forest for the  dataset\n",
    "from numpy import mean\n",
    "from numpy import std\n",
    "from pandas import read_csv\n",
    "from sklearn.ensemble import RandomForestClassifier\n",
    "from sklearn.impute import SimpleImputer\n",
    "from sklearn.model_selection import cross_val_score\n",
    "from sklearn.model_selection import RepeatedStratifiedKFold\n",
    "from sklearn.pipeline import Pipeline\n",
    "from matplotlib import pyplot"
   ]
  },
  {
   "cell_type": "code",
   "execution_count": 43,
   "metadata": {
    "colab": {
     "base_uri": "https://localhost:8080/",
     "height": 1000
    },
    "id": "0nXb4lx_bMA4",
    "outputId": "dcfe5496-1a39-430e-c6d7-7904f5d88400"
   },
   "outputs": [
    {
     "name": "stdout",
     "output_type": "stream",
     "text": [
      "Test with day :  0\n",
      "+++++++++++++++++++\n",
      "\n",
      "Type : Accuray : std\n",
      "\n",
      ">mean 0.186 (0.032)\n",
      ">median 0.188 (0.030)\n",
      ">most_frequent 0.181 (0.036)\n",
      ">constant 0.181 (0.033)\n"
     ]
    },
    {
     "data": {
      "image/png": "[encoded data removed]",
      "text/plain": [
       "<Figure size 432x288 with 1 Axes>"
      ]
     },
     "metadata": {
      "needs_background": "light",
      "tags": []
     },
     "output_type": "display_data"
    },
    {
     "name": "stdout",
     "output_type": "stream",
     "text": [
      "Test with day :  1\n",
      "+++++++++++++++++++\n",
      "\n",
      "Type : Accuray : std\n",
      "\n",
      ">mean 0.343 (0.033)\n",
      ">median 0.341 (0.026)\n",
      ">most_frequent 0.365 (0.034)\n",
      ">constant 0.332 (0.039)\n"
     ]
    },
    {
     "data": {
      "image/png": "[encoded data removed]",
      "text/plain": [
       "<Figure size 432x288 with 1 Axes>"
      ]
     },
     "metadata": {
      "needs_background": "light",
      "tags": []
     },
     "output_type": "display_data"
    },
    {
     "name": "stdout",
     "output_type": "stream",
     "text": [
      "Test with day :  2\n",
      "+++++++++++++++++++\n",
      "\n",
      "Type : Accuray : std\n",
      "\n",
      ">mean 0.509 (0.033)\n",
      ">median 0.522 (0.029)\n",
      ">most_frequent 0.532 (0.031)\n",
      ">constant 0.520 (0.034)\n"
     ]
    },
    {
     "data": {
      "image/png": "[encoded data removed]",
      "text/plain": [
       "<Figure size 432x288 with 1 Axes>"
      ]
     },
     "metadata": {
      "needs_background": "light",
      "tags": []
     },
     "output_type": "display_data"
    },
    {
     "name": "stdout",
     "output_type": "stream",
     "text": [
      "Test with day :  3\n",
      "+++++++++++++++++++\n",
      "\n",
      "Type : Accuray : std\n",
      "\n",
      ">mean 0.482 (0.039)\n",
      ">median 0.494 (0.036)\n",
      ">most_frequent 0.504 (0.029)\n",
      ">constant 0.485 (0.037)\n"
     ]
    },
    {
     "data": {
      "image/png": "[encoded data removed]",
      "text/plain": [
       "<Figure size 432x288 with 1 Axes>"
      ]
     },
     "metadata": {
      "needs_background": "light",
      "tags": []
     },
     "output_type": "display_data"
    },
    {
     "name": "stdout",
     "output_type": "stream",
     "text": [
      "Test with day :  4\n",
      "+++++++++++++++++++\n",
      "\n",
      "Type : Accuray : std\n",
      "\n",
      ">mean 0.469 (0.031)\n",
      ">median 0.465 (0.027)\n",
      ">most_frequent 0.487 (0.023)\n",
      ">constant 0.472 (0.034)\n"
     ]
    },
    {
     "data": {
      "image/png": "[encoded data removed]",
      "text/plain": [
       "<Figure size 432x288 with 1 Axes>"
      ]
     },
     "metadata": {
      "needs_background": "light",
      "tags": []
     },
     "output_type": "display_data"
    },
    {
     "name": "stdout",
     "output_type": "stream",
     "text": [
      "Test with day :  5\n",
      "+++++++++++++++++++\n",
      "\n",
      "Type : Accuray : std\n",
      "\n",
      ">mean 0.224 (0.039)\n",
      ">median 0.219 (0.037)\n",
      ">most_frequent 0.221 (0.036)\n",
      ">constant 0.223 (0.037)\n"
     ]
    },
    {
     "data": {
      "image/png": "[encoded data removed]",
      "text/plain": [
       "<Figure size 432x288 with 1 Axes>"
      ]
     },
     "metadata": {
      "needs_background": "light",
      "tags": []
     },
     "output_type": "display_data"
    },
    {
     "name": "stdout",
     "output_type": "stream",
     "text": [
      "Test with day :  6\n",
      "+++++++++++++++++++\n",
      "\n",
      "Type : Accuray : std\n",
      "\n",
      ">mean 0.308 (0.044)\n",
      ">median 0.311 (0.036)\n",
      ">most_frequent 0.334 (0.033)\n",
      ">constant 0.311 (0.042)\n"
     ]
    },
    {
     "data": {
      "image/png": "[encoded data removed]",
      "text/plain": [
       "<Figure size 432x288 with 1 Axes>"
      ]
     },
     "metadata": {
      "needs_background": "light",
      "tags": []
     },
     "output_type": "display_data"
    },
    {
     "name": "stdout",
     "output_type": "stream",
     "text": [
      "Test with day :  7\n",
      "+++++++++++++++++++\n",
      "\n",
      "Type : Accuray : std\n",
      "\n",
      ">mean 0.295 (0.033)\n",
      ">median 0.296 (0.033)\n",
      ">most_frequent 0.291 (0.030)\n",
      ">constant 0.298 (0.027)\n"
     ]
    },
    {
     "data": {
      "image/png": "[encoded data removed]",
      "text/plain": [
       "<Figure size 432x288 with 1 Axes>"
      ]
     },
     "metadata": {
      "needs_background": "light",
      "tags": []
     },
     "output_type": "display_data"
    },
    {
     "name": "stdout",
     "output_type": "stream",
     "text": [
      "Test with day :  8\n",
      "+++++++++++++++++++\n",
      "\n",
      "Type : Accuray : std\n",
      "\n",
      ">mean 0.445 (0.035)\n",
      ">median 0.460 (0.027)\n",
      ">most_frequent 0.460 (0.026)\n",
      ">constant 0.445 (0.031)\n"
     ]
    },
    {
     "data": {
      "image/png": "[encoded data removed]",
      "text/plain": [
       "<Figure size 432x288 with 1 Axes>"
      ]
     },
     "metadata": {
      "needs_background": "light",
      "tags": []
     },
     "output_type": "display_data"
    },
    {
     "name": "stdout",
     "output_type": "stream",
     "text": [
      "Test with day :  9\n",
      "+++++++++++++++++++\n",
      "\n",
      "Type : Accuray : std\n",
      "\n",
      ">mean 0.442 (0.044)\n",
      ">median 0.453 (0.035)\n",
      ">most_frequent 0.449 (0.030)\n",
      ">constant 0.437 (0.042)\n"
     ]
    },
    {
     "data": {
      "image/png": "[encoded data removed]",
      "text/plain": [
       "<Figure size 432x288 with 1 Axes>"
      ]
     },
     "metadata": {
      "needs_background": "light",
      "tags": []
     },
     "output_type": "display_data"
    },
    {
     "name": "stdout",
     "output_type": "stream",
     "text": [
      "Test with day :  10\n",
      "+++++++++++++++++++\n",
      "\n",
      "Type : Accuray : std\n",
      "\n",
      ">mean 0.215 (0.040)\n",
      ">median 0.228 (0.041)\n",
      ">most_frequent 0.214 (0.044)\n",
      ">constant 0.221 (0.038)\n"
     ]
    },
    {
     "data": {
      "image/png": "[encoded data removed]",
      "text/plain": [
       "<Figure size 432x288 with 1 Axes>"
      ]
     },
     "metadata": {
      "needs_background": "light",
      "tags": []
     },
     "output_type": "display_data"
    },
    {
     "name": "stdout",
     "output_type": "stream",
     "text": [
      "Test with day :  11\n",
      "+++++++++++++++++++\n",
      "\n",
      "Type : Accuray : std\n",
      "\n",
      ">mean 0.208 (0.036)\n",
      ">median 0.225 (0.043)\n",
      ">most_frequent 0.195 (0.036)\n",
      ">constant 0.218 (0.039)\n"
     ]
    },
    {
     "data": {
      "image/png": "[encoded data removed]",
      "text/plain": [
       "<Figure size 432x288 with 1 Axes>"
      ]
     },
     "metadata": {
      "needs_background": "light",
      "tags": []
     },
     "output_type": "display_data"
    },
    {
     "name": "stdout",
     "output_type": "stream",
     "text": [
      "Test with day :  12\n",
      "+++++++++++++++++++\n",
      "\n",
      "Type : Accuray : std\n",
      "\n",
      ">mean 0.317 (0.038)\n",
      ">median 0.327 (0.033)\n",
      ">most_frequent 0.339 (0.035)\n",
      ">constant 0.323 (0.038)\n"
     ]
    },
    {
     "data": {
      "image/png": "[encoded data removed]",
      "text/plain": [
       "<Figure size 432x288 with 1 Axes>"
      ]
     },
     "metadata": {
      "needs_background": "light",
      "tags": []
     },
     "output_type": "display_data"
    },
    {
     "name": "stdout",
     "output_type": "stream",
     "text": [
      "Test with day :  13\n",
      "+++++++++++++++++++\n",
      "\n",
      "Type : Accuray : std\n",
      "\n",
      ">mean 0.324 (0.030)\n",
      ">median 0.313 (0.026)\n",
      ">most_frequent 0.325 (0.027)\n",
      ">constant 0.326 (0.037)\n"
     ]
    },
    {
     "data": {
      "image/png": "[encoded data removed]",
      "text/plain": [
       "<Figure size 432x288 with 1 Axes>"
      ]
     },
     "metadata": {
      "needs_background": "light",
      "tags": []
     },
     "output_type": "display_data"
    },
    {
     "name": "stdout",
     "output_type": "stream",
     "text": [
      "Test with day :  14\n",
      "+++++++++++++++++++\n",
      "\n",
      "Type : Accuray : std\n",
      "\n",
      ">mean 0.466 (0.033)\n",
      ">median 0.479 (0.024)\n",
      ">most_frequent 0.489 (0.021)\n",
      ">constant 0.465 (0.030)\n"
     ]
    },
    {
     "data": {
      "image/png": "[encoded data removed]",
      "text/plain": [
       "<Figure size 432x288 with 1 Axes>"
      ]
     },
     "metadata": {
      "needs_background": "light",
      "tags": []
     },
     "output_type": "display_data"
    }
   ],
   "source": [
    "# split dataset into inputs and outputs\n",
    "import warnings\n",
    "warnings.filterwarnings('ignore')\n",
    "\n",
    "values = tran.values\n",
    "for i in range(15):\n",
    "  X = values[:,15:20]\n",
    "  y = values[:,i]\n",
    "  results = list()\n",
    "  strategies = ['mean', 'median', 'most_frequent', 'constant']\n",
    "  print(\"Test with day : \",i)\n",
    "  \n",
    "  print(\"+++++++++++++++++++\\n\")\n",
    "  print(\"Type : Accuray : std\\n\")\n",
    "  for s in strategies:\n",
    "    pipeline = Pipeline(steps=[('i', SimpleImputer(strategy=s)), ('m', RandomForestClassifier())])# create the modeling pipeline\n",
    "    cv = RepeatedStratifiedKFold(n_splits=10, n_repeats=3, random_state=1)\t# evaluate the model\n",
    "    scores = cross_val_score(pipeline, X, y, scoring='accuracy', cv=cv, n_jobs=-1)\n",
    "    results.append(scores)# store results\n",
    "    \n",
    "    print('>%s %.3f (%.3f)' % (s, mean(scores), std(scores)))\n",
    "\n",
    "  # plot model performance for comparison\n",
    "  pyplot.boxplot(results, labels=strategies, showmeans=True)\n",
    "  pyplot.show()\n",
    "    \n",
    "\t  \n",
    "    "
   ]
  },
  {
   "cell_type": "code",
   "execution_count": 58,
   "metadata": {
    "id": "hNyFZnp2sv7x"
   },
   "outputs": [],
   "source": [
    "def accuracy(y_test, y_preds):\n",
    "    \"\"\"Calculates inference accuracy of the model.\n",
    "    \n",
    "    Args-\n",
    "        y_test- Original target labels of the test set\n",
    "        y_preds- Predicted target lables\n",
    "    Returns-\n",
    "        acc\n",
    "    \"\"\"\n",
    "    total_correct = 0\n",
    "    for i in range(len(y_test)):\n",
    "        if int(y_test[i]) == int(y_preds[i]):\n",
    "            total_correct += 1\n",
    "    acc = total_correct/len(y_test)\n",
    "    return acc"
   ]
  },
  {
   "cell_type": "markdown",
   "metadata": {
    "id": "sikdSrMIvFeL"
   },
   "source": [
    "## using KNN imputer"
   ]
  },
  {
   "cell_type": "code",
   "execution_count": 19,
   "metadata": {
    "id": "A98d-eVP4p3T"
   },
   "outputs": [],
   "source": [
    "# import the KNNimputer class \n",
    "from sklearn.impute import KNNImputer \n",
    "# create an object for KNNImputer \n",
    "imputer = KNNImputer(n_neighbors=5, weights='uniform', metric='nan_euclidean') \n",
    "After_imputation = imputer.fit_transform(data_week_4) "
   ]
  },
  {
   "cell_type": "code",
   "execution_count": 20,
   "metadata": {
    "colab": {
     "base_uri": "https://localhost:8080/",
     "height": 424
    },
    "id": "IaHH_CdP40-l",
    "outputId": "fabfa191-e044-4b2e-92a1-bd704e6f28e2"
   },
   "outputs": [
    {
     "data": {
      "text/html": [
       "<div>\n",
       "<style scoped>\n",
       "    .dataframe tbody tr th:only-of-type {\n",
       "        vertical-align: middle;\n",
       "    }\n",
       "\n",
       "    .dataframe tbody tr th {\n",
       "        vertical-align: top;\n",
       "    }\n",
       "\n",
       "    .dataframe thead th {\n",
       "        text-align: right;\n",
       "    }\n",
       "</style>\n",
       "<table border=\"1\" class=\"dataframe\">\n",
       "  <thead>\n",
       "    <tr style=\"text-align: right;\">\n",
       "      <th></th>\n",
       "      <th>M4</th>\n",
       "      <th>T4</th>\n",
       "      <th>W4</th>\n",
       "      <th>TH4</th>\n",
       "      <th>F4</th>\n",
       "    </tr>\n",
       "  </thead>\n",
       "  <tbody>\n",
       "    <tr>\n",
       "      <th>0</th>\n",
       "      <td>4.0</td>\n",
       "      <td>5.0</td>\n",
       "      <td>6.0</td>\n",
       "      <td>7.0</td>\n",
       "      <td>7.0</td>\n",
       "    </tr>\n",
       "    <tr>\n",
       "      <th>1</th>\n",
       "      <td>6.0</td>\n",
       "      <td>6.0</td>\n",
       "      <td>7.0</td>\n",
       "      <td>7.0</td>\n",
       "      <td>7.0</td>\n",
       "    </tr>\n",
       "    <tr>\n",
       "      <th>2</th>\n",
       "      <td>2.0</td>\n",
       "      <td>3.0</td>\n",
       "      <td>4.0</td>\n",
       "      <td>5.0</td>\n",
       "      <td>6.0</td>\n",
       "    </tr>\n",
       "    <tr>\n",
       "      <th>3</th>\n",
       "      <td>4.0</td>\n",
       "      <td>5.0</td>\n",
       "      <td>6.0</td>\n",
       "      <td>7.0</td>\n",
       "      <td>7.0</td>\n",
       "    </tr>\n",
       "    <tr>\n",
       "      <th>4</th>\n",
       "      <td>4.0</td>\n",
       "      <td>5.0</td>\n",
       "      <td>6.0</td>\n",
       "      <td>7.0</td>\n",
       "      <td>7.0</td>\n",
       "    </tr>\n",
       "    <tr>\n",
       "      <th>...</th>\n",
       "      <td>...</td>\n",
       "      <td>...</td>\n",
       "      <td>...</td>\n",
       "      <td>...</td>\n",
       "      <td>...</td>\n",
       "    </tr>\n",
       "    <tr>\n",
       "      <th>995</th>\n",
       "      <td>6.0</td>\n",
       "      <td>6.0</td>\n",
       "      <td>6.0</td>\n",
       "      <td>7.0</td>\n",
       "      <td>7.0</td>\n",
       "    </tr>\n",
       "    <tr>\n",
       "      <th>996</th>\n",
       "      <td>5.0</td>\n",
       "      <td>5.0</td>\n",
       "      <td>5.0</td>\n",
       "      <td>6.0</td>\n",
       "      <td>7.0</td>\n",
       "    </tr>\n",
       "    <tr>\n",
       "      <th>997</th>\n",
       "      <td>4.4</td>\n",
       "      <td>5.0</td>\n",
       "      <td>5.0</td>\n",
       "      <td>5.0</td>\n",
       "      <td>5.0</td>\n",
       "    </tr>\n",
       "    <tr>\n",
       "      <th>998</th>\n",
       "      <td>3.0</td>\n",
       "      <td>3.0</td>\n",
       "      <td>3.0</td>\n",
       "      <td>4.0</td>\n",
       "      <td>5.0</td>\n",
       "    </tr>\n",
       "    <tr>\n",
       "      <th>999</th>\n",
       "      <td>1.0</td>\n",
       "      <td>1.0</td>\n",
       "      <td>2.0</td>\n",
       "      <td>2.0</td>\n",
       "      <td>2.6</td>\n",
       "    </tr>\n",
       "  </tbody>\n",
       "</table>\n",
       "<p>1000 rows × 5 columns</p>\n",
       "</div>"
      ],
      "text/plain": [
       "      M4   T4   W4  TH4   F4\n",
       "0    4.0  5.0  6.0  7.0  7.0\n",
       "1    6.0  6.0  7.0  7.0  7.0\n",
       "2    2.0  3.0  4.0  5.0  6.0\n",
       "3    4.0  5.0  6.0  7.0  7.0\n",
       "4    4.0  5.0  6.0  7.0  7.0\n",
       "..   ...  ...  ...  ...  ...\n",
       "995  6.0  6.0  6.0  7.0  7.0\n",
       "996  5.0  5.0  5.0  6.0  7.0\n",
       "997  4.4  5.0  5.0  5.0  5.0\n",
       "998  3.0  3.0  3.0  4.0  5.0\n",
       "999  1.0  1.0  2.0  2.0  2.6\n",
       "\n",
       "[1000 rows x 5 columns]"
      ]
     },
     "execution_count": 20,
     "metadata": {
      "tags": []
     },
     "output_type": "execute_result"
    }
   ],
   "source": [
    "data_week_4_imputed = pd.DataFrame(data = After_imputation,columns=[\"M4\", \"T4\",\"W4\", \"TH4\", \"F4\"] )\n",
    "data_week_4_imputed"
   ]
  },
  {
   "cell_type": "code",
   "execution_count": 21,
   "metadata": {
    "colab": {
     "base_uri": "https://localhost:8080/",
     "height": 424
    },
    "id": "QQMjFsnM4328",
    "outputId": "a6874511-bc33-4d66-8198-cfe21e8ae8d2"
   },
   "outputs": [
    {
     "data": {
      "text/html": [
       "<div>\n",
       "<style scoped>\n",
       "    .dataframe tbody tr th:only-of-type {\n",
       "        vertical-align: middle;\n",
       "    }\n",
       "\n",
       "    .dataframe tbody tr th {\n",
       "        vertical-align: top;\n",
       "    }\n",
       "\n",
       "    .dataframe thead th {\n",
       "        text-align: right;\n",
       "    }\n",
       "</style>\n",
       "<table border=\"1\" class=\"dataframe\">\n",
       "  <thead>\n",
       "    <tr style=\"text-align: right;\">\n",
       "      <th></th>\n",
       "      <th>Student</th>\n",
       "      <th>M1</th>\n",
       "      <th>T1</th>\n",
       "      <th>W1</th>\n",
       "      <th>TH1</th>\n",
       "      <th>F1</th>\n",
       "      <th>M2</th>\n",
       "      <th>T2</th>\n",
       "      <th>W2</th>\n",
       "      <th>TH2</th>\n",
       "      <th>F2</th>\n",
       "      <th>M3</th>\n",
       "      <th>T3</th>\n",
       "      <th>W3</th>\n",
       "      <th>TH3</th>\n",
       "      <th>F3</th>\n",
       "      <th>M4</th>\n",
       "      <th>T4</th>\n",
       "      <th>W4</th>\n",
       "      <th>TH4</th>\n",
       "      <th>F4</th>\n",
       "    </tr>\n",
       "  </thead>\n",
       "  <tbody>\n",
       "    <tr>\n",
       "      <th>0</th>\n",
       "      <td>1</td>\n",
       "      <td>4</td>\n",
       "      <td>5</td>\n",
       "      <td>5</td>\n",
       "      <td>6</td>\n",
       "      <td>7</td>\n",
       "      <td>1</td>\n",
       "      <td>2</td>\n",
       "      <td>3</td>\n",
       "      <td>4</td>\n",
       "      <td>5</td>\n",
       "      <td>3</td>\n",
       "      <td>4</td>\n",
       "      <td>5</td>\n",
       "      <td>6</td>\n",
       "      <td>7</td>\n",
       "      <td>4</td>\n",
       "      <td>5</td>\n",
       "      <td>6</td>\n",
       "      <td>7</td>\n",
       "      <td>7</td>\n",
       "    </tr>\n",
       "    <tr>\n",
       "      <th>1</th>\n",
       "      <td>2</td>\n",
       "      <td>1</td>\n",
       "      <td>2</td>\n",
       "      <td>3</td>\n",
       "      <td>4</td>\n",
       "      <td>5</td>\n",
       "      <td>5</td>\n",
       "      <td>5</td>\n",
       "      <td>6</td>\n",
       "      <td>6</td>\n",
       "      <td>7</td>\n",
       "      <td>3</td>\n",
       "      <td>4</td>\n",
       "      <td>5</td>\n",
       "      <td>6</td>\n",
       "      <td>7</td>\n",
       "      <td>6</td>\n",
       "      <td>6</td>\n",
       "      <td>7</td>\n",
       "      <td>7</td>\n",
       "      <td>7</td>\n",
       "    </tr>\n",
       "    <tr>\n",
       "      <th>2</th>\n",
       "      <td>3</td>\n",
       "      <td>3</td>\n",
       "      <td>4</td>\n",
       "      <td>5</td>\n",
       "      <td>6</td>\n",
       "      <td>7</td>\n",
       "      <td>2</td>\n",
       "      <td>3</td>\n",
       "      <td>4</td>\n",
       "      <td>5</td>\n",
       "      <td>6</td>\n",
       "      <td>5</td>\n",
       "      <td>6</td>\n",
       "      <td>6</td>\n",
       "      <td>7</td>\n",
       "      <td>7</td>\n",
       "      <td>2</td>\n",
       "      <td>3</td>\n",
       "      <td>4</td>\n",
       "      <td>5</td>\n",
       "      <td>6</td>\n",
       "    </tr>\n",
       "    <tr>\n",
       "      <th>3</th>\n",
       "      <td>4</td>\n",
       "      <td>1</td>\n",
       "      <td>2</td>\n",
       "      <td>3</td>\n",
       "      <td>4</td>\n",
       "      <td>5</td>\n",
       "      <td>1</td>\n",
       "      <td>2</td>\n",
       "      <td>3</td>\n",
       "      <td>4</td>\n",
       "      <td>5</td>\n",
       "      <td>1</td>\n",
       "      <td>2</td>\n",
       "      <td>3</td>\n",
       "      <td>4</td>\n",
       "      <td>5</td>\n",
       "      <td>4</td>\n",
       "      <td>5</td>\n",
       "      <td>6</td>\n",
       "      <td>7</td>\n",
       "      <td>7</td>\n",
       "    </tr>\n",
       "    <tr>\n",
       "      <th>4</th>\n",
       "      <td>5</td>\n",
       "      <td>2</td>\n",
       "      <td>3</td>\n",
       "      <td>4</td>\n",
       "      <td>5</td>\n",
       "      <td>6</td>\n",
       "      <td>5</td>\n",
       "      <td>5</td>\n",
       "      <td>6</td>\n",
       "      <td>6</td>\n",
       "      <td>7</td>\n",
       "      <td>5</td>\n",
       "      <td>6</td>\n",
       "      <td>6</td>\n",
       "      <td>7</td>\n",
       "      <td>7</td>\n",
       "      <td>4</td>\n",
       "      <td>5</td>\n",
       "      <td>6</td>\n",
       "      <td>7</td>\n",
       "      <td>7</td>\n",
       "    </tr>\n",
       "    <tr>\n",
       "      <th>...</th>\n",
       "      <td>...</td>\n",
       "      <td>...</td>\n",
       "      <td>...</td>\n",
       "      <td>...</td>\n",
       "      <td>...</td>\n",
       "      <td>...</td>\n",
       "      <td>...</td>\n",
       "      <td>...</td>\n",
       "      <td>...</td>\n",
       "      <td>...</td>\n",
       "      <td>...</td>\n",
       "      <td>...</td>\n",
       "      <td>...</td>\n",
       "      <td>...</td>\n",
       "      <td>...</td>\n",
       "      <td>...</td>\n",
       "      <td>...</td>\n",
       "      <td>...</td>\n",
       "      <td>...</td>\n",
       "      <td>...</td>\n",
       "      <td>...</td>\n",
       "    </tr>\n",
       "    <tr>\n",
       "      <th>995</th>\n",
       "      <td>996</td>\n",
       "      <td>2</td>\n",
       "      <td>3</td>\n",
       "      <td>4</td>\n",
       "      <td>5</td>\n",
       "      <td>5</td>\n",
       "      <td>1</td>\n",
       "      <td>2</td>\n",
       "      <td>3</td>\n",
       "      <td>3</td>\n",
       "      <td>3</td>\n",
       "      <td>5</td>\n",
       "      <td>6</td>\n",
       "      <td>6</td>\n",
       "      <td>6</td>\n",
       "      <td>6</td>\n",
       "      <td>6</td>\n",
       "      <td>6</td>\n",
       "      <td>6</td>\n",
       "      <td>7</td>\n",
       "      <td>7</td>\n",
       "    </tr>\n",
       "    <tr>\n",
       "      <th>996</th>\n",
       "      <td>997</td>\n",
       "      <td>5</td>\n",
       "      <td>5</td>\n",
       "      <td>5</td>\n",
       "      <td>5</td>\n",
       "      <td>7</td>\n",
       "      <td>2</td>\n",
       "      <td>2</td>\n",
       "      <td>3</td>\n",
       "      <td>4</td>\n",
       "      <td>5</td>\n",
       "      <td>1</td>\n",
       "      <td>1</td>\n",
       "      <td>2</td>\n",
       "      <td>2</td>\n",
       "      <td>3</td>\n",
       "      <td>5</td>\n",
       "      <td>5</td>\n",
       "      <td>5</td>\n",
       "      <td>6</td>\n",
       "      <td>7</td>\n",
       "    </tr>\n",
       "    <tr>\n",
       "      <th>997</th>\n",
       "      <td>998</td>\n",
       "      <td>1</td>\n",
       "      <td>1</td>\n",
       "      <td>1</td>\n",
       "      <td>2</td>\n",
       "      <td>3</td>\n",
       "      <td>4</td>\n",
       "      <td>4</td>\n",
       "      <td>4</td>\n",
       "      <td>5</td>\n",
       "      <td>5</td>\n",
       "      <td>4</td>\n",
       "      <td>4</td>\n",
       "      <td>4</td>\n",
       "      <td>5</td>\n",
       "      <td>5</td>\n",
       "      <td>4</td>\n",
       "      <td>5</td>\n",
       "      <td>5</td>\n",
       "      <td>5</td>\n",
       "      <td>5</td>\n",
       "    </tr>\n",
       "    <tr>\n",
       "      <th>998</th>\n",
       "      <td>999</td>\n",
       "      <td>1</td>\n",
       "      <td>1</td>\n",
       "      <td>2</td>\n",
       "      <td>2</td>\n",
       "      <td>3</td>\n",
       "      <td>1</td>\n",
       "      <td>1</td>\n",
       "      <td>2</td>\n",
       "      <td>2</td>\n",
       "      <td>2</td>\n",
       "      <td>5</td>\n",
       "      <td>6</td>\n",
       "      <td>6</td>\n",
       "      <td>7</td>\n",
       "      <td>7</td>\n",
       "      <td>3</td>\n",
       "      <td>3</td>\n",
       "      <td>3</td>\n",
       "      <td>4</td>\n",
       "      <td>5</td>\n",
       "    </tr>\n",
       "    <tr>\n",
       "      <th>999</th>\n",
       "      <td>1000</td>\n",
       "      <td>2</td>\n",
       "      <td>2</td>\n",
       "      <td>2</td>\n",
       "      <td>2</td>\n",
       "      <td>3</td>\n",
       "      <td>2</td>\n",
       "      <td>2</td>\n",
       "      <td>3</td>\n",
       "      <td>4</td>\n",
       "      <td>4</td>\n",
       "      <td>1</td>\n",
       "      <td>2</td>\n",
       "      <td>2</td>\n",
       "      <td>2</td>\n",
       "      <td>3</td>\n",
       "      <td>1</td>\n",
       "      <td>1</td>\n",
       "      <td>2</td>\n",
       "      <td>2</td>\n",
       "      <td>2</td>\n",
       "    </tr>\n",
       "  </tbody>\n",
       "</table>\n",
       "<p>1000 rows × 21 columns</p>\n",
       "</div>"
      ],
      "text/plain": [
       "     Student  M1  T1  W1  TH1  F1  M2  T2  ...  W3  TH3  F3  M4  T4  W4  TH4  F4\n",
       "0          1   4   5   5    6   7   1   2  ...   5    6   7   4   5   6    7   7\n",
       "1          2   1   2   3    4   5   5   5  ...   5    6   7   6   6   7    7   7\n",
       "2          3   3   4   5    6   7   2   3  ...   6    7   7   2   3   4    5   6\n",
       "3          4   1   2   3    4   5   1   2  ...   3    4   5   4   5   6    7   7\n",
       "4          5   2   3   4    5   6   5   5  ...   6    7   7   4   5   6    7   7\n",
       "..       ...  ..  ..  ..  ...  ..  ..  ..  ...  ..  ...  ..  ..  ..  ..  ...  ..\n",
       "995      996   2   3   4    5   5   1   2  ...   6    6   6   6   6   6    7   7\n",
       "996      997   5   5   5    5   7   2   2  ...   2    2   3   5   5   5    6   7\n",
       "997      998   1   1   1    2   3   4   4  ...   4    5   5   4   5   5    5   5\n",
       "998      999   1   1   2    2   3   1   1  ...   6    7   7   3   3   3    4   5\n",
       "999     1000   2   2   2    2   3   2   2  ...   2    2   3   1   1   2    2   2\n",
       "\n",
       "[1000 rows x 21 columns]"
      ]
     },
     "execution_count": 21,
     "metadata": {
      "tags": []
     },
     "output_type": "execute_result"
    }
   ],
   "source": [
    "data_imputed = data_week_1_3.join(data_week_4_imputed)\n",
    "for i in data_d.columns:\n",
    "  data_imputed[i] = data_imputed[i].astype(int)  # converting the datatype into int\n",
    "\n",
    "data_imputed"
   ]
  },
  {
   "cell_type": "code",
   "execution_count": 22,
   "metadata": {
    "colab": {
     "base_uri": "https://localhost:8080/",
     "height": 401
    },
    "id": "tZxcYkId5hbp",
    "outputId": "d70043bc-a5d7-4153-f741-bca40c6b8b17"
   },
   "outputs": [
    {
     "name": "stderr",
     "output_type": "stream",
     "text": [
      "/usr/local/lib/python3.6/dist-packages/numpy/core/_asarray.py:83: VisibleDeprecationWarning: Creating an ndarray from ragged nested sequences (which is a list-or-tuple of lists-or-tuples-or ndarrays with different lengths or shapes) is deprecated. If you meant to do this, you must specify 'dtype=object' when creating the ndarray\n",
      "  return array(a, dtype, copy=False, order=order)\n"
     ]
    },
    {
     "data": {
      "text/plain": [
       "(array([1, 2, 3, 4, 5]), <a list of 5 Text major ticklabel objects>)"
      ]
     },
     "execution_count": 22,
     "metadata": {
      "tags": []
     },
     "output_type": "execute_result"
    },
    {
     "data": {
      "image/png": "[encoded data removed]",
      "text/plain": [
       "<Figure size 1080x360 with 1 Axes>"
      ]
     },
     "metadata": {
      "needs_background": "light",
      "tags": []
     },
     "output_type": "display_data"
    }
   ],
   "source": [
    "data_week_4.plot.box(figsize=(15,5))\n",
    "\n",
    "plt.xticks(rotation='vertical')"
   ]
  },
  {
   "cell_type": "code",
   "execution_count": 23,
   "metadata": {
    "colab": {
     "base_uri": "https://localhost:8080/",
     "height": 346
    },
    "id": "KJnI1bTJ5GeK",
    "outputId": "b65ed36a-d7d5-43e4-d406-1af7ab8bfcb2"
   },
   "outputs": [
    {
     "data": {
      "text/plain": [
       "(array([1, 2, 3, 4, 5]), <a list of 5 Text major ticklabel objects>)"
      ]
     },
     "execution_count": 23,
     "metadata": {
      "tags": []
     },
     "output_type": "execute_result"
    },
    {
     "data": {
      "image/png": "[encoded data removed]",
      "text/plain": [
       "<Figure size 1080x360 with 1 Axes>"
      ]
     },
     "metadata": {
      "needs_background": "light",
      "tags": []
     },
     "output_type": "display_data"
    }
   ],
   "source": [
    "data_week_4_imputed.plot.box(figsize=(15,5))\n",
    "\n",
    "plt.xticks(rotation='vertical')"
   ]
  },
  {
   "cell_type": "code",
   "execution_count": null,
   "metadata": {
    "id": "phmiDwRV8kIr"
   },
   "outputs": [],
   "source": []
  },
  {
   "cell_type": "markdown",
   "metadata": {
    "id": "bMW7U7GL5zci"
   },
   "source": [
    "##### Predicted the accuracy of the missing values per day"
   ]
  },
  {
   "cell_type": "code",
   "execution_count": 59,
   "metadata": {
    "colab": {
     "base_uri": "https://localhost:8080/"
    },
    "id": "3Url1MDa5nlX",
    "outputId": "ed13da85-b145-4208-8871-5cedd8b61673"
   },
   "outputs": [
    {
     "name": "stdout",
     "output_type": "stream",
     "text": [
      "Model accuracy of week3  data with previous weeks data : \n",
      "Mon 35.9\n",
      "Tues 20.599999999999998\n",
      "Wed 20.200000000000003\n",
      "Thus 27.0\n",
      "Fri 18.6\n"
     ]
    }
   ],
   "source": [
    "data_p = data_imputed.values\n",
    "days = [\"Mon\",\"Tues\",\"Wed\",\"Thus\",\"Fri\"]\n",
    "print(\"Model accuracy of week3  data with previous weeks data : \")\n",
    "week_3_w2 = []\n",
    "for i in range(5):\n",
    "  X =data_p[:,i+5]\n",
    "  y =  data_p[:,i+10]\n",
    "  acc = accuracy(y, X)\n",
    "  week_3_w2.append(acc)\n",
    "  print(days[i], acc*100)"
   ]
  },
  {
   "cell_type": "code",
   "execution_count": 26,
   "metadata": {
    "colab": {
     "base_uri": "https://localhost:8080/"
    },
    "id": "owtwzjZ26CqD",
    "outputId": "945c5867-7be1-439a-d78d-a365dda9ace5"
   },
   "outputs": [
    {
     "name": "stdout",
     "output_type": "stream",
     "text": [
      "Model accuracy of Imputed missing data with previous weeks data : \n",
      "Mon 7.9\n",
      "Tues 12.0\n",
      "Wed 30.4\n",
      "Thus 12.0\n",
      "Fri 47.4\n"
     ]
    }
   ],
   "source": [
    "data_p = data_imputed.values\n",
    "days = [\"Mon\",\"Tues\",\"Wed\",\"Thus\",\"Fri\"]\n",
    "week_4_w3 = []\n",
    "print(\"Model accuracy of Imputed missing data with previous weeks data : \")\n",
    "for i in range(5):\n",
    "  X =data_p[:,i+10]\n",
    "  y =  data_p[:,i+11]\n",
    "  acc = accuracy(y, X)\n",
    "  week_4_w3.append(acc)\n",
    "  print(days[i], acc*100)"
   ]
  },
  {
   "cell_type": "code",
   "execution_count": 67,
   "metadata": {
    "colab": {
     "base_uri": "https://localhost:8080/"
    },
    "id": "yU7PJ90ww0Ye",
    "outputId": "b1918d3c-89aa-4480-d019-fc5f502c6490"
   },
   "outputs": [
    {
     "data": {
      "text/plain": [
       "Index(['M1', 'T1', 'W1', 'TH1', 'F1', 'M2', 'T2', 'W2', 'TH2', 'F2', 'M3',\n",
       "       'T3', 'W3', 'TH3', 'F3', 'M4', 'T4', 'W4', 'TH4', 'F4'],\n",
       "      dtype='object')"
      ]
     },
     "execution_count": 67,
     "metadata": {
      "tags": []
     },
     "output_type": "execute_result"
    }
   ],
   "source": [
    "tran.columns"
   ]
  },
  {
   "cell_type": "code",
   "execution_count": 27,
   "metadata": {
    "colab": {
     "base_uri": "https://localhost:8080/"
    },
    "id": "H0XcFKpB6Jj3",
    "outputId": "c3b50e1e-93b2-4889-a6dc-e46644c9452b"
   },
   "outputs": [
    {
     "name": "stdout",
     "output_type": "stream",
     "text": [
      "The accuracy percenntage of our imputed value is : 89.69746524938674\n"
     ]
    }
   ],
   "source": [
    "from statistics import mean\n",
    "\n",
    "per = (mean(week_4_w3)/mean(week_3_w2))*100\n",
    "\n",
    "print(\"The accuracy percenntage of our imputed value is :\",per)"
   ]
  },
  {
   "cell_type": "markdown",
   "metadata": {
    "id": "IctKVtkBvmlX"
   },
   "source": []
  },
  {
   "cell_type": "code",
   "execution_count": 65,
   "metadata": {
    "id": "QA3H-zn4wQeb"
   },
   "outputs": [],
   "source": [
    "from impyute.imputation.cs import mice\n",
    "\n",
    "# start the MICE training\n",
    "imputed_training=mice(tran.values)"
   ]
  },
  {
   "cell_type": "code",
   "execution_count": 68,
   "metadata": {
    "colab": {
     "base_uri": "https://localhost:8080/",
     "height": 206
    },
    "id": "ZeCmwqnhwffh",
    "outputId": "ae64c0c9-b206-4961-d8d5-e3beebd73955"
   },
   "outputs": [
    {
     "data": {
      "text/html": [
       "<div>\n",
       "<style scoped>\n",
       "    .dataframe tbody tr th:only-of-type {\n",
       "        vertical-align: middle;\n",
       "    }\n",
       "\n",
       "    .dataframe tbody tr th {\n",
       "        vertical-align: top;\n",
       "    }\n",
       "\n",
       "    .dataframe thead th {\n",
       "        text-align: right;\n",
       "    }\n",
       "</style>\n",
       "<table border=\"1\" class=\"dataframe\">\n",
       "  <thead>\n",
       "    <tr style=\"text-align: right;\">\n",
       "      <th></th>\n",
       "      <th>M1</th>\n",
       "      <th>T1</th>\n",
       "      <th>W1</th>\n",
       "      <th>TH1</th>\n",
       "      <th>F1</th>\n",
       "      <th>M2</th>\n",
       "      <th>T2</th>\n",
       "      <th>W2</th>\n",
       "      <th>TH2</th>\n",
       "      <th>F2</th>\n",
       "      <th>M3</th>\n",
       "      <th>T3</th>\n",
       "      <th>W3</th>\n",
       "      <th>TH3</th>\n",
       "      <th>F3</th>\n",
       "      <th>M4</th>\n",
       "      <th>T4</th>\n",
       "      <th>W4</th>\n",
       "      <th>TH4</th>\n",
       "      <th>F4</th>\n",
       "    </tr>\n",
       "  </thead>\n",
       "  <tbody>\n",
       "    <tr>\n",
       "      <th>0</th>\n",
       "      <td>4</td>\n",
       "      <td>5</td>\n",
       "      <td>5</td>\n",
       "      <td>6</td>\n",
       "      <td>7</td>\n",
       "      <td>1</td>\n",
       "      <td>2</td>\n",
       "      <td>3</td>\n",
       "      <td>4</td>\n",
       "      <td>5</td>\n",
       "      <td>3</td>\n",
       "      <td>4</td>\n",
       "      <td>5</td>\n",
       "      <td>6</td>\n",
       "      <td>7</td>\n",
       "      <td>4</td>\n",
       "      <td>5</td>\n",
       "      <td>6</td>\n",
       "      <td>7</td>\n",
       "      <td>7</td>\n",
       "    </tr>\n",
       "    <tr>\n",
       "      <th>1</th>\n",
       "      <td>1</td>\n",
       "      <td>2</td>\n",
       "      <td>3</td>\n",
       "      <td>4</td>\n",
       "      <td>5</td>\n",
       "      <td>5</td>\n",
       "      <td>5</td>\n",
       "      <td>6</td>\n",
       "      <td>6</td>\n",
       "      <td>7</td>\n",
       "      <td>3</td>\n",
       "      <td>4</td>\n",
       "      <td>5</td>\n",
       "      <td>6</td>\n",
       "      <td>7</td>\n",
       "      <td>6</td>\n",
       "      <td>6</td>\n",
       "      <td>7</td>\n",
       "      <td>7</td>\n",
       "      <td>7</td>\n",
       "    </tr>\n",
       "    <tr>\n",
       "      <th>2</th>\n",
       "      <td>3</td>\n",
       "      <td>4</td>\n",
       "      <td>5</td>\n",
       "      <td>6</td>\n",
       "      <td>7</td>\n",
       "      <td>2</td>\n",
       "      <td>3</td>\n",
       "      <td>4</td>\n",
       "      <td>5</td>\n",
       "      <td>6</td>\n",
       "      <td>5</td>\n",
       "      <td>6</td>\n",
       "      <td>6</td>\n",
       "      <td>7</td>\n",
       "      <td>7</td>\n",
       "      <td>2</td>\n",
       "      <td>3</td>\n",
       "      <td>3</td>\n",
       "      <td>5</td>\n",
       "      <td>6</td>\n",
       "    </tr>\n",
       "    <tr>\n",
       "      <th>3</th>\n",
       "      <td>1</td>\n",
       "      <td>2</td>\n",
       "      <td>3</td>\n",
       "      <td>4</td>\n",
       "      <td>5</td>\n",
       "      <td>1</td>\n",
       "      <td>2</td>\n",
       "      <td>3</td>\n",
       "      <td>4</td>\n",
       "      <td>5</td>\n",
       "      <td>1</td>\n",
       "      <td>2</td>\n",
       "      <td>3</td>\n",
       "      <td>4</td>\n",
       "      <td>5</td>\n",
       "      <td>4</td>\n",
       "      <td>5</td>\n",
       "      <td>6</td>\n",
       "      <td>7</td>\n",
       "      <td>7</td>\n",
       "    </tr>\n",
       "    <tr>\n",
       "      <th>4</th>\n",
       "      <td>2</td>\n",
       "      <td>3</td>\n",
       "      <td>4</td>\n",
       "      <td>5</td>\n",
       "      <td>6</td>\n",
       "      <td>5</td>\n",
       "      <td>5</td>\n",
       "      <td>6</td>\n",
       "      <td>6</td>\n",
       "      <td>7</td>\n",
       "      <td>5</td>\n",
       "      <td>6</td>\n",
       "      <td>6</td>\n",
       "      <td>7</td>\n",
       "      <td>7</td>\n",
       "      <td>4</td>\n",
       "      <td>5</td>\n",
       "      <td>6</td>\n",
       "      <td>7</td>\n",
       "      <td>7</td>\n",
       "    </tr>\n",
       "  </tbody>\n",
       "</table>\n",
       "</div>"
      ],
      "text/plain": [
       "   M1  T1  W1  TH1  F1  M2  T2  W2  TH2  ...  T3  W3  TH3  F3  M4  T4  W4  TH4  F4\n",
       "0   4   5   5    6   7   1   2   3    4  ...   4   5    6   7   4   5   6    7   7\n",
       "1   1   2   3    4   5   5   5   6    6  ...   4   5    6   7   6   6   7    7   7\n",
       "2   3   4   5    6   7   2   3   4    5  ...   6   6    7   7   2   3   3    5   6\n",
       "3   1   2   3    4   5   1   2   3    4  ...   2   3    4   5   4   5   6    7   7\n",
       "4   2   3   4    5   6   5   5   6    6  ...   6   6    7   7   4   5   6    7   7\n",
       "\n",
       "[5 rows x 20 columns]"
      ]
     },
     "execution_count": 68,
     "metadata": {
      "tags": []
     },
     "output_type": "execute_result"
    }
   ],
   "source": [
    "data_week_4_MICE = pd.DataFrame(data = imputed_training,columns=['M1', 'T1', 'W1', 'TH1', 'F1', 'M2', 'T2', 'W2', 'TH2', 'F2', 'M3',\n",
    "       'T3', 'W3', 'TH3', 'F3', 'M4', 'T4', 'W4', 'TH4', 'F4'] )\n",
    "\n",
    "for i in data_week_4_MICE.columns:\n",
    "  data_week_4_MICE[i] = data_week_4_MICE[i].astype(int)  # converting the datatype into int\n",
    "\n",
    "data_week_4_MICE.head()\n"
   ]
  },
  {
   "cell_type": "markdown",
   "metadata": {
    "id": "j5bSyJXZxM0M"
   },
   "source": [
    "checking the accuracy"
   ]
  },
  {
   "cell_type": "code",
   "execution_count": 61,
   "metadata": {
    "colab": {
     "base_uri": "https://localhost:8080/"
    },
    "id": "ZSOkTaySs3ZZ",
    "outputId": "7470631e-1554-4ca5-f4ee-b6b67be94e7b"
   },
   "outputs": [
    {
     "name": "stdout",
     "output_type": "stream",
     "text": [
      "Model accuracy of week3  data with previous weeks data : \n",
      "Mon 20.599999999999998\n",
      "Tues 20.200000000000003\n",
      "Wed 27.0\n",
      "Thus 18.6\n",
      "Fri 36.6\n"
     ]
    }
   ],
   "source": [
    "data_p = data_week_4_MICE.values\n",
    "days = [\"Mon\",\"Tues\",\"Wed\",\"Thus\",\"Fri\"]\n",
    "print(\"Model accuracy of week3  data with previous weeks data : \")\n",
    "week_3_w2 = []\n",
    "for i in range(5):\n",
    "  X =data_p[:,i+5]\n",
    "  y =  data_p[:,i+10]\n",
    "  acc = accuracy(y, X)\n",
    "  week_3_w2.append(acc)\n",
    "  print(days[i], acc*100)"
   ]
  },
  {
   "cell_type": "code",
   "execution_count": 62,
   "metadata": {
    "colab": {
     "base_uri": "https://localhost:8080/"
    },
    "id": "UV_BXNobtAYC",
    "outputId": "157a1bd9-5023-45ac-fc3d-85d24fe039ed"
   },
   "outputs": [
    {
     "name": "stdout",
     "output_type": "stream",
     "text": [
      "Model accuracy of Imputed missing data with previous weeks data : \n",
      "Mon 12.0\n",
      "Tues 30.4\n",
      "Wed 12.0\n",
      "Thus 47.4\n",
      "Fri 6.5\n"
     ]
    }
   ],
   "source": [
    "data_p = data_week_4_MICE.values\n",
    "days = [\"Mon\",\"Tues\",\"Wed\",\"Thus\",\"Fri\"]\n",
    "week_4_w3 = []\n",
    "print(\"Model accuracy of Imputed missing data with previous weeks data : \")\n",
    "for i in range(5):\n",
    "  X =data_p[:,i+10]\n",
    "  y =  data_p[:,i+11]\n",
    "  acc = accuracy(y, X)\n",
    "  week_4_w3.append(acc)\n",
    "  print(days[i], acc*100)"
   ]
  },
  {
   "cell_type": "code",
   "execution_count": 63,
   "metadata": {
    "colab": {
     "base_uri": "https://localhost:8080/"
    },
    "id": "Z0yezo30tOh2",
    "outputId": "d2a41f72-372c-4f23-f4ad-53e385a5e449"
   },
   "outputs": [
    {
     "name": "stdout",
     "output_type": "stream",
     "text": [
      "The accuracy percenntage of our imputed value is : 88.04878048780488\n"
     ]
    }
   ],
   "source": [
    "from statistics import mean\n",
    "\n",
    "per = (mean(week_4_w3)/mean(week_3_w2))*100\n",
    "\n",
    "print(\"The accuracy percenntage of our imputed value is :\",per)"
   ]
  },
  {
   "cell_type": "markdown",
   "metadata": {
    "id": "bdNYVydHt2bF"
   },
   "source": [
    "## So we got higest accuracy KNN that is 89.7% and with MICE we got 88.04"
   ]
  },
  {
   "cell_type": "markdown",
   "metadata": {
    "id": "bZQE-n-mt4pS"
   },
   "source": [
    "## predicting the values for next week week 5"
   ]
  },
  {
   "cell_type": "markdown",
   "metadata": {
    "id": "mXPUK2Dnt_JO"
   },
   "source": [
    "we will use the values that are imputed with knn coz it has high accuray"
   ]
  },
  {
   "cell_type": "code",
   "execution_count": 64,
   "metadata": {
    "colab": {
     "base_uri": "https://localhost:8080/",
     "height": 206
    },
    "id": "afPOt_RutfIK",
    "outputId": "ff1a03d6-d9f5-4219-9fa0-ce4e45333e71"
   },
   "outputs": [
    {
     "data": {
      "text/html": [
       "<div>\n",
       "<style scoped>\n",
       "    .dataframe tbody tr th:only-of-type {\n",
       "        vertical-align: middle;\n",
       "    }\n",
       "\n",
       "    .dataframe tbody tr th {\n",
       "        vertical-align: top;\n",
       "    }\n",
       "\n",
       "    .dataframe thead th {\n",
       "        text-align: right;\n",
       "    }\n",
       "</style>\n",
       "<table border=\"1\" class=\"dataframe\">\n",
       "  <thead>\n",
       "    <tr style=\"text-align: right;\">\n",
       "      <th></th>\n",
       "      <th>Student</th>\n",
       "      <th>M1</th>\n",
       "      <th>T1</th>\n",
       "      <th>W1</th>\n",
       "      <th>TH1</th>\n",
       "      <th>F1</th>\n",
       "      <th>M2</th>\n",
       "      <th>T2</th>\n",
       "      <th>W2</th>\n",
       "      <th>TH2</th>\n",
       "      <th>F2</th>\n",
       "      <th>M3</th>\n",
       "      <th>T3</th>\n",
       "      <th>W3</th>\n",
       "      <th>TH3</th>\n",
       "      <th>F3</th>\n",
       "      <th>M4</th>\n",
       "      <th>T4</th>\n",
       "      <th>W4</th>\n",
       "      <th>TH4</th>\n",
       "      <th>F4</th>\n",
       "    </tr>\n",
       "  </thead>\n",
       "  <tbody>\n",
       "    <tr>\n",
       "      <th>0</th>\n",
       "      <td>1</td>\n",
       "      <td>4</td>\n",
       "      <td>5</td>\n",
       "      <td>5</td>\n",
       "      <td>6</td>\n",
       "      <td>7</td>\n",
       "      <td>1</td>\n",
       "      <td>2</td>\n",
       "      <td>3</td>\n",
       "      <td>4</td>\n",
       "      <td>5</td>\n",
       "      <td>3</td>\n",
       "      <td>4</td>\n",
       "      <td>5</td>\n",
       "      <td>6</td>\n",
       "      <td>7</td>\n",
       "      <td>4</td>\n",
       "      <td>5</td>\n",
       "      <td>6</td>\n",
       "      <td>7</td>\n",
       "      <td>7</td>\n",
       "    </tr>\n",
       "    <tr>\n",
       "      <th>1</th>\n",
       "      <td>2</td>\n",
       "      <td>1</td>\n",
       "      <td>2</td>\n",
       "      <td>3</td>\n",
       "      <td>4</td>\n",
       "      <td>5</td>\n",
       "      <td>5</td>\n",
       "      <td>5</td>\n",
       "      <td>6</td>\n",
       "      <td>6</td>\n",
       "      <td>7</td>\n",
       "      <td>3</td>\n",
       "      <td>4</td>\n",
       "      <td>5</td>\n",
       "      <td>6</td>\n",
       "      <td>7</td>\n",
       "      <td>6</td>\n",
       "      <td>6</td>\n",
       "      <td>7</td>\n",
       "      <td>7</td>\n",
       "      <td>7</td>\n",
       "    </tr>\n",
       "    <tr>\n",
       "      <th>2</th>\n",
       "      <td>3</td>\n",
       "      <td>3</td>\n",
       "      <td>4</td>\n",
       "      <td>5</td>\n",
       "      <td>6</td>\n",
       "      <td>7</td>\n",
       "      <td>2</td>\n",
       "      <td>3</td>\n",
       "      <td>4</td>\n",
       "      <td>5</td>\n",
       "      <td>6</td>\n",
       "      <td>5</td>\n",
       "      <td>6</td>\n",
       "      <td>6</td>\n",
       "      <td>7</td>\n",
       "      <td>7</td>\n",
       "      <td>2</td>\n",
       "      <td>3</td>\n",
       "      <td>4</td>\n",
       "      <td>5</td>\n",
       "      <td>6</td>\n",
       "    </tr>\n",
       "    <tr>\n",
       "      <th>3</th>\n",
       "      <td>4</td>\n",
       "      <td>1</td>\n",
       "      <td>2</td>\n",
       "      <td>3</td>\n",
       "      <td>4</td>\n",
       "      <td>5</td>\n",
       "      <td>1</td>\n",
       "      <td>2</td>\n",
       "      <td>3</td>\n",
       "      <td>4</td>\n",
       "      <td>5</td>\n",
       "      <td>1</td>\n",
       "      <td>2</td>\n",
       "      <td>3</td>\n",
       "      <td>4</td>\n",
       "      <td>5</td>\n",
       "      <td>4</td>\n",
       "      <td>5</td>\n",
       "      <td>6</td>\n",
       "      <td>7</td>\n",
       "      <td>7</td>\n",
       "    </tr>\n",
       "    <tr>\n",
       "      <th>4</th>\n",
       "      <td>5</td>\n",
       "      <td>2</td>\n",
       "      <td>3</td>\n",
       "      <td>4</td>\n",
       "      <td>5</td>\n",
       "      <td>6</td>\n",
       "      <td>5</td>\n",
       "      <td>5</td>\n",
       "      <td>6</td>\n",
       "      <td>6</td>\n",
       "      <td>7</td>\n",
       "      <td>5</td>\n",
       "      <td>6</td>\n",
       "      <td>6</td>\n",
       "      <td>7</td>\n",
       "      <td>7</td>\n",
       "      <td>4</td>\n",
       "      <td>5</td>\n",
       "      <td>6</td>\n",
       "      <td>7</td>\n",
       "      <td>7</td>\n",
       "    </tr>\n",
       "  </tbody>\n",
       "</table>\n",
       "</div>"
      ],
      "text/plain": [
       "   Student  M1  T1  W1  TH1  F1  M2  T2  ...  W3  TH3  F3  M4  T4  W4  TH4  F4\n",
       "0        1   4   5   5    6   7   1   2  ...   5    6   7   4   5   6    7   7\n",
       "1        2   1   2   3    4   5   5   5  ...   5    6   7   6   6   7    7   7\n",
       "2        3   3   4   5    6   7   2   3  ...   6    7   7   2   3   4    5   6\n",
       "3        4   1   2   3    4   5   1   2  ...   3    4   5   4   5   6    7   7\n",
       "4        5   2   3   4    5   6   5   5  ...   6    7   7   4   5   6    7   7\n",
       "\n",
       "[5 rows x 21 columns]"
      ]
     },
     "execution_count": 64,
     "metadata": {
      "tags": []
     },
     "output_type": "execute_result"
    }
   ],
   "source": [
    "data_imputed.head() #imputed with knn"
   ]
  },
  {
   "cell_type": "code",
   "execution_count": 73,
   "metadata": {
    "id": "XQTrrwIDtVr6"
   },
   "outputs": [],
   "source": [
    "dt = data_imputed.transpose()\n",
    "dt.to_csv(\"/content/drive/MyDrive/dowell/week4/week4_transpose.csv\")"
   ]
  },
  {
   "cell_type": "code",
   "execution_count": 83,
   "metadata": {
    "colab": {
     "base_uri": "https://localhost:8080/",
     "height": 256
    },
    "id": "lIu6LGeUxqGQ",
    "outputId": "d7b0c822-fc69-4f3b-ab8e-4412dd56e69b"
   },
   "outputs": [
    {
     "data": {
      "text/html": [
       "<div>\n",
       "<style scoped>\n",
       "    .dataframe tbody tr th:only-of-type {\n",
       "        vertical-align: middle;\n",
       "    }\n",
       "\n",
       "    .dataframe tbody tr th {\n",
       "        vertical-align: top;\n",
       "    }\n",
       "\n",
       "    .dataframe thead th {\n",
       "        text-align: right;\n",
       "    }\n",
       "</style>\n",
       "<table border=\"1\" class=\"dataframe\">\n",
       "  <thead>\n",
       "    <tr style=\"text-align: right;\">\n",
       "      <th></th>\n",
       "      <th>Days</th>\n",
       "      <th>1</th>\n",
       "      <th>2</th>\n",
       "      <th>3</th>\n",
       "      <th>4</th>\n",
       "      <th>5</th>\n",
       "      <th>6</th>\n",
       "      <th>7</th>\n",
       "      <th>8</th>\n",
       "      <th>9</th>\n",
       "      <th>10</th>\n",
       "      <th>11</th>\n",
       "      <th>12</th>\n",
       "      <th>13</th>\n",
       "      <th>14</th>\n",
       "      <th>15</th>\n",
       "      <th>16</th>\n",
       "      <th>17</th>\n",
       "      <th>18</th>\n",
       "      <th>19</th>\n",
       "      <th>20</th>\n",
       "      <th>21</th>\n",
       "      <th>22</th>\n",
       "      <th>23</th>\n",
       "      <th>24</th>\n",
       "      <th>25</th>\n",
       "      <th>26</th>\n",
       "      <th>27</th>\n",
       "      <th>28</th>\n",
       "      <th>29</th>\n",
       "      <th>30</th>\n",
       "      <th>31</th>\n",
       "      <th>32</th>\n",
       "      <th>33</th>\n",
       "      <th>34</th>\n",
       "      <th>35</th>\n",
       "      <th>36</th>\n",
       "      <th>37</th>\n",
       "      <th>38</th>\n",
       "      <th>39</th>\n",
       "      <th>...</th>\n",
       "      <th>961</th>\n",
       "      <th>962</th>\n",
       "      <th>963</th>\n",
       "      <th>964</th>\n",
       "      <th>965</th>\n",
       "      <th>966</th>\n",
       "      <th>967</th>\n",
       "      <th>968</th>\n",
       "      <th>969</th>\n",
       "      <th>970</th>\n",
       "      <th>971</th>\n",
       "      <th>972</th>\n",
       "      <th>973</th>\n",
       "      <th>974</th>\n",
       "      <th>975</th>\n",
       "      <th>976</th>\n",
       "      <th>977</th>\n",
       "      <th>978</th>\n",
       "      <th>979</th>\n",
       "      <th>980</th>\n",
       "      <th>981</th>\n",
       "      <th>982</th>\n",
       "      <th>983</th>\n",
       "      <th>984</th>\n",
       "      <th>985</th>\n",
       "      <th>986</th>\n",
       "      <th>987</th>\n",
       "      <th>988</th>\n",
       "      <th>989</th>\n",
       "      <th>990</th>\n",
       "      <th>991</th>\n",
       "      <th>992</th>\n",
       "      <th>993</th>\n",
       "      <th>994</th>\n",
       "      <th>995</th>\n",
       "      <th>996</th>\n",
       "      <th>997</th>\n",
       "      <th>998</th>\n",
       "      <th>999</th>\n",
       "      <th>1000</th>\n",
       "    </tr>\n",
       "  </thead>\n",
       "  <tbody>\n",
       "    <tr>\n",
       "      <th>0</th>\n",
       "      <td>M1</td>\n",
       "      <td>4</td>\n",
       "      <td>1</td>\n",
       "      <td>3</td>\n",
       "      <td>1</td>\n",
       "      <td>2</td>\n",
       "      <td>5</td>\n",
       "      <td>5</td>\n",
       "      <td>3</td>\n",
       "      <td>5</td>\n",
       "      <td>5</td>\n",
       "      <td>1</td>\n",
       "      <td>1</td>\n",
       "      <td>1</td>\n",
       "      <td>4</td>\n",
       "      <td>5</td>\n",
       "      <td>4</td>\n",
       "      <td>2</td>\n",
       "      <td>1</td>\n",
       "      <td>4</td>\n",
       "      <td>1</td>\n",
       "      <td>5</td>\n",
       "      <td>2</td>\n",
       "      <td>1</td>\n",
       "      <td>1</td>\n",
       "      <td>2</td>\n",
       "      <td>3</td>\n",
       "      <td>2</td>\n",
       "      <td>5</td>\n",
       "      <td>5</td>\n",
       "      <td>4</td>\n",
       "      <td>1</td>\n",
       "      <td>2</td>\n",
       "      <td>4</td>\n",
       "      <td>4</td>\n",
       "      <td>5</td>\n",
       "      <td>4</td>\n",
       "      <td>2</td>\n",
       "      <td>4</td>\n",
       "      <td>5</td>\n",
       "      <td>...</td>\n",
       "      <td>3</td>\n",
       "      <td>4</td>\n",
       "      <td>5</td>\n",
       "      <td>5</td>\n",
       "      <td>3</td>\n",
       "      <td>4</td>\n",
       "      <td>2</td>\n",
       "      <td>4</td>\n",
       "      <td>4</td>\n",
       "      <td>1</td>\n",
       "      <td>2</td>\n",
       "      <td>5</td>\n",
       "      <td>1</td>\n",
       "      <td>1</td>\n",
       "      <td>5</td>\n",
       "      <td>5</td>\n",
       "      <td>4</td>\n",
       "      <td>5</td>\n",
       "      <td>4</td>\n",
       "      <td>2</td>\n",
       "      <td>5</td>\n",
       "      <td>3</td>\n",
       "      <td>3</td>\n",
       "      <td>2</td>\n",
       "      <td>1</td>\n",
       "      <td>5</td>\n",
       "      <td>3</td>\n",
       "      <td>2</td>\n",
       "      <td>3</td>\n",
       "      <td>5</td>\n",
       "      <td>5</td>\n",
       "      <td>2</td>\n",
       "      <td>3</td>\n",
       "      <td>1</td>\n",
       "      <td>4</td>\n",
       "      <td>2</td>\n",
       "      <td>5</td>\n",
       "      <td>1</td>\n",
       "      <td>1</td>\n",
       "      <td>2</td>\n",
       "    </tr>\n",
       "    <tr>\n",
       "      <th>1</th>\n",
       "      <td>T1</td>\n",
       "      <td>5</td>\n",
       "      <td>2</td>\n",
       "      <td>4</td>\n",
       "      <td>2</td>\n",
       "      <td>3</td>\n",
       "      <td>5</td>\n",
       "      <td>5</td>\n",
       "      <td>4</td>\n",
       "      <td>5</td>\n",
       "      <td>5</td>\n",
       "      <td>2</td>\n",
       "      <td>2</td>\n",
       "      <td>2</td>\n",
       "      <td>5</td>\n",
       "      <td>5</td>\n",
       "      <td>5</td>\n",
       "      <td>3</td>\n",
       "      <td>2</td>\n",
       "      <td>5</td>\n",
       "      <td>2</td>\n",
       "      <td>5</td>\n",
       "      <td>3</td>\n",
       "      <td>2</td>\n",
       "      <td>2</td>\n",
       "      <td>3</td>\n",
       "      <td>4</td>\n",
       "      <td>3</td>\n",
       "      <td>5</td>\n",
       "      <td>5</td>\n",
       "      <td>5</td>\n",
       "      <td>2</td>\n",
       "      <td>3</td>\n",
       "      <td>5</td>\n",
       "      <td>5</td>\n",
       "      <td>5</td>\n",
       "      <td>5</td>\n",
       "      <td>3</td>\n",
       "      <td>5</td>\n",
       "      <td>5</td>\n",
       "      <td>...</td>\n",
       "      <td>4</td>\n",
       "      <td>5</td>\n",
       "      <td>5</td>\n",
       "      <td>5</td>\n",
       "      <td>3</td>\n",
       "      <td>4</td>\n",
       "      <td>3</td>\n",
       "      <td>5</td>\n",
       "      <td>4</td>\n",
       "      <td>2</td>\n",
       "      <td>2</td>\n",
       "      <td>5</td>\n",
       "      <td>1</td>\n",
       "      <td>1</td>\n",
       "      <td>5</td>\n",
       "      <td>5</td>\n",
       "      <td>5</td>\n",
       "      <td>5</td>\n",
       "      <td>5</td>\n",
       "      <td>3</td>\n",
       "      <td>5</td>\n",
       "      <td>4</td>\n",
       "      <td>3</td>\n",
       "      <td>3</td>\n",
       "      <td>1</td>\n",
       "      <td>5</td>\n",
       "      <td>3</td>\n",
       "      <td>2</td>\n",
       "      <td>4</td>\n",
       "      <td>5</td>\n",
       "      <td>5</td>\n",
       "      <td>3</td>\n",
       "      <td>3</td>\n",
       "      <td>1</td>\n",
       "      <td>4</td>\n",
       "      <td>3</td>\n",
       "      <td>5</td>\n",
       "      <td>1</td>\n",
       "      <td>1</td>\n",
       "      <td>2</td>\n",
       "    </tr>\n",
       "    <tr>\n",
       "      <th>2</th>\n",
       "      <td>W1</td>\n",
       "      <td>5</td>\n",
       "      <td>3</td>\n",
       "      <td>5</td>\n",
       "      <td>3</td>\n",
       "      <td>4</td>\n",
       "      <td>5</td>\n",
       "      <td>5</td>\n",
       "      <td>5</td>\n",
       "      <td>5</td>\n",
       "      <td>5</td>\n",
       "      <td>3</td>\n",
       "      <td>3</td>\n",
       "      <td>3</td>\n",
       "      <td>5</td>\n",
       "      <td>5</td>\n",
       "      <td>5</td>\n",
       "      <td>4</td>\n",
       "      <td>3</td>\n",
       "      <td>5</td>\n",
       "      <td>3</td>\n",
       "      <td>5</td>\n",
       "      <td>4</td>\n",
       "      <td>3</td>\n",
       "      <td>3</td>\n",
       "      <td>4</td>\n",
       "      <td>5</td>\n",
       "      <td>4</td>\n",
       "      <td>5</td>\n",
       "      <td>5</td>\n",
       "      <td>5</td>\n",
       "      <td>3</td>\n",
       "      <td>4</td>\n",
       "      <td>5</td>\n",
       "      <td>5</td>\n",
       "      <td>5</td>\n",
       "      <td>5</td>\n",
       "      <td>4</td>\n",
       "      <td>5</td>\n",
       "      <td>5</td>\n",
       "      <td>...</td>\n",
       "      <td>5</td>\n",
       "      <td>5</td>\n",
       "      <td>5</td>\n",
       "      <td>5</td>\n",
       "      <td>3</td>\n",
       "      <td>4</td>\n",
       "      <td>3</td>\n",
       "      <td>5</td>\n",
       "      <td>4</td>\n",
       "      <td>2</td>\n",
       "      <td>3</td>\n",
       "      <td>5</td>\n",
       "      <td>1</td>\n",
       "      <td>2</td>\n",
       "      <td>5</td>\n",
       "      <td>5</td>\n",
       "      <td>5</td>\n",
       "      <td>5</td>\n",
       "      <td>5</td>\n",
       "      <td>4</td>\n",
       "      <td>5</td>\n",
       "      <td>4</td>\n",
       "      <td>4</td>\n",
       "      <td>3</td>\n",
       "      <td>1</td>\n",
       "      <td>5</td>\n",
       "      <td>4</td>\n",
       "      <td>3</td>\n",
       "      <td>5</td>\n",
       "      <td>5</td>\n",
       "      <td>5</td>\n",
       "      <td>4</td>\n",
       "      <td>3</td>\n",
       "      <td>2</td>\n",
       "      <td>5</td>\n",
       "      <td>4</td>\n",
       "      <td>5</td>\n",
       "      <td>1</td>\n",
       "      <td>2</td>\n",
       "      <td>2</td>\n",
       "    </tr>\n",
       "    <tr>\n",
       "      <th>3</th>\n",
       "      <td>TH1</td>\n",
       "      <td>6</td>\n",
       "      <td>4</td>\n",
       "      <td>6</td>\n",
       "      <td>4</td>\n",
       "      <td>5</td>\n",
       "      <td>6</td>\n",
       "      <td>6</td>\n",
       "      <td>6</td>\n",
       "      <td>6</td>\n",
       "      <td>6</td>\n",
       "      <td>4</td>\n",
       "      <td>4</td>\n",
       "      <td>4</td>\n",
       "      <td>6</td>\n",
       "      <td>6</td>\n",
       "      <td>6</td>\n",
       "      <td>5</td>\n",
       "      <td>4</td>\n",
       "      <td>6</td>\n",
       "      <td>4</td>\n",
       "      <td>6</td>\n",
       "      <td>5</td>\n",
       "      <td>4</td>\n",
       "      <td>4</td>\n",
       "      <td>5</td>\n",
       "      <td>6</td>\n",
       "      <td>5</td>\n",
       "      <td>6</td>\n",
       "      <td>6</td>\n",
       "      <td>6</td>\n",
       "      <td>4</td>\n",
       "      <td>5</td>\n",
       "      <td>6</td>\n",
       "      <td>6</td>\n",
       "      <td>6</td>\n",
       "      <td>6</td>\n",
       "      <td>5</td>\n",
       "      <td>6</td>\n",
       "      <td>6</td>\n",
       "      <td>...</td>\n",
       "      <td>6</td>\n",
       "      <td>5</td>\n",
       "      <td>5</td>\n",
       "      <td>6</td>\n",
       "      <td>3</td>\n",
       "      <td>5</td>\n",
       "      <td>3</td>\n",
       "      <td>5</td>\n",
       "      <td>5</td>\n",
       "      <td>2</td>\n",
       "      <td>4</td>\n",
       "      <td>5</td>\n",
       "      <td>1</td>\n",
       "      <td>2</td>\n",
       "      <td>6</td>\n",
       "      <td>6</td>\n",
       "      <td>6</td>\n",
       "      <td>5</td>\n",
       "      <td>5</td>\n",
       "      <td>5</td>\n",
       "      <td>5</td>\n",
       "      <td>5</td>\n",
       "      <td>4</td>\n",
       "      <td>3</td>\n",
       "      <td>2</td>\n",
       "      <td>6</td>\n",
       "      <td>5</td>\n",
       "      <td>4</td>\n",
       "      <td>5</td>\n",
       "      <td>6</td>\n",
       "      <td>5</td>\n",
       "      <td>5</td>\n",
       "      <td>4</td>\n",
       "      <td>2</td>\n",
       "      <td>5</td>\n",
       "      <td>5</td>\n",
       "      <td>5</td>\n",
       "      <td>2</td>\n",
       "      <td>2</td>\n",
       "      <td>2</td>\n",
       "    </tr>\n",
       "    <tr>\n",
       "      <th>4</th>\n",
       "      <td>F1</td>\n",
       "      <td>7</td>\n",
       "      <td>5</td>\n",
       "      <td>7</td>\n",
       "      <td>5</td>\n",
       "      <td>6</td>\n",
       "      <td>7</td>\n",
       "      <td>7</td>\n",
       "      <td>7</td>\n",
       "      <td>7</td>\n",
       "      <td>7</td>\n",
       "      <td>5</td>\n",
       "      <td>5</td>\n",
       "      <td>5</td>\n",
       "      <td>7</td>\n",
       "      <td>7</td>\n",
       "      <td>7</td>\n",
       "      <td>6</td>\n",
       "      <td>5</td>\n",
       "      <td>7</td>\n",
       "      <td>5</td>\n",
       "      <td>7</td>\n",
       "      <td>6</td>\n",
       "      <td>5</td>\n",
       "      <td>5</td>\n",
       "      <td>6</td>\n",
       "      <td>7</td>\n",
       "      <td>6</td>\n",
       "      <td>7</td>\n",
       "      <td>7</td>\n",
       "      <td>7</td>\n",
       "      <td>5</td>\n",
       "      <td>6</td>\n",
       "      <td>7</td>\n",
       "      <td>7</td>\n",
       "      <td>7</td>\n",
       "      <td>7</td>\n",
       "      <td>6</td>\n",
       "      <td>7</td>\n",
       "      <td>7</td>\n",
       "      <td>...</td>\n",
       "      <td>6</td>\n",
       "      <td>5</td>\n",
       "      <td>5</td>\n",
       "      <td>7</td>\n",
       "      <td>3</td>\n",
       "      <td>5</td>\n",
       "      <td>3</td>\n",
       "      <td>5</td>\n",
       "      <td>5</td>\n",
       "      <td>3</td>\n",
       "      <td>5</td>\n",
       "      <td>7</td>\n",
       "      <td>2</td>\n",
       "      <td>3</td>\n",
       "      <td>6</td>\n",
       "      <td>6</td>\n",
       "      <td>6</td>\n",
       "      <td>5</td>\n",
       "      <td>7</td>\n",
       "      <td>5</td>\n",
       "      <td>5</td>\n",
       "      <td>5</td>\n",
       "      <td>5</td>\n",
       "      <td>4</td>\n",
       "      <td>3</td>\n",
       "      <td>6</td>\n",
       "      <td>5</td>\n",
       "      <td>4</td>\n",
       "      <td>6</td>\n",
       "      <td>7</td>\n",
       "      <td>5</td>\n",
       "      <td>5</td>\n",
       "      <td>5</td>\n",
       "      <td>2</td>\n",
       "      <td>6</td>\n",
       "      <td>5</td>\n",
       "      <td>7</td>\n",
       "      <td>3</td>\n",
       "      <td>3</td>\n",
       "      <td>3</td>\n",
       "    </tr>\n",
       "  </tbody>\n",
       "</table>\n",
       "<p>5 rows × 1001 columns</p>\n",
       "</div>"
      ],
      "text/plain": [
       "  Days  1  2  3  4  5  6  7  8  ...  992  993  994  995  996  997  998  999  1000\n",
       "0   M1  4  1  3  1  2  5  5  3  ...    2    3    1    4    2    5    1    1     2\n",
       "1   T1  5  2  4  2  3  5  5  4  ...    3    3    1    4    3    5    1    1     2\n",
       "2   W1  5  3  5  3  4  5  5  5  ...    4    3    2    5    4    5    1    2     2\n",
       "3  TH1  6  4  6  4  5  6  6  6  ...    5    4    2    5    5    5    2    2     2\n",
       "4   F1  7  5  7  5  6  7  7  7  ...    5    5    2    6    5    7    3    3     3\n",
       "\n",
       "[5 rows x 1001 columns]"
      ]
     },
     "execution_count": 83,
     "metadata": {
      "tags": []
     },
     "output_type": "execute_result"
    }
   ],
   "source": [
    "data = pd.read_csv(\"/content/drive/MyDrive/dowell/week4/week4_transpose.csv\", header =1)\n",
    "data =data.rename(columns = {\"Student\":\"Days\"})\n",
    "data.head()"
   ]
  },
  {
   "cell_type": "code",
   "execution_count": 84,
   "metadata": {
    "id": "giOpBF9nyGi3"
   },
   "outputs": [],
   "source": [
    "cols = data.columns[1:1001]\n"
   ]
  },
  {
   "cell_type": "code",
   "execution_count": 85,
   "metadata": {
    "colab": {
     "base_uri": "https://localhost:8080/",
     "height": 256
    },
    "id": "CeZqiIIDyxVj",
    "outputId": "324f7881-de81-444e-c96f-8f025c352a4e"
   },
   "outputs": [
    {
     "data": {
      "text/html": [
       "<div>\n",
       "<style scoped>\n",
       "    .dataframe tbody tr th:only-of-type {\n",
       "        vertical-align: middle;\n",
       "    }\n",
       "\n",
       "    .dataframe tbody tr th {\n",
       "        vertical-align: top;\n",
       "    }\n",
       "\n",
       "    .dataframe thead th {\n",
       "        text-align: right;\n",
       "    }\n",
       "</style>\n",
       "<table border=\"1\" class=\"dataframe\">\n",
       "  <thead>\n",
       "    <tr style=\"text-align: right;\">\n",
       "      <th></th>\n",
       "      <th>1</th>\n",
       "      <th>2</th>\n",
       "      <th>3</th>\n",
       "      <th>4</th>\n",
       "      <th>5</th>\n",
       "      <th>6</th>\n",
       "      <th>7</th>\n",
       "      <th>8</th>\n",
       "      <th>9</th>\n",
       "      <th>10</th>\n",
       "      <th>11</th>\n",
       "      <th>12</th>\n",
       "      <th>13</th>\n",
       "      <th>14</th>\n",
       "      <th>15</th>\n",
       "      <th>16</th>\n",
       "      <th>17</th>\n",
       "      <th>18</th>\n",
       "      <th>19</th>\n",
       "      <th>20</th>\n",
       "      <th>21</th>\n",
       "      <th>22</th>\n",
       "      <th>23</th>\n",
       "      <th>24</th>\n",
       "      <th>25</th>\n",
       "      <th>26</th>\n",
       "      <th>27</th>\n",
       "      <th>28</th>\n",
       "      <th>29</th>\n",
       "      <th>30</th>\n",
       "      <th>31</th>\n",
       "      <th>32</th>\n",
       "      <th>33</th>\n",
       "      <th>34</th>\n",
       "      <th>35</th>\n",
       "      <th>36</th>\n",
       "      <th>37</th>\n",
       "      <th>38</th>\n",
       "      <th>39</th>\n",
       "      <th>40</th>\n",
       "      <th>...</th>\n",
       "      <th>961</th>\n",
       "      <th>962</th>\n",
       "      <th>963</th>\n",
       "      <th>964</th>\n",
       "      <th>965</th>\n",
       "      <th>966</th>\n",
       "      <th>967</th>\n",
       "      <th>968</th>\n",
       "      <th>969</th>\n",
       "      <th>970</th>\n",
       "      <th>971</th>\n",
       "      <th>972</th>\n",
       "      <th>973</th>\n",
       "      <th>974</th>\n",
       "      <th>975</th>\n",
       "      <th>976</th>\n",
       "      <th>977</th>\n",
       "      <th>978</th>\n",
       "      <th>979</th>\n",
       "      <th>980</th>\n",
       "      <th>981</th>\n",
       "      <th>982</th>\n",
       "      <th>983</th>\n",
       "      <th>984</th>\n",
       "      <th>985</th>\n",
       "      <th>986</th>\n",
       "      <th>987</th>\n",
       "      <th>988</th>\n",
       "      <th>989</th>\n",
       "      <th>990</th>\n",
       "      <th>991</th>\n",
       "      <th>992</th>\n",
       "      <th>993</th>\n",
       "      <th>994</th>\n",
       "      <th>995</th>\n",
       "      <th>996</th>\n",
       "      <th>997</th>\n",
       "      <th>998</th>\n",
       "      <th>999</th>\n",
       "      <th>1000</th>\n",
       "    </tr>\n",
       "  </thead>\n",
       "  <tbody>\n",
       "    <tr>\n",
       "      <th>0</th>\n",
       "      <td>4</td>\n",
       "      <td>1</td>\n",
       "      <td>3</td>\n",
       "      <td>1</td>\n",
       "      <td>2</td>\n",
       "      <td>5</td>\n",
       "      <td>5</td>\n",
       "      <td>3</td>\n",
       "      <td>5</td>\n",
       "      <td>5</td>\n",
       "      <td>1</td>\n",
       "      <td>1</td>\n",
       "      <td>1</td>\n",
       "      <td>4</td>\n",
       "      <td>5</td>\n",
       "      <td>4</td>\n",
       "      <td>2</td>\n",
       "      <td>1</td>\n",
       "      <td>4</td>\n",
       "      <td>1</td>\n",
       "      <td>5</td>\n",
       "      <td>2</td>\n",
       "      <td>1</td>\n",
       "      <td>1</td>\n",
       "      <td>2</td>\n",
       "      <td>3</td>\n",
       "      <td>2</td>\n",
       "      <td>5</td>\n",
       "      <td>5</td>\n",
       "      <td>4</td>\n",
       "      <td>1</td>\n",
       "      <td>2</td>\n",
       "      <td>4</td>\n",
       "      <td>4</td>\n",
       "      <td>5</td>\n",
       "      <td>4</td>\n",
       "      <td>2</td>\n",
       "      <td>4</td>\n",
       "      <td>5</td>\n",
       "      <td>4</td>\n",
       "      <td>...</td>\n",
       "      <td>3</td>\n",
       "      <td>4</td>\n",
       "      <td>5</td>\n",
       "      <td>5</td>\n",
       "      <td>3</td>\n",
       "      <td>4</td>\n",
       "      <td>2</td>\n",
       "      <td>4</td>\n",
       "      <td>4</td>\n",
       "      <td>1</td>\n",
       "      <td>2</td>\n",
       "      <td>5</td>\n",
       "      <td>1</td>\n",
       "      <td>1</td>\n",
       "      <td>5</td>\n",
       "      <td>5</td>\n",
       "      <td>4</td>\n",
       "      <td>5</td>\n",
       "      <td>4</td>\n",
       "      <td>2</td>\n",
       "      <td>5</td>\n",
       "      <td>3</td>\n",
       "      <td>3</td>\n",
       "      <td>2</td>\n",
       "      <td>1</td>\n",
       "      <td>5</td>\n",
       "      <td>3</td>\n",
       "      <td>2</td>\n",
       "      <td>3</td>\n",
       "      <td>5</td>\n",
       "      <td>5</td>\n",
       "      <td>2</td>\n",
       "      <td>3</td>\n",
       "      <td>1</td>\n",
       "      <td>4</td>\n",
       "      <td>2</td>\n",
       "      <td>5</td>\n",
       "      <td>1</td>\n",
       "      <td>1</td>\n",
       "      <td>2</td>\n",
       "    </tr>\n",
       "    <tr>\n",
       "      <th>1</th>\n",
       "      <td>5</td>\n",
       "      <td>2</td>\n",
       "      <td>4</td>\n",
       "      <td>2</td>\n",
       "      <td>3</td>\n",
       "      <td>5</td>\n",
       "      <td>5</td>\n",
       "      <td>4</td>\n",
       "      <td>5</td>\n",
       "      <td>5</td>\n",
       "      <td>2</td>\n",
       "      <td>2</td>\n",
       "      <td>2</td>\n",
       "      <td>5</td>\n",
       "      <td>5</td>\n",
       "      <td>5</td>\n",
       "      <td>3</td>\n",
       "      <td>2</td>\n",
       "      <td>5</td>\n",
       "      <td>2</td>\n",
       "      <td>5</td>\n",
       "      <td>3</td>\n",
       "      <td>2</td>\n",
       "      <td>2</td>\n",
       "      <td>3</td>\n",
       "      <td>4</td>\n",
       "      <td>3</td>\n",
       "      <td>5</td>\n",
       "      <td>5</td>\n",
       "      <td>5</td>\n",
       "      <td>2</td>\n",
       "      <td>3</td>\n",
       "      <td>5</td>\n",
       "      <td>5</td>\n",
       "      <td>5</td>\n",
       "      <td>5</td>\n",
       "      <td>3</td>\n",
       "      <td>5</td>\n",
       "      <td>5</td>\n",
       "      <td>5</td>\n",
       "      <td>...</td>\n",
       "      <td>4</td>\n",
       "      <td>5</td>\n",
       "      <td>5</td>\n",
       "      <td>5</td>\n",
       "      <td>3</td>\n",
       "      <td>4</td>\n",
       "      <td>3</td>\n",
       "      <td>5</td>\n",
       "      <td>4</td>\n",
       "      <td>2</td>\n",
       "      <td>2</td>\n",
       "      <td>5</td>\n",
       "      <td>1</td>\n",
       "      <td>1</td>\n",
       "      <td>5</td>\n",
       "      <td>5</td>\n",
       "      <td>5</td>\n",
       "      <td>5</td>\n",
       "      <td>5</td>\n",
       "      <td>3</td>\n",
       "      <td>5</td>\n",
       "      <td>4</td>\n",
       "      <td>3</td>\n",
       "      <td>3</td>\n",
       "      <td>1</td>\n",
       "      <td>5</td>\n",
       "      <td>3</td>\n",
       "      <td>2</td>\n",
       "      <td>4</td>\n",
       "      <td>5</td>\n",
       "      <td>5</td>\n",
       "      <td>3</td>\n",
       "      <td>3</td>\n",
       "      <td>1</td>\n",
       "      <td>4</td>\n",
       "      <td>3</td>\n",
       "      <td>5</td>\n",
       "      <td>1</td>\n",
       "      <td>1</td>\n",
       "      <td>2</td>\n",
       "    </tr>\n",
       "    <tr>\n",
       "      <th>2</th>\n",
       "      <td>5</td>\n",
       "      <td>3</td>\n",
       "      <td>5</td>\n",
       "      <td>3</td>\n",
       "      <td>4</td>\n",
       "      <td>5</td>\n",
       "      <td>5</td>\n",
       "      <td>5</td>\n",
       "      <td>5</td>\n",
       "      <td>5</td>\n",
       "      <td>3</td>\n",
       "      <td>3</td>\n",
       "      <td>3</td>\n",
       "      <td>5</td>\n",
       "      <td>5</td>\n",
       "      <td>5</td>\n",
       "      <td>4</td>\n",
       "      <td>3</td>\n",
       "      <td>5</td>\n",
       "      <td>3</td>\n",
       "      <td>5</td>\n",
       "      <td>4</td>\n",
       "      <td>3</td>\n",
       "      <td>3</td>\n",
       "      <td>4</td>\n",
       "      <td>5</td>\n",
       "      <td>4</td>\n",
       "      <td>5</td>\n",
       "      <td>5</td>\n",
       "      <td>5</td>\n",
       "      <td>3</td>\n",
       "      <td>4</td>\n",
       "      <td>5</td>\n",
       "      <td>5</td>\n",
       "      <td>5</td>\n",
       "      <td>5</td>\n",
       "      <td>4</td>\n",
       "      <td>5</td>\n",
       "      <td>5</td>\n",
       "      <td>5</td>\n",
       "      <td>...</td>\n",
       "      <td>5</td>\n",
       "      <td>5</td>\n",
       "      <td>5</td>\n",
       "      <td>5</td>\n",
       "      <td>3</td>\n",
       "      <td>4</td>\n",
       "      <td>3</td>\n",
       "      <td>5</td>\n",
       "      <td>4</td>\n",
       "      <td>2</td>\n",
       "      <td>3</td>\n",
       "      <td>5</td>\n",
       "      <td>1</td>\n",
       "      <td>2</td>\n",
       "      <td>5</td>\n",
       "      <td>5</td>\n",
       "      <td>5</td>\n",
       "      <td>5</td>\n",
       "      <td>5</td>\n",
       "      <td>4</td>\n",
       "      <td>5</td>\n",
       "      <td>4</td>\n",
       "      <td>4</td>\n",
       "      <td>3</td>\n",
       "      <td>1</td>\n",
       "      <td>5</td>\n",
       "      <td>4</td>\n",
       "      <td>3</td>\n",
       "      <td>5</td>\n",
       "      <td>5</td>\n",
       "      <td>5</td>\n",
       "      <td>4</td>\n",
       "      <td>3</td>\n",
       "      <td>2</td>\n",
       "      <td>5</td>\n",
       "      <td>4</td>\n",
       "      <td>5</td>\n",
       "      <td>1</td>\n",
       "      <td>2</td>\n",
       "      <td>2</td>\n",
       "    </tr>\n",
       "    <tr>\n",
       "      <th>3</th>\n",
       "      <td>6</td>\n",
       "      <td>4</td>\n",
       "      <td>6</td>\n",
       "      <td>4</td>\n",
       "      <td>5</td>\n",
       "      <td>6</td>\n",
       "      <td>6</td>\n",
       "      <td>6</td>\n",
       "      <td>6</td>\n",
       "      <td>6</td>\n",
       "      <td>4</td>\n",
       "      <td>4</td>\n",
       "      <td>4</td>\n",
       "      <td>6</td>\n",
       "      <td>6</td>\n",
       "      <td>6</td>\n",
       "      <td>5</td>\n",
       "      <td>4</td>\n",
       "      <td>6</td>\n",
       "      <td>4</td>\n",
       "      <td>6</td>\n",
       "      <td>5</td>\n",
       "      <td>4</td>\n",
       "      <td>4</td>\n",
       "      <td>5</td>\n",
       "      <td>6</td>\n",
       "      <td>5</td>\n",
       "      <td>6</td>\n",
       "      <td>6</td>\n",
       "      <td>6</td>\n",
       "      <td>4</td>\n",
       "      <td>5</td>\n",
       "      <td>6</td>\n",
       "      <td>6</td>\n",
       "      <td>6</td>\n",
       "      <td>6</td>\n",
       "      <td>5</td>\n",
       "      <td>6</td>\n",
       "      <td>6</td>\n",
       "      <td>6</td>\n",
       "      <td>...</td>\n",
       "      <td>6</td>\n",
       "      <td>5</td>\n",
       "      <td>5</td>\n",
       "      <td>6</td>\n",
       "      <td>3</td>\n",
       "      <td>5</td>\n",
       "      <td>3</td>\n",
       "      <td>5</td>\n",
       "      <td>5</td>\n",
       "      <td>2</td>\n",
       "      <td>4</td>\n",
       "      <td>5</td>\n",
       "      <td>1</td>\n",
       "      <td>2</td>\n",
       "      <td>6</td>\n",
       "      <td>6</td>\n",
       "      <td>6</td>\n",
       "      <td>5</td>\n",
       "      <td>5</td>\n",
       "      <td>5</td>\n",
       "      <td>5</td>\n",
       "      <td>5</td>\n",
       "      <td>4</td>\n",
       "      <td>3</td>\n",
       "      <td>2</td>\n",
       "      <td>6</td>\n",
       "      <td>5</td>\n",
       "      <td>4</td>\n",
       "      <td>5</td>\n",
       "      <td>6</td>\n",
       "      <td>5</td>\n",
       "      <td>5</td>\n",
       "      <td>4</td>\n",
       "      <td>2</td>\n",
       "      <td>5</td>\n",
       "      <td>5</td>\n",
       "      <td>5</td>\n",
       "      <td>2</td>\n",
       "      <td>2</td>\n",
       "      <td>2</td>\n",
       "    </tr>\n",
       "    <tr>\n",
       "      <th>4</th>\n",
       "      <td>7</td>\n",
       "      <td>5</td>\n",
       "      <td>7</td>\n",
       "      <td>5</td>\n",
       "      <td>6</td>\n",
       "      <td>7</td>\n",
       "      <td>7</td>\n",
       "      <td>7</td>\n",
       "      <td>7</td>\n",
       "      <td>7</td>\n",
       "      <td>5</td>\n",
       "      <td>5</td>\n",
       "      <td>5</td>\n",
       "      <td>7</td>\n",
       "      <td>7</td>\n",
       "      <td>7</td>\n",
       "      <td>6</td>\n",
       "      <td>5</td>\n",
       "      <td>7</td>\n",
       "      <td>5</td>\n",
       "      <td>7</td>\n",
       "      <td>6</td>\n",
       "      <td>5</td>\n",
       "      <td>5</td>\n",
       "      <td>6</td>\n",
       "      <td>7</td>\n",
       "      <td>6</td>\n",
       "      <td>7</td>\n",
       "      <td>7</td>\n",
       "      <td>7</td>\n",
       "      <td>5</td>\n",
       "      <td>6</td>\n",
       "      <td>7</td>\n",
       "      <td>7</td>\n",
       "      <td>7</td>\n",
       "      <td>7</td>\n",
       "      <td>6</td>\n",
       "      <td>7</td>\n",
       "      <td>7</td>\n",
       "      <td>7</td>\n",
       "      <td>...</td>\n",
       "      <td>6</td>\n",
       "      <td>5</td>\n",
       "      <td>5</td>\n",
       "      <td>7</td>\n",
       "      <td>3</td>\n",
       "      <td>5</td>\n",
       "      <td>3</td>\n",
       "      <td>5</td>\n",
       "      <td>5</td>\n",
       "      <td>3</td>\n",
       "      <td>5</td>\n",
       "      <td>7</td>\n",
       "      <td>2</td>\n",
       "      <td>3</td>\n",
       "      <td>6</td>\n",
       "      <td>6</td>\n",
       "      <td>6</td>\n",
       "      <td>5</td>\n",
       "      <td>7</td>\n",
       "      <td>5</td>\n",
       "      <td>5</td>\n",
       "      <td>5</td>\n",
       "      <td>5</td>\n",
       "      <td>4</td>\n",
       "      <td>3</td>\n",
       "      <td>6</td>\n",
       "      <td>5</td>\n",
       "      <td>4</td>\n",
       "      <td>6</td>\n",
       "      <td>7</td>\n",
       "      <td>5</td>\n",
       "      <td>5</td>\n",
       "      <td>5</td>\n",
       "      <td>2</td>\n",
       "      <td>6</td>\n",
       "      <td>5</td>\n",
       "      <td>7</td>\n",
       "      <td>3</td>\n",
       "      <td>3</td>\n",
       "      <td>3</td>\n",
       "    </tr>\n",
       "  </tbody>\n",
       "</table>\n",
       "<p>5 rows × 1000 columns</p>\n",
       "</div>"
      ],
      "text/plain": [
       "   1  2  3  4  5  6  7  8  9  ...  992  993  994  995  996  997  998  999  1000\n",
       "0  4  1  3  1  2  5  5  3  5  ...    2    3    1    4    2    5    1    1     2\n",
       "1  5  2  4  2  3  5  5  4  5  ...    3    3    1    4    3    5    1    1     2\n",
       "2  5  3  5  3  4  5  5  5  5  ...    4    3    2    5    4    5    1    2     2\n",
       "3  6  4  6  4  5  6  6  6  6  ...    5    4    2    5    5    5    2    2     2\n",
       "4  7  5  7  5  6  7  7  7  7  ...    5    5    2    6    5    7    3    3     3\n",
       "\n",
       "[5 rows x 1000 columns]"
      ]
     },
     "execution_count": 85,
     "metadata": {
      "tags": []
     },
     "output_type": "execute_result"
    }
   ],
   "source": [
    "df = data.drop(\"Days\",axis = 1)\n",
    "df.head()"
   ]
  },
  {
   "cell_type": "code",
   "execution_count": 86,
   "metadata": {
    "id": "01eI5Z1tyzx-"
   },
   "outputs": [],
   "source": [
    "df.index = data[\"Days\"]"
   ]
  },
  {
   "cell_type": "code",
   "execution_count": 87,
   "metadata": {
    "id": "5XiLDwE8zdt3"
   },
   "outputs": [],
   "source": [
    "data_v = df.values"
   ]
  },
  {
   "cell_type": "code",
   "execution_count": 92,
   "metadata": {
    "id": "iVKw2m_UztSY"
   },
   "outputs": [],
   "source": [
    "#creating the train and validation set\n",
    "train = data_v[:15]\n",
    "valid = data_v[15:]"
   ]
  },
  {
   "cell_type": "code",
   "execution_count": 93,
   "metadata": {
    "id": "Az53Vf0IzsME"
   },
   "outputs": [],
   "source": [
    "#fit the model\n",
    "from statsmodels.tsa.vector_ar.var_model import VAR\n",
    "import warnings\n",
    "warnings.filterwarnings('ignore')\n",
    "\n",
    "model = VAR(endog=train )\n",
    "model_fit = model.fit(trend='nc')"
   ]
  },
  {
   "cell_type": "code",
   "execution_count": 94,
   "metadata": {
    "id": "f7D4hGFtz9nU"
   },
   "outputs": [],
   "source": [
    "# make prediction on validation\n",
    "prediction = model_fit.forecast(model_fit.y, steps=len(valid))"
   ]
  },
  {
   "cell_type": "code",
   "execution_count": 95,
   "metadata": {
    "id": "sC4CF5NL0AmK"
   },
   "outputs": [],
   "source": [
    "#converting predictions to dataframe\n",
    "pred = pd.DataFrame(index=range(0,len(prediction)),columns=[cols])\n",
    "for j in range(0,1000):\n",
    "    for i in range(0, len(prediction)):\n",
    "       pred.iloc[i][j] = prediction[i][j]"
   ]
  },
  {
   "cell_type": "code",
   "execution_count": 97,
   "metadata": {
    "colab": {
     "base_uri": "https://localhost:8080/"
    },
    "id": "klkMPH5M0Dd8",
    "outputId": "c50fed49-7b6c-429b-94ce-0d379691e532"
   },
   "outputs": [
    {
     "name": "stdout",
     "output_type": "stream",
     "text": [
      "[[6.63077675 6.84128788 5.85347812 ... 4.68394715 4.46646896 2.17889325]\n",
      " [6.28779419 6.22105736 6.19252846 ... 4.65826689 4.66689044 2.0954876 ]\n",
      " [5.65465042 5.98766059 6.20162097 ... 4.51925181 4.69269497 2.28124296]\n",
      " [5.1520134  5.32490111 5.93957356 ... 4.19839016 4.74082516 2.05146797]\n",
      " [4.96124292 5.34170865 6.04669063 ... 4.24809998 4.96813822 2.1607557 ]]\n"
     ]
    }
   ],
   "source": [
    "#make final predictions\n",
    "model = VAR(endog=data_v)\n",
    "model_fit = model.fit()\n",
    "yhat = model_fit.forecast(model_fit.y, steps=5)\n",
    "print(yhat)"
   ]
  },
  {
   "cell_type": "code",
   "execution_count": 98,
   "metadata": {
    "id": "3WCELqNB0Gmn"
   },
   "outputs": [],
   "source": [
    "predicted_data = pd.DataFrame(yhat)"
   ]
  },
  {
   "cell_type": "code",
   "execution_count": 99,
   "metadata": {
    "colab": {
     "base_uri": "https://localhost:8080/",
     "height": 256
    },
    "id": "ChgnxhPk0TSQ",
    "outputId": "1a9de59d-455b-441f-fb6e-eda2544678eb"
   },
   "outputs": [
    {
     "data": {
      "text/html": [
       "<div>\n",
       "<style scoped>\n",
       "    .dataframe tbody tr th:only-of-type {\n",
       "        vertical-align: middle;\n",
       "    }\n",
       "\n",
       "    .dataframe tbody tr th {\n",
       "        vertical-align: top;\n",
       "    }\n",
       "\n",
       "    .dataframe thead th {\n",
       "        text-align: right;\n",
       "    }\n",
       "</style>\n",
       "<table border=\"1\" class=\"dataframe\">\n",
       "  <thead>\n",
       "    <tr style=\"text-align: right;\">\n",
       "      <th></th>\n",
       "      <th>0</th>\n",
       "      <th>1</th>\n",
       "      <th>2</th>\n",
       "      <th>3</th>\n",
       "      <th>4</th>\n",
       "      <th>5</th>\n",
       "      <th>6</th>\n",
       "      <th>7</th>\n",
       "      <th>8</th>\n",
       "      <th>9</th>\n",
       "      <th>10</th>\n",
       "      <th>11</th>\n",
       "      <th>12</th>\n",
       "      <th>13</th>\n",
       "      <th>14</th>\n",
       "      <th>15</th>\n",
       "      <th>16</th>\n",
       "      <th>17</th>\n",
       "      <th>18</th>\n",
       "      <th>19</th>\n",
       "      <th>20</th>\n",
       "      <th>21</th>\n",
       "      <th>22</th>\n",
       "      <th>23</th>\n",
       "      <th>24</th>\n",
       "      <th>25</th>\n",
       "      <th>26</th>\n",
       "      <th>27</th>\n",
       "      <th>28</th>\n",
       "      <th>29</th>\n",
       "      <th>30</th>\n",
       "      <th>31</th>\n",
       "      <th>32</th>\n",
       "      <th>33</th>\n",
       "      <th>34</th>\n",
       "      <th>35</th>\n",
       "      <th>36</th>\n",
       "      <th>37</th>\n",
       "      <th>38</th>\n",
       "      <th>39</th>\n",
       "      <th>...</th>\n",
       "      <th>960</th>\n",
       "      <th>961</th>\n",
       "      <th>962</th>\n",
       "      <th>963</th>\n",
       "      <th>964</th>\n",
       "      <th>965</th>\n",
       "      <th>966</th>\n",
       "      <th>967</th>\n",
       "      <th>968</th>\n",
       "      <th>969</th>\n",
       "      <th>970</th>\n",
       "      <th>971</th>\n",
       "      <th>972</th>\n",
       "      <th>973</th>\n",
       "      <th>974</th>\n",
       "      <th>975</th>\n",
       "      <th>976</th>\n",
       "      <th>977</th>\n",
       "      <th>978</th>\n",
       "      <th>979</th>\n",
       "      <th>980</th>\n",
       "      <th>981</th>\n",
       "      <th>982</th>\n",
       "      <th>983</th>\n",
       "      <th>984</th>\n",
       "      <th>985</th>\n",
       "      <th>986</th>\n",
       "      <th>987</th>\n",
       "      <th>988</th>\n",
       "      <th>989</th>\n",
       "      <th>990</th>\n",
       "      <th>991</th>\n",
       "      <th>992</th>\n",
       "      <th>993</th>\n",
       "      <th>994</th>\n",
       "      <th>995</th>\n",
       "      <th>996</th>\n",
       "      <th>997</th>\n",
       "      <th>998</th>\n",
       "      <th>999</th>\n",
       "    </tr>\n",
       "  </thead>\n",
       "  <tbody>\n",
       "    <tr>\n",
       "      <th>0</th>\n",
       "      <td>6.630777</td>\n",
       "      <td>6.841288</td>\n",
       "      <td>5.853478</td>\n",
       "      <td>6.693048</td>\n",
       "      <td>6.856077</td>\n",
       "      <td>5.309874</td>\n",
       "      <td>5.288164</td>\n",
       "      <td>6.994044</td>\n",
       "      <td>6.708503</td>\n",
       "      <td>5.167910</td>\n",
       "      <td>5.648393</td>\n",
       "      <td>5.918327</td>\n",
       "      <td>6.038581</td>\n",
       "      <td>5.288164</td>\n",
       "      <td>6.923060</td>\n",
       "      <td>6.693267</td>\n",
       "      <td>5.889633</td>\n",
       "      <td>6.941272</td>\n",
       "      <td>6.613677</td>\n",
       "      <td>5.072501</td>\n",
       "      <td>6.901651</td>\n",
       "      <td>6.958708</td>\n",
       "      <td>6.340613</td>\n",
       "      <td>5.152615</td>\n",
       "      <td>6.703123</td>\n",
       "      <td>6.545698</td>\n",
       "      <td>6.703123</td>\n",
       "      <td>5.174907</td>\n",
       "      <td>6.881381</td>\n",
       "      <td>4.959826</td>\n",
       "      <td>4.782033</td>\n",
       "      <td>6.662706</td>\n",
       "      <td>6.630777</td>\n",
       "      <td>6.746149</td>\n",
       "      <td>6.988461</td>\n",
       "      <td>6.900710</td>\n",
       "      <td>6.880974</td>\n",
       "      <td>6.984012</td>\n",
       "      <td>6.115104</td>\n",
       "      <td>6.984012</td>\n",
       "      <td>...</td>\n",
       "      <td>6.215366</td>\n",
       "      <td>3.671657</td>\n",
       "      <td>1.030785</td>\n",
       "      <td>6.079174</td>\n",
       "      <td>5.511758</td>\n",
       "      <td>5.905691</td>\n",
       "      <td>4.175517</td>\n",
       "      <td>3.560780</td>\n",
       "      <td>3.700643</td>\n",
       "      <td>3.621042</td>\n",
       "      <td>7.059486</td>\n",
       "      <td>2.968069</td>\n",
       "      <td>3.530401</td>\n",
       "      <td>4.634912</td>\n",
       "      <td>5.123645</td>\n",
       "      <td>6.121861</td>\n",
       "      <td>6.915481</td>\n",
       "      <td>4.003689</td>\n",
       "      <td>5.773544</td>\n",
       "      <td>4.213068</td>\n",
       "      <td>6.670588</td>\n",
       "      <td>6.444180</td>\n",
       "      <td>2.305742</td>\n",
       "      <td>4.014223</td>\n",
       "      <td>3.687595</td>\n",
       "      <td>6.780961</td>\n",
       "      <td>4.221390</td>\n",
       "      <td>4.016185</td>\n",
       "      <td>2.891827</td>\n",
       "      <td>5.128722</td>\n",
       "      <td>6.650235</td>\n",
       "      <td>4.580986</td>\n",
       "      <td>5.935320</td>\n",
       "      <td>4.914624</td>\n",
       "      <td>6.277244</td>\n",
       "      <td>6.616280</td>\n",
       "      <td>7.170594</td>\n",
       "      <td>4.683947</td>\n",
       "      <td>4.466469</td>\n",
       "      <td>2.178893</td>\n",
       "    </tr>\n",
       "    <tr>\n",
       "      <th>1</th>\n",
       "      <td>6.287794</td>\n",
       "      <td>6.221057</td>\n",
       "      <td>6.192528</td>\n",
       "      <td>6.043805</td>\n",
       "      <td>6.694147</td>\n",
       "      <td>5.354503</td>\n",
       "      <td>5.372671</td>\n",
       "      <td>7.012869</td>\n",
       "      <td>6.598826</td>\n",
       "      <td>5.624520</td>\n",
       "      <td>5.878728</td>\n",
       "      <td>6.176628</td>\n",
       "      <td>5.924779</td>\n",
       "      <td>5.372671</td>\n",
       "      <td>7.104491</td>\n",
       "      <td>6.580821</td>\n",
       "      <td>5.585307</td>\n",
       "      <td>6.359873</td>\n",
       "      <td>6.224106</td>\n",
       "      <td>5.183863</td>\n",
       "      <td>6.389836</td>\n",
       "      <td>6.761403</td>\n",
       "      <td>6.109094</td>\n",
       "      <td>5.157785</td>\n",
       "      <td>6.496378</td>\n",
       "      <td>6.422894</td>\n",
       "      <td>6.496378</td>\n",
       "      <td>5.205553</td>\n",
       "      <td>6.780501</td>\n",
       "      <td>5.082682</td>\n",
       "      <td>5.085968</td>\n",
       "      <td>6.553107</td>\n",
       "      <td>6.287794</td>\n",
       "      <td>6.440891</td>\n",
       "      <td>6.677614</td>\n",
       "      <td>6.585694</td>\n",
       "      <td>6.964120</td>\n",
       "      <td>6.847756</td>\n",
       "      <td>6.303821</td>\n",
       "      <td>6.847756</td>\n",
       "      <td>...</td>\n",
       "      <td>5.742225</td>\n",
       "      <td>4.063335</td>\n",
       "      <td>1.698690</td>\n",
       "      <td>6.030482</td>\n",
       "      <td>5.633852</td>\n",
       "      <td>5.789077</td>\n",
       "      <td>4.209795</td>\n",
       "      <td>3.557039</td>\n",
       "      <td>3.636883</td>\n",
       "      <td>4.012999</td>\n",
       "      <td>6.750415</td>\n",
       "      <td>3.618900</td>\n",
       "      <td>3.663344</td>\n",
       "      <td>4.295768</td>\n",
       "      <td>5.285682</td>\n",
       "      <td>5.748013</td>\n",
       "      <td>6.060036</td>\n",
       "      <td>3.962339</td>\n",
       "      <td>5.819094</td>\n",
       "      <td>4.581928</td>\n",
       "      <td>6.385012</td>\n",
       "      <td>5.746785</td>\n",
       "      <td>2.282720</td>\n",
       "      <td>4.039272</td>\n",
       "      <td>3.903669</td>\n",
       "      <td>6.578950</td>\n",
       "      <td>4.306464</td>\n",
       "      <td>4.170274</td>\n",
       "      <td>3.399074</td>\n",
       "      <td>5.133184</td>\n",
       "      <td>6.468761</td>\n",
       "      <td>4.738107</td>\n",
       "      <td>5.542091</td>\n",
       "      <td>4.857435</td>\n",
       "      <td>6.321168</td>\n",
       "      <td>6.254908</td>\n",
       "      <td>6.818300</td>\n",
       "      <td>4.658267</td>\n",
       "      <td>4.666890</td>\n",
       "      <td>2.095488</td>\n",
       "    </tr>\n",
       "    <tr>\n",
       "      <th>2</th>\n",
       "      <td>5.654650</td>\n",
       "      <td>5.987661</td>\n",
       "      <td>6.201621</td>\n",
       "      <td>5.139541</td>\n",
       "      <td>6.676333</td>\n",
       "      <td>5.184553</td>\n",
       "      <td>5.575550</td>\n",
       "      <td>6.976369</td>\n",
       "      <td>6.324258</td>\n",
       "      <td>6.176263</td>\n",
       "      <td>5.860596</td>\n",
       "      <td>6.360022</td>\n",
       "      <td>5.759309</td>\n",
       "      <td>5.575550</td>\n",
       "      <td>6.977119</td>\n",
       "      <td>6.074556</td>\n",
       "      <td>5.482230</td>\n",
       "      <td>6.029964</td>\n",
       "      <td>5.671408</td>\n",
       "      <td>5.541633</td>\n",
       "      <td>5.996084</td>\n",
       "      <td>6.693101</td>\n",
       "      <td>5.704874</td>\n",
       "      <td>5.344057</td>\n",
       "      <td>6.067674</td>\n",
       "      <td>6.045899</td>\n",
       "      <td>6.067674</td>\n",
       "      <td>4.934840</td>\n",
       "      <td>6.639100</td>\n",
       "      <td>4.882702</td>\n",
       "      <td>5.197932</td>\n",
       "      <td>6.233199</td>\n",
       "      <td>5.654650</td>\n",
       "      <td>5.902097</td>\n",
       "      <td>5.929117</td>\n",
       "      <td>6.154077</td>\n",
       "      <td>6.984703</td>\n",
       "      <td>6.655868</td>\n",
       "      <td>6.507877</td>\n",
       "      <td>6.655868</td>\n",
       "      <td>...</td>\n",
       "      <td>4.949468</td>\n",
       "      <td>4.093768</td>\n",
       "      <td>2.417868</td>\n",
       "      <td>5.375081</td>\n",
       "      <td>5.589625</td>\n",
       "      <td>5.420224</td>\n",
       "      <td>4.660750</td>\n",
       "      <td>3.427034</td>\n",
       "      <td>3.092520</td>\n",
       "      <td>4.254983</td>\n",
       "      <td>6.050896</td>\n",
       "      <td>3.733810</td>\n",
       "      <td>3.932741</td>\n",
       "      <td>3.894573</td>\n",
       "      <td>5.182029</td>\n",
       "      <td>5.147453</td>\n",
       "      <td>5.114473</td>\n",
       "      <td>3.491745</td>\n",
       "      <td>5.188218</td>\n",
       "      <td>5.262986</td>\n",
       "      <td>5.895582</td>\n",
       "      <td>4.927320</td>\n",
       "      <td>2.633246</td>\n",
       "      <td>4.361275</td>\n",
       "      <td>3.687963</td>\n",
       "      <td>6.165249</td>\n",
       "      <td>4.466291</td>\n",
       "      <td>4.504295</td>\n",
       "      <td>3.969706</td>\n",
       "      <td>5.048618</td>\n",
       "      <td>6.309285</td>\n",
       "      <td>4.854589</td>\n",
       "      <td>5.042493</td>\n",
       "      <td>5.227184</td>\n",
       "      <td>5.932049</td>\n",
       "      <td>5.586850</td>\n",
       "      <td>5.594410</td>\n",
       "      <td>4.519252</td>\n",
       "      <td>4.692695</td>\n",
       "      <td>2.281243</td>\n",
       "    </tr>\n",
       "    <tr>\n",
       "      <th>3</th>\n",
       "      <td>5.152013</td>\n",
       "      <td>5.324901</td>\n",
       "      <td>5.939574</td>\n",
       "      <td>4.300166</td>\n",
       "      <td>6.228560</td>\n",
       "      <td>4.464556</td>\n",
       "      <td>4.923100</td>\n",
       "      <td>6.390927</td>\n",
       "      <td>5.949595</td>\n",
       "      <td>5.914769</td>\n",
       "      <td>5.590055</td>\n",
       "      <td>5.994618</td>\n",
       "      <td>5.002949</td>\n",
       "      <td>4.923100</td>\n",
       "      <td>6.538999</td>\n",
       "      <td>5.482309</td>\n",
       "      <td>5.246434</td>\n",
       "      <td>5.163273</td>\n",
       "      <td>5.095186</td>\n",
       "      <td>5.051210</td>\n",
       "      <td>5.459000</td>\n",
       "      <td>5.906728</td>\n",
       "      <td>5.372267</td>\n",
       "      <td>4.711669</td>\n",
       "      <td>5.665728</td>\n",
       "      <td>5.721786</td>\n",
       "      <td>5.665728</td>\n",
       "      <td>4.262275</td>\n",
       "      <td>6.289041</td>\n",
       "      <td>4.399534</td>\n",
       "      <td>4.976891</td>\n",
       "      <td>5.907276</td>\n",
       "      <td>5.152013</td>\n",
       "      <td>5.586962</td>\n",
       "      <td>5.005508</td>\n",
       "      <td>5.556576</td>\n",
       "      <td>6.520190</td>\n",
       "      <td>5.967209</td>\n",
       "      <td>6.044838</td>\n",
       "      <td>5.967209</td>\n",
       "      <td>...</td>\n",
       "      <td>4.299734</td>\n",
       "      <td>4.192379</td>\n",
       "      <td>3.053888</td>\n",
       "      <td>4.816602</td>\n",
       "      <td>5.318452</td>\n",
       "      <td>5.075937</td>\n",
       "      <td>4.471646</td>\n",
       "      <td>2.875244</td>\n",
       "      <td>2.622757</td>\n",
       "      <td>4.262457</td>\n",
       "      <td>5.003367</td>\n",
       "      <td>3.914511</td>\n",
       "      <td>3.738231</td>\n",
       "      <td>3.738331</td>\n",
       "      <td>4.610332</td>\n",
       "      <td>4.875160</td>\n",
       "      <td>4.202278</td>\n",
       "      <td>3.188816</td>\n",
       "      <td>5.154276</td>\n",
       "      <td>5.337325</td>\n",
       "      <td>5.495481</td>\n",
       "      <td>4.479488</td>\n",
       "      <td>2.438815</td>\n",
       "      <td>4.193552</td>\n",
       "      <td>3.331860</td>\n",
       "      <td>5.939722</td>\n",
       "      <td>4.279363</td>\n",
       "      <td>4.329161</td>\n",
       "      <td>4.326550</td>\n",
       "      <td>4.613214</td>\n",
       "      <td>5.633035</td>\n",
       "      <td>4.569683</td>\n",
       "      <td>4.656611</td>\n",
       "      <td>4.672363</td>\n",
       "      <td>5.438906</td>\n",
       "      <td>5.564478</td>\n",
       "      <td>4.741648</td>\n",
       "      <td>4.198390</td>\n",
       "      <td>4.740825</td>\n",
       "      <td>2.051468</td>\n",
       "    </tr>\n",
       "    <tr>\n",
       "      <th>4</th>\n",
       "      <td>4.961243</td>\n",
       "      <td>5.341709</td>\n",
       "      <td>6.046691</td>\n",
       "      <td>3.943275</td>\n",
       "      <td>6.304092</td>\n",
       "      <td>4.482422</td>\n",
       "      <td>5.127512</td>\n",
       "      <td>6.508248</td>\n",
       "      <td>5.966927</td>\n",
       "      <td>6.284906</td>\n",
       "      <td>5.681175</td>\n",
       "      <td>6.181943</td>\n",
       "      <td>5.024550</td>\n",
       "      <td>5.127512</td>\n",
       "      <td>6.551762</td>\n",
       "      <td>5.335249</td>\n",
       "      <td>5.400468</td>\n",
       "      <td>5.089133</td>\n",
       "      <td>5.000799</td>\n",
       "      <td>5.367438</td>\n",
       "      <td>5.409327</td>\n",
       "      <td>5.962354</td>\n",
       "      <td>5.331489</td>\n",
       "      <td>4.925789</td>\n",
       "      <td>5.622850</td>\n",
       "      <td>5.697005</td>\n",
       "      <td>5.622850</td>\n",
       "      <td>4.232038</td>\n",
       "      <td>6.314144</td>\n",
       "      <td>4.423303</td>\n",
       "      <td>5.218609</td>\n",
       "      <td>5.850267</td>\n",
       "      <td>4.961243</td>\n",
       "      <td>5.510881</td>\n",
       "      <td>4.702336</td>\n",
       "      <td>5.462011</td>\n",
       "      <td>6.611046</td>\n",
       "      <td>5.972406</td>\n",
       "      <td>6.292638</td>\n",
       "      <td>5.972406</td>\n",
       "      <td>...</td>\n",
       "      <td>4.173238</td>\n",
       "      <td>4.380150</td>\n",
       "      <td>3.652801</td>\n",
       "      <td>4.625836</td>\n",
       "      <td>5.566333</td>\n",
       "      <td>4.638105</td>\n",
       "      <td>4.657548</td>\n",
       "      <td>2.745671</td>\n",
       "      <td>2.476937</td>\n",
       "      <td>4.350539</td>\n",
       "      <td>4.745904</td>\n",
       "      <td>4.193861</td>\n",
       "      <td>3.762823</td>\n",
       "      <td>3.503009</td>\n",
       "      <td>4.540533</td>\n",
       "      <td>4.572863</td>\n",
       "      <td>3.703478</td>\n",
       "      <td>3.245241</td>\n",
       "      <td>4.870700</td>\n",
       "      <td>5.593453</td>\n",
       "      <td>5.139408</td>\n",
       "      <td>4.104510</td>\n",
       "      <td>2.714234</td>\n",
       "      <td>4.475817</td>\n",
       "      <td>3.391708</td>\n",
       "      <td>5.723969</td>\n",
       "      <td>4.379442</td>\n",
       "      <td>4.743739</td>\n",
       "      <td>4.692950</td>\n",
       "      <td>4.837567</td>\n",
       "      <td>5.738991</td>\n",
       "      <td>4.481007</td>\n",
       "      <td>4.464452</td>\n",
       "      <td>4.900910</td>\n",
       "      <td>5.389019</td>\n",
       "      <td>5.325033</td>\n",
       "      <td>4.105861</td>\n",
       "      <td>4.248100</td>\n",
       "      <td>4.968138</td>\n",
       "      <td>2.160756</td>\n",
       "    </tr>\n",
       "  </tbody>\n",
       "</table>\n",
       "<p>5 rows × 1000 columns</p>\n",
       "</div>"
      ],
      "text/plain": [
       "        0         1         2    ...       997       998       999\n",
       "0  6.630777  6.841288  5.853478  ...  4.683947  4.466469  2.178893\n",
       "1  6.287794  6.221057  6.192528  ...  4.658267  4.666890  2.095488\n",
       "2  5.654650  5.987661  6.201621  ...  4.519252  4.692695  2.281243\n",
       "3  5.152013  5.324901  5.939574  ...  4.198390  4.740825  2.051468\n",
       "4  4.961243  5.341709  6.046691  ...  4.248100  4.968138  2.160756\n",
       "\n",
       "[5 rows x 1000 columns]"
      ]
     },
     "execution_count": 99,
     "metadata": {
      "tags": []
     },
     "output_type": "execute_result"
    }
   ],
   "source": [
    "predicted_data.head()"
   ]
  },
  {
   "cell_type": "code",
   "execution_count": 114,
   "metadata": {
    "id": "vEoQT-XH0WZw"
   },
   "outputs": [],
   "source": [
    "##transpose the predicted Data\n",
    "t_p = predicted_data.transpose()"
   ]
  },
  {
   "cell_type": "code",
   "execution_count": 115,
   "metadata": {
    "colab": {
     "base_uri": "https://localhost:8080/",
     "height": 224
    },
    "id": "y325XpKv0bAL",
    "outputId": "f6c8f1b5-1dc0-4ebd-8eb7-d224f5512d9c"
   },
   "outputs": [
    {
     "name": "stdout",
     "output_type": "stream",
     "text": [
      "(1000, 5)\n"
     ]
    },
    {
     "data": {
      "text/html": [
       "<div>\n",
       "<style scoped>\n",
       "    .dataframe tbody tr th:only-of-type {\n",
       "        vertical-align: middle;\n",
       "    }\n",
       "\n",
       "    .dataframe tbody tr th {\n",
       "        vertical-align: top;\n",
       "    }\n",
       "\n",
       "    .dataframe thead th {\n",
       "        text-align: right;\n",
       "    }\n",
       "</style>\n",
       "<table border=\"1\" class=\"dataframe\">\n",
       "  <thead>\n",
       "    <tr style=\"text-align: right;\">\n",
       "      <th></th>\n",
       "      <th>0</th>\n",
       "      <th>1</th>\n",
       "      <th>2</th>\n",
       "      <th>3</th>\n",
       "      <th>4</th>\n",
       "    </tr>\n",
       "  </thead>\n",
       "  <tbody>\n",
       "    <tr>\n",
       "      <th>0</th>\n",
       "      <td>6.630777</td>\n",
       "      <td>6.287794</td>\n",
       "      <td>5.654650</td>\n",
       "      <td>5.152013</td>\n",
       "      <td>4.961243</td>\n",
       "    </tr>\n",
       "    <tr>\n",
       "      <th>1</th>\n",
       "      <td>6.841288</td>\n",
       "      <td>6.221057</td>\n",
       "      <td>5.987661</td>\n",
       "      <td>5.324901</td>\n",
       "      <td>5.341709</td>\n",
       "    </tr>\n",
       "    <tr>\n",
       "      <th>2</th>\n",
       "      <td>5.853478</td>\n",
       "      <td>6.192528</td>\n",
       "      <td>6.201621</td>\n",
       "      <td>5.939574</td>\n",
       "      <td>6.046691</td>\n",
       "    </tr>\n",
       "    <tr>\n",
       "      <th>3</th>\n",
       "      <td>6.693048</td>\n",
       "      <td>6.043805</td>\n",
       "      <td>5.139541</td>\n",
       "      <td>4.300166</td>\n",
       "      <td>3.943275</td>\n",
       "    </tr>\n",
       "    <tr>\n",
       "      <th>4</th>\n",
       "      <td>6.856077</td>\n",
       "      <td>6.694147</td>\n",
       "      <td>6.676333</td>\n",
       "      <td>6.228560</td>\n",
       "      <td>6.304092</td>\n",
       "    </tr>\n",
       "  </tbody>\n",
       "</table>\n",
       "</div>"
      ],
      "text/plain": [
       "          0         1         2         3         4\n",
       "0  6.630777  6.287794  5.654650  5.152013  4.961243\n",
       "1  6.841288  6.221057  5.987661  5.324901  5.341709\n",
       "2  5.853478  6.192528  6.201621  5.939574  6.046691\n",
       "3  6.693048  6.043805  5.139541  4.300166  3.943275\n",
       "4  6.856077  6.694147  6.676333  6.228560  6.304092"
      ]
     },
     "execution_count": 115,
     "metadata": {
      "tags": []
     },
     "output_type": "execute_result"
    }
   ],
   "source": [
    "print(t_p.shape)\n",
    "t_p.head()"
   ]
  },
  {
   "cell_type": "code",
   "execution_count": 116,
   "metadata": {
    "id": "vpJjkUt10d1v"
   },
   "outputs": [],
   "source": [
    "##converting the datatype int float\n",
    "for i in t_p.columns:\n",
    "  t_p[i] = t_p[i].astype(int)  # converting the datatype into float\n",
    "\n"
   ]
  },
  {
   "cell_type": "code",
   "execution_count": 122,
   "metadata": {
    "id": "oy4H8FTP0gbF"
   },
   "outputs": [],
   "source": [
    "t_p = t_p.rename(columns = {4:\"M5\",3:\"T5\",2:\"W5\",1:\"TH5\",0:\"F5\"})\n"
   ]
  },
  {
   "cell_type": "code",
   "execution_count": 123,
   "metadata": {
    "id": "Gawjj7X72D9c"
   },
   "outputs": [],
   "source": [
    "td = t_p[[\"M5\",\"T5\",\"W5\",\"TH5\",\"F5\"]]"
   ]
  },
  {
   "cell_type": "code",
   "execution_count": 125,
   "metadata": {
    "colab": {
     "base_uri": "https://localhost:8080/",
     "height": 206
    },
    "id": "TYWMs2iP1RK9",
    "outputId": "35733803-a675-46a6-b18d-e436323811cb"
   },
   "outputs": [
    {
     "data": {
      "text/html": [
       "<div>\n",
       "<style scoped>\n",
       "    .dataframe tbody tr th:only-of-type {\n",
       "        vertical-align: middle;\n",
       "    }\n",
       "\n",
       "    .dataframe tbody tr th {\n",
       "        vertical-align: top;\n",
       "    }\n",
       "\n",
       "    .dataframe thead th {\n",
       "        text-align: right;\n",
       "    }\n",
       "</style>\n",
       "<table border=\"1\" class=\"dataframe\">\n",
       "  <thead>\n",
       "    <tr style=\"text-align: right;\">\n",
       "      <th></th>\n",
       "      <th>M5</th>\n",
       "      <th>T5</th>\n",
       "      <th>W5</th>\n",
       "      <th>TH5</th>\n",
       "      <th>F5</th>\n",
       "    </tr>\n",
       "  </thead>\n",
       "  <tbody>\n",
       "    <tr>\n",
       "      <th>0</th>\n",
       "      <td>4</td>\n",
       "      <td>5</td>\n",
       "      <td>5</td>\n",
       "      <td>6</td>\n",
       "      <td>6</td>\n",
       "    </tr>\n",
       "    <tr>\n",
       "      <th>1</th>\n",
       "      <td>5</td>\n",
       "      <td>5</td>\n",
       "      <td>5</td>\n",
       "      <td>6</td>\n",
       "      <td>6</td>\n",
       "    </tr>\n",
       "    <tr>\n",
       "      <th>2</th>\n",
       "      <td>6</td>\n",
       "      <td>5</td>\n",
       "      <td>6</td>\n",
       "      <td>6</td>\n",
       "      <td>5</td>\n",
       "    </tr>\n",
       "    <tr>\n",
       "      <th>3</th>\n",
       "      <td>3</td>\n",
       "      <td>4</td>\n",
       "      <td>5</td>\n",
       "      <td>6</td>\n",
       "      <td>6</td>\n",
       "    </tr>\n",
       "    <tr>\n",
       "      <th>4</th>\n",
       "      <td>6</td>\n",
       "      <td>6</td>\n",
       "      <td>6</td>\n",
       "      <td>6</td>\n",
       "      <td>6</td>\n",
       "    </tr>\n",
       "  </tbody>\n",
       "</table>\n",
       "</div>"
      ],
      "text/plain": [
       "   M5  T5  W5  TH5  F5\n",
       "0   4   5   5    6   6\n",
       "1   5   5   5    6   6\n",
       "2   6   5   6    6   5\n",
       "3   3   4   5    6   6\n",
       "4   6   6   6    6   6"
      ]
     },
     "execution_count": 125,
     "metadata": {
      "tags": []
     },
     "output_type": "execute_result"
    }
   ],
   "source": [
    "td.head()"
   ]
  },
  {
   "cell_type": "code",
   "execution_count": 127,
   "metadata": {
    "id": "7FDO6Ld10x9N"
   },
   "outputs": [],
   "source": [
    "week_1_5 = data_imputed.join(td)"
   ]
  },
  {
   "cell_type": "code",
   "execution_count": 128,
   "metadata": {
    "colab": {
     "base_uri": "https://localhost:8080/",
     "height": 226
    },
    "id": "XWt1klod03dp",
    "outputId": "a13fb3ff-16d9-4899-ca4d-584938570d68"
   },
   "outputs": [
    {
     "data": {
      "text/html": [
       "<div>\n",
       "<style scoped>\n",
       "    .dataframe tbody tr th:only-of-type {\n",
       "        vertical-align: middle;\n",
       "    }\n",
       "\n",
       "    .dataframe tbody tr th {\n",
       "        vertical-align: top;\n",
       "    }\n",
       "\n",
       "    .dataframe thead th {\n",
       "        text-align: right;\n",
       "    }\n",
       "</style>\n",
       "<table border=\"1\" class=\"dataframe\">\n",
       "  <thead>\n",
       "    <tr style=\"text-align: right;\">\n",
       "      <th></th>\n",
       "      <th>Student</th>\n",
       "      <th>M1</th>\n",
       "      <th>T1</th>\n",
       "      <th>W1</th>\n",
       "      <th>TH1</th>\n",
       "      <th>F1</th>\n",
       "      <th>M2</th>\n",
       "      <th>T2</th>\n",
       "      <th>W2</th>\n",
       "      <th>TH2</th>\n",
       "      <th>F2</th>\n",
       "      <th>M3</th>\n",
       "      <th>T3</th>\n",
       "      <th>W3</th>\n",
       "      <th>TH3</th>\n",
       "      <th>F3</th>\n",
       "      <th>M4</th>\n",
       "      <th>T4</th>\n",
       "      <th>W4</th>\n",
       "      <th>TH4</th>\n",
       "      <th>F4</th>\n",
       "      <th>M5</th>\n",
       "      <th>T5</th>\n",
       "      <th>W5</th>\n",
       "      <th>TH5</th>\n",
       "      <th>F5</th>\n",
       "    </tr>\n",
       "  </thead>\n",
       "  <tbody>\n",
       "    <tr>\n",
       "      <th>0</th>\n",
       "      <td>1</td>\n",
       "      <td>4</td>\n",
       "      <td>5</td>\n",
       "      <td>5</td>\n",
       "      <td>6</td>\n",
       "      <td>7</td>\n",
       "      <td>1</td>\n",
       "      <td>2</td>\n",
       "      <td>3</td>\n",
       "      <td>4</td>\n",
       "      <td>5</td>\n",
       "      <td>3</td>\n",
       "      <td>4</td>\n",
       "      <td>5</td>\n",
       "      <td>6</td>\n",
       "      <td>7</td>\n",
       "      <td>4</td>\n",
       "      <td>5</td>\n",
       "      <td>6</td>\n",
       "      <td>7</td>\n",
       "      <td>7</td>\n",
       "      <td>4</td>\n",
       "      <td>5</td>\n",
       "      <td>5</td>\n",
       "      <td>6</td>\n",
       "      <td>6</td>\n",
       "    </tr>\n",
       "    <tr>\n",
       "      <th>1</th>\n",
       "      <td>2</td>\n",
       "      <td>1</td>\n",
       "      <td>2</td>\n",
       "      <td>3</td>\n",
       "      <td>4</td>\n",
       "      <td>5</td>\n",
       "      <td>5</td>\n",
       "      <td>5</td>\n",
       "      <td>6</td>\n",
       "      <td>6</td>\n",
       "      <td>7</td>\n",
       "      <td>3</td>\n",
       "      <td>4</td>\n",
       "      <td>5</td>\n",
       "      <td>6</td>\n",
       "      <td>7</td>\n",
       "      <td>6</td>\n",
       "      <td>6</td>\n",
       "      <td>7</td>\n",
       "      <td>7</td>\n",
       "      <td>7</td>\n",
       "      <td>5</td>\n",
       "      <td>5</td>\n",
       "      <td>5</td>\n",
       "      <td>6</td>\n",
       "      <td>6</td>\n",
       "    </tr>\n",
       "    <tr>\n",
       "      <th>2</th>\n",
       "      <td>3</td>\n",
       "      <td>3</td>\n",
       "      <td>4</td>\n",
       "      <td>5</td>\n",
       "      <td>6</td>\n",
       "      <td>7</td>\n",
       "      <td>2</td>\n",
       "      <td>3</td>\n",
       "      <td>4</td>\n",
       "      <td>5</td>\n",
       "      <td>6</td>\n",
       "      <td>5</td>\n",
       "      <td>6</td>\n",
       "      <td>6</td>\n",
       "      <td>7</td>\n",
       "      <td>7</td>\n",
       "      <td>2</td>\n",
       "      <td>3</td>\n",
       "      <td>4</td>\n",
       "      <td>5</td>\n",
       "      <td>6</td>\n",
       "      <td>6</td>\n",
       "      <td>5</td>\n",
       "      <td>6</td>\n",
       "      <td>6</td>\n",
       "      <td>5</td>\n",
       "    </tr>\n",
       "    <tr>\n",
       "      <th>3</th>\n",
       "      <td>4</td>\n",
       "      <td>1</td>\n",
       "      <td>2</td>\n",
       "      <td>3</td>\n",
       "      <td>4</td>\n",
       "      <td>5</td>\n",
       "      <td>1</td>\n",
       "      <td>2</td>\n",
       "      <td>3</td>\n",
       "      <td>4</td>\n",
       "      <td>5</td>\n",
       "      <td>1</td>\n",
       "      <td>2</td>\n",
       "      <td>3</td>\n",
       "      <td>4</td>\n",
       "      <td>5</td>\n",
       "      <td>4</td>\n",
       "      <td>5</td>\n",
       "      <td>6</td>\n",
       "      <td>7</td>\n",
       "      <td>7</td>\n",
       "      <td>3</td>\n",
       "      <td>4</td>\n",
       "      <td>5</td>\n",
       "      <td>6</td>\n",
       "      <td>6</td>\n",
       "    </tr>\n",
       "    <tr>\n",
       "      <th>4</th>\n",
       "      <td>5</td>\n",
       "      <td>2</td>\n",
       "      <td>3</td>\n",
       "      <td>4</td>\n",
       "      <td>5</td>\n",
       "      <td>6</td>\n",
       "      <td>5</td>\n",
       "      <td>5</td>\n",
       "      <td>6</td>\n",
       "      <td>6</td>\n",
       "      <td>7</td>\n",
       "      <td>5</td>\n",
       "      <td>6</td>\n",
       "      <td>6</td>\n",
       "      <td>7</td>\n",
       "      <td>7</td>\n",
       "      <td>4</td>\n",
       "      <td>5</td>\n",
       "      <td>6</td>\n",
       "      <td>7</td>\n",
       "      <td>7</td>\n",
       "      <td>6</td>\n",
       "      <td>6</td>\n",
       "      <td>6</td>\n",
       "      <td>6</td>\n",
       "      <td>6</td>\n",
       "    </tr>\n",
       "  </tbody>\n",
       "</table>\n",
       "</div>"
      ],
      "text/plain": [
       "   Student  M1  T1  W1  TH1  F1  M2  T2  ...  W4  TH4  F4  M5  T5  W5  TH5  F5\n",
       "0        1   4   5   5    6   7   1   2  ...   6    7   7   4   5   5    6   6\n",
       "1        2   1   2   3    4   5   5   5  ...   7    7   7   5   5   5    6   6\n",
       "2        3   3   4   5    6   7   2   3  ...   4    5   6   6   5   6    6   5\n",
       "3        4   1   2   3    4   5   1   2  ...   6    7   7   3   4   5    6   6\n",
       "4        5   2   3   4    5   6   5   5  ...   6    7   7   6   6   6    6   6\n",
       "\n",
       "[5 rows x 26 columns]"
      ]
     },
     "execution_count": 128,
     "metadata": {
      "tags": []
     },
     "output_type": "execute_result"
    }
   ],
   "source": [
    "week_1_5.head()"
   ]
  },
  {
   "cell_type": "code",
   "execution_count": 130,
   "metadata": {
    "colab": {
     "base_uri": "https://localhost:8080/"
    },
    "id": "CDL33QTQ3SNB",
    "outputId": "bcaa956c-981a-4699-8112-cf76431c51ed"
   },
   "outputs": [
    {
     "name": "stdout",
     "output_type": "stream",
     "text": [
      "Model accuracy of week4  data with previous weeks data : \n",
      "Mon 36.6\n",
      "Tues 17.299999999999997\n",
      "Wed 18.9\n",
      "Thus 16.900000000000002\n",
      "Fri 25.8\n"
     ]
    }
   ],
   "source": [
    "data_p = week_1_5.values\n",
    "days = [\"Mon\",\"Tues\",\"Wed\",\"Thus\",\"Fri\"]\n",
    "print(\"Model accuracy of week4  data with previous weeks data : \")\n",
    "week_3_2 = []\n",
    "for i in range(5):\n",
    "  X =data_p[:,i+10]\n",
    "  y =  data_p[:,i+15]\n",
    "  acc = accuracy(y, X)\n",
    "  week_3_2.append(acc)\n",
    "  print(days[i], acc*100)"
   ]
  },
  {
   "cell_type": "code",
   "execution_count": 132,
   "metadata": {
    "colab": {
     "base_uri": "https://localhost:8080/"
    },
    "id": "arm_8Ibc3pW_",
    "outputId": "c9c13a67-42ee-4ff7-d3b6-2e238250f61f"
   },
   "outputs": [
    {
     "name": "stdout",
     "output_type": "stream",
     "text": [
      "Model accuracy of predicted data with previous weeks data : \n",
      "Mon 38.2\n",
      "Tues 18.0\n",
      "Wed 16.0\n",
      "Thus 13.900000000000002\n",
      "Fri 23.7\n"
     ]
    }
   ],
   "source": [
    "data_p = week_1_5.values\n",
    "days = [\"Mon\",\"Tues\",\"Wed\",\"Thus\",\"Fri\"]\n",
    "week_4_3 = []\n",
    "print(\"Model accuracy of predicted data with previous weeks data : \")\n",
    "for i in range(5):\n",
    "  X =data_p[:,i+15]\n",
    "  y =  data_p[:,i+20]\n",
    "  acc = accuracy(y, X)\n",
    "  week_4_3.append(acc)\n",
    "  print(days[i], acc*100)"
   ]
  },
  {
   "cell_type": "code",
   "execution_count": 136,
   "metadata": {
    "colab": {
     "base_uri": "https://localhost:8080/"
    },
    "id": "voJzVaWc31Mx",
    "outputId": "76311d54-3d82-457f-ce1b-c6550609cfc7"
   },
   "outputs": [
    {
     "name": "stdout",
     "output_type": "stream",
     "text": [
      "The accuracy percenntage of our imputed value is : 95.06493506493506\n"
     ]
    }
   ],
   "source": [
    "from statistics import mean\n",
    "\n",
    "per = (mean(week_4_3)/mean(week_3_2))*100\n",
    "\n",
    "print(\"The accuracy percenntage of our imputed value is :\",per)"
   ]
  },
  {
   "cell_type": "code",
   "execution_count": 148,
   "metadata": {
    "colab": {
     "base_uri": "https://localhost:8080/"
    },
    "id": "KxUNkecw38pv",
    "outputId": "8a9f12ec-8e0c-49f6-c6df-36012991b2f4"
   },
   "outputs": [
    {
     "name": "stdout",
     "output_type": "stream",
     "text": [
      "3.924153061745882\n"
     ]
    }
   ],
   "source": [
    "# MSE\n",
    "from sklearn.metrics import mean_squared_error\n",
    "from numpy import asarray as arr\n",
    "mse = mean_squared_error(valid, yhat)\n",
    "print(mse)"
   ]
  }
 ],
 "metadata": {
  "colab": {
   "name": "week4_dowell.ipynb",
   "provenance": [],
   "toc_visible": true
  },
  "kernelspec": {
   "display_name": "Python 3",
   "language": "python",
   "name": "python3"
  },
  "language_info": {
   "codemirror_mode": {
    "name": "ipython",
    "version": 3
   },
   "file_extension": ".py",
   "mimetype": "text/x-python",
   "name": "python",
   "nbconvert_exporter": "python",
   "pygments_lexer": "ipython3",
   "version": "3.8.5"
  }
 },
 "nbformat": 4,
 "nbformat_minor": 1
}
